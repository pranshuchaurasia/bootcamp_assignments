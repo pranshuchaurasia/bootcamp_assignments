{
 "cells": [
  {
   "cell_type": "markdown",
   "id": "42a0589a",
   "metadata": {},
   "source": [
    "#### Q1. What is the purpose of the try statement?"
   ]
  },
  {
   "cell_type": "code",
   "execution_count": null,
   "id": "02530959",
   "metadata": {},
   "outputs": [],
   "source": []
  },
  {
   "cell_type": "markdown",
   "id": "df73db64",
   "metadata": {},
   "source": [
    "#### Q2. What are the two most popular try statement variations?"
   ]
  },
  {
   "cell_type": "code",
   "execution_count": null,
   "id": "5dbea441",
   "metadata": {},
   "outputs": [],
   "source": []
  },
  {
   "cell_type": "markdown",
   "id": "0f839872",
   "metadata": {},
   "source": [
    "#### Q3. What is the purpose of the raise statement?"
   ]
  },
  {
   "cell_type": "code",
   "execution_count": null,
   "id": "9caaff82",
   "metadata": {},
   "outputs": [],
   "source": []
  },
  {
   "cell_type": "markdown",
   "id": "c3cd965f",
   "metadata": {},
   "source": [
    "#### Q4. What does the assert statement do, and what other statement is it like?"
   ]
  },
  {
   "cell_type": "code",
   "execution_count": null,
   "id": "f1c082a7",
   "metadata": {},
   "outputs": [],
   "source": []
  },
  {
   "cell_type": "markdown",
   "id": "48448d4f",
   "metadata": {},
   "source": [
    "#### Q5. What is the purpose of the with/as argument, and what other statement is it like?"
   ]
  },
  {
   "cell_type": "code",
   "execution_count": null,
   "id": "88adbfc4",
   "metadata": {},
   "outputs": [],
   "source": []
  }
 ],
 "metadata": {
  "kernelspec": {
   "display_name": "Python 3 (ipykernel)",
   "language": "python",
   "name": "python3"
  },
  "language_info": {
   "codemirror_mode": {
    "name": "ipython",
    "version": 3
   },
   "file_extension": ".py",
   "mimetype": "text/x-python",
   "name": "python",
   "nbconvert_exporter": "python",
   "pygments_lexer": "ipython3",
   "version": "3.9.7"
  }
 },
 "nbformat": 4,
 "nbformat_minor": 5
}
