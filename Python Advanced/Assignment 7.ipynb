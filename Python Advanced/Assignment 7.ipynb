{
 "cells": [
  {
   "cell_type": "markdown",
   "id": "42a0589a",
   "metadata": {},
   "source": [
    "#### Q1. What is the purpose of the try statement?"
   ]
  },
  {
   "cell_type": "markdown",
   "id": "fc27d5d0",
   "metadata": {},
   "source": [
    "The try statement allows you to define a block of code to be tested for errors while it is being executed. "
   ]
  },
  {
   "cell_type": "markdown",
   "id": "df73db64",
   "metadata": {},
   "source": [
    "#### Q2. What are the two most popular try statement variations?"
   ]
  },
  {
   "cell_type": "markdown",
   "id": "172520e0",
   "metadata": {},
   "source": [
    "There are two other optional segments to a try block: else and finally. Both of these optional blocks will come after the try and the except. </br>\n",
    "    while True: </br>\n",
    "  try: </br>\n",
    "    num = int(input(\"Enter an int: \"))</br>\n",
    "  except Exception as e:</br>\n",
    "    print(e)</br>\n",
    "  else:</br>\n",
    "    print(\"Thank you for the integer!\")</br>\n",
    "    break</br>"
   ]
  },
  {
   "cell_type": "markdown",
   "id": "0f839872",
   "metadata": {},
   "source": [
    "#### Q3. What is the purpose of the raise statement?"
   ]
  },
  {
   "cell_type": "markdown",
   "id": "801c1010",
   "metadata": {},
   "source": [
    " Python raise Keyword is used to raise exceptions or errors. The raise keyword raises an error and stops the control flow of the program."
   ]
  },
  {
   "cell_type": "markdown",
   "id": "c3cd965f",
   "metadata": {},
   "source": [
    "#### Q4. What does the assert statement do, and what other statement is it like?"
   ]
  },
  {
   "cell_type": "markdown",
   "id": "d611d43e",
   "metadata": {},
   "source": [
    "The assert keyword is used when debugging code. The assert keyword lets you test if a condition in your code returns True, if not, the program will raise an AssertionError. "
   ]
  },
  {
   "cell_type": "markdown",
   "id": "48448d4f",
   "metadata": {},
   "source": [
    "#### Q5. What is the purpose of the with/as argument, and what other statement is it like?"
   ]
  },
  {
   "cell_type": "markdown",
   "id": "222bf2e6",
   "metadata": {},
   "source": [
    "The with statement is a replacement for commonly used try/finally error-handling statements. In Python, with statement is used in exception handling to make the code cleaner and much more readable. It simplifies the management of common resources like file streams. Observe the following code example on how the use of with statement makes code cleaner. "
   ]
  },
  {
   "cell_type": "code",
   "execution_count": null,
   "id": "d562c984",
   "metadata": {},
   "outputs": [],
   "source": []
  }
 ],
 "metadata": {
  "kernelspec": {
   "display_name": "Python 3 (ipykernel)",
   "language": "python",
   "name": "python3"
  },
  "language_info": {
   "codemirror_mode": {
    "name": "ipython",
    "version": 3
   },
   "file_extension": ".py",
   "mimetype": "text/x-python",
   "name": "python",
   "nbconvert_exporter": "python",
   "pygments_lexer": "ipython3",
   "version": "3.9.7"
  }
 },
 "nbformat": 4,
 "nbformat_minor": 5
}
