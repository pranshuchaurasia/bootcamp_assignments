{
 "cells": [
  {
   "cell_type": "markdown",
   "id": "ecc2bf73",
   "metadata": {},
   "source": [
    "#### Q1. What is the distinction between a numpy array and a pandas data frame? Is there a way toconvert between the two if there is?"
   ]
  },
  {
   "cell_type": "code",
   "execution_count": null,
   "id": "a0a03b2f",
   "metadata": {},
   "outputs": [],
   "source": []
  },
  {
   "cell_type": "markdown",
   "id": "7e73a341",
   "metadata": {},
   "source": [
    "#### Q2. What can go wrong when an user enters in a stock-ticker symbol, and how do you handle it?"
   ]
  },
  {
   "cell_type": "code",
   "execution_count": null,
   "id": "8ae89371",
   "metadata": {},
   "outputs": [],
   "source": []
  },
  {
   "cell_type": "markdown",
   "id": "26c6c0eb",
   "metadata": {},
   "source": [
    "#### Q3. Identify some of the plotting techniques that are used to produce a stock-market chart."
   ]
  },
  {
   "cell_type": "code",
   "execution_count": null,
   "id": "c1253e2a",
   "metadata": {},
   "outputs": [],
   "source": []
  },
  {
   "cell_type": "markdown",
   "id": "761e7249",
   "metadata": {},
   "source": [
    "#### Q4. Why is it essential to print a legend on a stock market chart?"
   ]
  },
  {
   "cell_type": "code",
   "execution_count": null,
   "id": "6a443895",
   "metadata": {},
   "outputs": [],
   "source": []
  },
  {
   "cell_type": "markdown",
   "id": "cea843c9",
   "metadata": {},
   "source": [
    "#### Q5. What is the best way to limit the length of a pandas data frame to less than a year?"
   ]
  },
  {
   "cell_type": "code",
   "execution_count": null,
   "id": "34a4fec6",
   "metadata": {},
   "outputs": [],
   "source": []
  },
  {
   "cell_type": "markdown",
   "id": "0634b877",
   "metadata": {},
   "source": [
    "#### Q6. What is the definition of a 180-day moving average?"
   ]
  },
  {
   "cell_type": "code",
   "execution_count": null,
   "id": "cef17dd4",
   "metadata": {},
   "outputs": [],
   "source": []
  },
  {
   "cell_type": "markdown",
   "id": "6790e742",
   "metadata": {},
   "source": [
    "#### Q7. Did the chapter&#39;s final example use &quot;indirect&quot; importing? If so, how exactly do you do it?"
   ]
  },
  {
   "cell_type": "code",
   "execution_count": null,
   "id": "40b1bd86",
   "metadata": {},
   "outputs": [],
   "source": []
  },
  {
   "cell_type": "code",
   "execution_count": null,
   "id": "bc259152",
   "metadata": {},
   "outputs": [],
   "source": []
  }
 ],
 "metadata": {
  "kernelspec": {
   "display_name": "Python 3 (ipykernel)",
   "language": "python",
   "name": "python3"
  },
  "language_info": {
   "codemirror_mode": {
    "name": "ipython",
    "version": 3
   },
   "file_extension": ".py",
   "mimetype": "text/x-python",
   "name": "python",
   "nbconvert_exporter": "python",
   "pygments_lexer": "ipython3",
   "version": "3.9.7"
  }
 },
 "nbformat": 4,
 "nbformat_minor": 5
}
