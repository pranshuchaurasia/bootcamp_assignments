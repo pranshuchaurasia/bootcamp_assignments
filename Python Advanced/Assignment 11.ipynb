{
 "cells": [
  {
   "cell_type": "markdown",
   "id": "792f2efb",
   "metadata": {},
   "source": [
    "#### Q1. What is the concept of a metaclass?"
   ]
  },
  {
   "cell_type": "code",
   "execution_count": null,
   "id": "d67bcf16",
   "metadata": {},
   "outputs": [],
   "source": []
  },
  {
   "cell_type": "markdown",
   "id": "a5344700",
   "metadata": {},
   "source": [
    "#### Q2. What is the best way to declare a class&#39;s metaclass?"
   ]
  },
  {
   "cell_type": "code",
   "execution_count": null,
   "id": "ef94ec11",
   "metadata": {},
   "outputs": [],
   "source": []
  },
  {
   "cell_type": "markdown",
   "id": "d722f931",
   "metadata": {},
   "source": [
    "#### Q3. How do class decorators overlap with metaclasses for handling classes?"
   ]
  },
  {
   "cell_type": "code",
   "execution_count": null,
   "id": "666233a7",
   "metadata": {},
   "outputs": [],
   "source": []
  },
  {
   "cell_type": "markdown",
   "id": "9a6099b2",
   "metadata": {},
   "source": [
    "#### Q4. How do class decorators overlap with metaclasses for handling instances?"
   ]
  },
  {
   "cell_type": "code",
   "execution_count": null,
   "id": "b6553de5",
   "metadata": {},
   "outputs": [],
   "source": []
  }
 ],
 "metadata": {
  "kernelspec": {
   "display_name": "Python 3 (ipykernel)",
   "language": "python",
   "name": "python3"
  },
  "language_info": {
   "codemirror_mode": {
    "name": "ipython",
    "version": 3
   },
   "file_extension": ".py",
   "mimetype": "text/x-python",
   "name": "python",
   "nbconvert_exporter": "python",
   "pygments_lexer": "ipython3",
   "version": "3.9.7"
  }
 },
 "nbformat": 4,
 "nbformat_minor": 5
}
