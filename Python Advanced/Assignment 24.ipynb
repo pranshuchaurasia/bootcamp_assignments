{
 "cells": [
  {
   "cell_type": "markdown",
   "id": "3caf0ce6",
   "metadata": {},
   "source": [
    "#### Q1. Is it permissible to use several import statements to import the same module? What would the goal be? Can you think of a situation where it would be beneficial?"
   ]
  },
  {
   "cell_type": "markdown",
   "id": "4cfa0c4c",
   "metadata": {},
   "source": [
    "es, it is permissible to use several import statements to import the same module. It is used in case when we have to import multiple functions from same module."
   ]
  },
  {
   "cell_type": "markdown",
   "id": "314042af",
   "metadata": {},
   "source": [
    "#### Q2. What are some of a module&#39;s characteristics? (Name at least one.)"
   ]
  },
  {
   "cell_type": "markdown",
   "id": "275f973d",
   "metadata": {},
   "source": [
    "he following are some of a module's characteristics:\n",
    "\n",
    "    __name__ : It returns the name of the module\n",
    "    __doc__ : It denotes the documentation string line written in a module code.\n",
    "    __file__ : It holds the name and path of the module file from which it is loaded\n",
    "    __dict__ : It return a dictionary object of module attributes, functions and other definitions and their respective values\n"
   ]
  },
  {
   "cell_type": "markdown",
   "id": "0a6e53f1",
   "metadata": {},
   "source": [
    "#### Q3. Circular importing, such as when two modules import each other, can lead to dependencies and bugs that aren&#39;t visible. How can you go about creating a program that avoids mutual importing?"
   ]
  },
  {
   "cell_type": "markdown",
   "id": "248a5d04",
   "metadata": {},
   "source": [
    "Circular importing means importing the two modules in each other. If suppose we are wokring in MOD1.py file and it is importing some function say F2() from some other module say MOD2.PY file or we can do vice-versa. What will happen is: This will give an import error.\n",
    "\n",
    "This is because when we import F2() function from module MOD2.py, then this will execute MOD2.py file. And in MOD2.py file there is an another statement of importing MOD1.py module.\n",
    "\n",
    "This will result in endless loop. To avoid this error just do one thingWe can use if __name__ == '__main__'\n",
    "\n",
    "In the function, you can't directly refer to the function in the program. The addition of this sentence avoids the endless loop of the program ."
   ]
  },
  {
   "cell_type": "markdown",
   "id": "78fa9bae",
   "metadata": {},
   "source": [
    "#### Q4. Why is _ _all_ _ in Python?"
   ]
  },
  {
   "cell_type": "markdown",
   "id": "ed30cd56",
   "metadata": {},
   "source": [
    "n short, __all__ on package level does approximately the same thing as for modules, except it deals with modules within the package (in contrast to specifying names within the module). So __all__ specifies all modules that shall be loaded and imported into the current namespace when us use from package import *."
   ]
  },
  {
   "cell_type": "markdown",
   "id": "e955ae18",
   "metadata": {},
   "source": [
    "#### Q5. In what situation is it useful to refer to the _ _name_ _ attribute or the string &#39;_ _main_ _&#39;?"
   ]
  },
  {
   "cell_type": "markdown",
   "id": "0d0646f9",
   "metadata": {},
   "source": [
    "During the time of execution of the code if we want to refer the module in which we are working on then we uses name attribute. In that case it will return the module in which we are working on. Suppose if that moudle is being imported from some other module then name will have the name of that moudle from where the current module has been imported. The current module in which we are working is refer to the string __main __."
   ]
  },
  {
   "cell_type": "markdown",
   "id": "321926a4",
   "metadata": {},
   "source": [
    "#### Q6. What are some of the benefits of attaching a program counter to the RPN interpreter application, which interprets an RPN script line by line?"
   ]
  },
  {
   "cell_type": "markdown",
   "id": "d4621018",
   "metadata": {},
   "source": [
    "Reverse Polish notation (RPN) is a method for conveying mathematical expressions without the use of separators such as brackets and parentheses. In this notation, the operators follow their operands, hence removing the need for brackets to define evaluation priority. The operation is read from left to right but execution is done every time an operator is reached, and always using the last two numbers as the operands. This notation is suited for computers and calculators since there are fewer characters to track and fewer operations to execute. "
   ]
  },
  {
   "cell_type": "markdown",
   "id": "3d6b09fd",
   "metadata": {},
   "source": [
    "#### Q7. What are the minimum expressions or statements (or both) that you&#39;d need to render a basic programming language like RPN primitive but complete— that is, capable of carrying out any computerised task theoretically possible?"
   ]
  },
  {
   "cell_type": "markdown",
   "id": "ed925ecd",
   "metadata": {},
   "source": [
    "In comparison, testing of reverse Polish notation with algebraic notation, reverse Polish has been found to lead to faster calculations, for two reasons. The first reason is that reverse Polish calculators do not need expressions to be parenthesized, so fewer operations need to be entered to perform typical calculations. Additionally, users of reverse Polish calculators made fewer mistakes than for other types of calculators."
   ]
  },
  {
   "cell_type": "markdown",
   "id": "8c05f384",
   "metadata": {},
   "source": [
    "In Reverse Polish Notation, the operators follow their operands - for instance, to add 3 and 4, one would write:\n",
    "\n",
    "3 4 +\n",
    "\n",
    "rather than:\n",
    "\n",
    "3 + 4\n",
    "\n",
    "If there are multiple operations, operators are given immediately after their second operands, so the conventional expression:\n",
    "\n",
    "3 - 4 + 5\n",
    "\n",
    "would be written like this in reverse Polish notation:\n",
    "\n",
    "3 4 - 5 +\n",
    "\n",
    "Essentially this means that 4 is first subtracted from 3, then 5 is added to it. An advantage of reverse Polish notation is that it removes the need for the parentheses () that are required by InFix notation (InFix notation is simply the name given to conventional notation for expressions such as these). Using the example above it could possibly have the following two interpretations:\n",
    "\n",
    "3 - (4 * 5)\n",
    "(3 - 4) * 5\n",
    "\n",
    "Both those expressions will give quite different results, yet use the same values and operands. In Reverse Polish Notation this ambiguity is removed. The former example 3 - (4 * 5) of could be written:\n",
    "\n",
    "3 4 5 * -\n",
    "\n",
    "which unambiguously means 3 (4 5 *) - which in turn reduces to 3 20 - , which finally gives -17. On the other hand the second \"version\" could be written\n",
    "\n",
    "3 4 - 5 *\n",
    "\n",
    "which unambiguously means (3 4 -) 5 * which gives -5. This can be thought of as a series of stack operations, ie:\n",
    "\n",
    "    When the RPN script parser comes across a value, it pushes it onto the top of the stack.\n",
    "    When the script parser comes across an operator, it pops from the stack the number of operands that the operator works on (usually one or two values).\n",
    "    Whatever value is left on top of the stack at the end of the execution is the result of the calculated expression.\n"
   ]
  },
  {
   "cell_type": "code",
   "execution_count": null,
   "id": "f27be1a1",
   "metadata": {},
   "outputs": [],
   "source": []
  }
 ],
 "metadata": {
  "kernelspec": {
   "display_name": "Python 3 (ipykernel)",
   "language": "python",
   "name": "python3"
  },
  "language_info": {
   "codemirror_mode": {
    "name": "ipython",
    "version": 3
   },
   "file_extension": ".py",
   "mimetype": "text/x-python",
   "name": "python",
   "nbconvert_exporter": "python",
   "pygments_lexer": "ipython3",
   "version": "3.9.7"
  }
 },
 "nbformat": 4,
 "nbformat_minor": 5
}
