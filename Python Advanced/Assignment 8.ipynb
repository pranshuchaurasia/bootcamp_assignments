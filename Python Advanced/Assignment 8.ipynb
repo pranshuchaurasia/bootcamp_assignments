{
 "cells": [
  {
   "cell_type": "markdown",
   "id": "5601f96b",
   "metadata": {},
   "source": [
    "#### Q1. What are the two latest user-defined exception constraints in Python 3.X?"
   ]
  },
  {
   "cell_type": "markdown",
   "id": "f8f56ae7",
   "metadata": {},
   "source": [
    "Sometimes we must enforce constraints on the values that specific program variables can take or save the program from running into an undesired state. In such situations, Python allows programmers to create User-defined Exceptions. To create a User-defined Exception, we need to create a class directly or indirectly derived from the built-in Exception class."
   ]
  },
  {
   "cell_type": "markdown",
   "id": "8dc9bdd0",
   "metadata": {},
   "source": [
    "#### Q2. How are class-based exceptions that have been raised matched to handlers?"
   ]
  },
  {
   "cell_type": "markdown",
   "id": "891de2af",
   "metadata": {},
   "source": [
    "\n",
    "    Classic exceptions\n",
    "    These exceptions can only be declared in the interfaces of methods or function modules using EXCEPTIONS and can be raised within such a procedure using the statements RAISE or MESSAGE RAISING. The procedure caller can use the addition EXCEPTIONS of the statements meth( ... ) or CALL FUNCTION to assign return codes for the system field sy-subrc to the exceptions the caller wants to handle and evaluate them after the call.\n",
    "\n",
    "    Class-Based Exceptions\n",
    "    These exceptions are defined by exception classes, from which an exception object can be created when an exception is raised (if a handler uses the addition INTO in CATCH). A class-based exception can either cancel the current context or allow for a resume. Exceptions are raised using the statement RAISE EXCEPTION and handled using CATCH in a TRY control structure. Class-based exceptions can be raised in any procedures and can be further propagated by any procedures.\n",
    "\n",
    "The coexistence of the two exception concepts is regulated as follows:\n",
    "\n",
    "    Classic and class-based exceptions cannot be declared together in the interface of a procedure. Within a processing block, either only classic or only class-based exceptions can be raised.\n",
    "\n",
    "    For reasons of interoperability, within a processing block class-based exceptions can be handled and evaluate the return values of function modules and methods using classic exceptions.\n"
   ]
  },
  {
   "cell_type": "markdown",
   "id": "2144af9c",
   "metadata": {},
   "source": [
    "#### Q3. Describe two methods for attaching context information to exception artefacts."
   ]
  },
  {
   "cell_type": "markdown",
   "id": "445e8253",
   "metadata": {},
   "source": [
    "In you case, one should probably use the explicit raise Error(key) from ex syntax that sets __cause__ attribute on the new exception"
   ]
  },
  {
   "cell_type": "markdown",
   "id": "7497157d",
   "metadata": {},
   "source": [
    "#### Q4. Describe two methods for specifying the text of an exception object&#39;s error message."
   ]
  },
  {
   "cell_type": "markdown",
   "id": "950298a5",
   "metadata": {},
   "source": [
    "Using print statement or logging\n",
    "Updating this to something simpler for logger (works for both python 2 and 3). You do not need traceback module.\n",
    "\n",
    "import logging </br>\n",
    "logger = logging.Logger('catch_all')</br>\n",
    "def catchEverythingInLog():</br>\n",
    "    try:</br>\n",
    "        ... do something ...</br>\n",
    "    except Exception as e:</br>\n",
    "        logger.error(e, exc_info=True)</br>\n",
    "        ... exception handling ...</br>"
   ]
  },
  {
   "cell_type": "markdown",
   "id": "218c9e29",
   "metadata": {},
   "source": [
    "#### Q5. Why do you no longer use string-based exceptions?"
   ]
  },
  {
   "cell_type": "markdown",
   "id": "cd77c505",
   "metadata": {},
   "source": [
    "This is because a string is a sequence; we must assume that error messages are always more than two characters long!"
   ]
  },
  {
   "cell_type": "code",
   "execution_count": null,
   "id": "792eda7f",
   "metadata": {},
   "outputs": [],
   "source": []
  }
 ],
 "metadata": {
  "kernelspec": {
   "display_name": "Python 3 (ipykernel)",
   "language": "python",
   "name": "python3"
  },
  "language_info": {
   "codemirror_mode": {
    "name": "ipython",
    "version": 3
   },
   "file_extension": ".py",
   "mimetype": "text/x-python",
   "name": "python",
   "nbconvert_exporter": "python",
   "pygments_lexer": "ipython3",
   "version": "3.9.7"
  }
 },
 "nbformat": 4,
 "nbformat_minor": 5
}
