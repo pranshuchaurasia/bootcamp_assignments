{
 "cells": [
  {
   "cell_type": "markdown",
   "id": "cbd027e8",
   "metadata": {},
   "source": [
    "#### Q1. Is an assignment operator like += only for show? Is it possible that it would lead to faster results at the runtime?"
   ]
  },
  {
   "cell_type": "code",
   "execution_count": null,
   "id": "dc45db29",
   "metadata": {},
   "outputs": [],
   "source": []
  },
  {
   "cell_type": "markdown",
   "id": "bd3f5f87",
   "metadata": {},
   "source": [
    "#### Q2. What is the smallest number of statements you&#39;d have to write in most programming languages to replace the Python expression a, b = a + b, a?"
   ]
  },
  {
   "cell_type": "code",
   "execution_count": null,
   "id": "f5990905",
   "metadata": {},
   "outputs": [],
   "source": []
  },
  {
   "cell_type": "markdown",
   "id": "42df0d08",
   "metadata": {},
   "source": [
    "#### Q3. In Python, what is the most effective way to set a list of 100 integers to 0?"
   ]
  },
  {
   "cell_type": "code",
   "execution_count": null,
   "id": "50058fce",
   "metadata": {},
   "outputs": [],
   "source": []
  },
  {
   "cell_type": "markdown",
   "id": "69bf7d9e",
   "metadata": {},
   "source": [
    "#### Q4. What is the most effective way to initialise a list of 99 integers that repeats the sequence 1, 2, 3?  If necessary, show step-by-step instructions on how to accomplish this."
   ]
  },
  {
   "cell_type": "code",
   "execution_count": null,
   "id": "18eac378",
   "metadata": {},
   "outputs": [],
   "source": []
  },
  {
   "cell_type": "markdown",
   "id": "e3ae1a88",
   "metadata": {},
   "source": [
    "#### Q5. If you&#39;re using IDLE to run a Python application, explain how to print a multidimensional list as efficiently?"
   ]
  },
  {
   "cell_type": "code",
   "execution_count": null,
   "id": "e95ea6e0",
   "metadata": {},
   "outputs": [],
   "source": []
  },
  {
   "cell_type": "markdown",
   "id": "3c90a0a5",
   "metadata": {},
   "source": [
    "#### Q6. Is it possible to use list comprehension with a string? If so, how can you go about doing it?"
   ]
  },
  {
   "cell_type": "code",
   "execution_count": null,
   "id": "9175245a",
   "metadata": {},
   "outputs": [],
   "source": []
  },
  {
   "cell_type": "markdown",
   "id": "c039c82e",
   "metadata": {},
   "source": [
    "#### Q7. From the command line, how do you get support with a user-written Python programme? Is this possible from inside IDLE?"
   ]
  },
  {
   "cell_type": "code",
   "execution_count": null,
   "id": "a82b9435",
   "metadata": {},
   "outputs": [],
   "source": []
  },
  {
   "cell_type": "markdown",
   "id": "f1334f5e",
   "metadata": {},
   "source": [
    "#### Q8. Functions are said to be “first-class objects” in Python but not in most other languages, such as C++ or Java. What can you do in Python with a function (callable object) that you can't do in C or C++"
   ]
  },
  {
   "cell_type": "code",
   "execution_count": null,
   "id": "36f00c06",
   "metadata": {},
   "outputs": [],
   "source": []
  },
  {
   "cell_type": "markdown",
   "id": "00897af7",
   "metadata": {},
   "source": [
    "#### Q9. How do you distinguish between a wrapper, a wrapped feature, and a decorator?"
   ]
  },
  {
   "cell_type": "code",
   "execution_count": null,
   "id": "0dc091c1",
   "metadata": {},
   "outputs": [],
   "source": []
  },
  {
   "cell_type": "markdown",
   "id": "491a37d5",
   "metadata": {},
   "source": [
    "#### Q10. If a function is a generator function, what does it return?"
   ]
  },
  {
   "cell_type": "code",
   "execution_count": null,
   "id": "d835c24c",
   "metadata": {},
   "outputs": [],
   "source": []
  },
  {
   "cell_type": "markdown",
   "id": "7b00569e",
   "metadata": {},
   "source": [
    "#### Q11. What is the one improvement that must be made to a function in order for it to become a generator function in the Python language?"
   ]
  },
  {
   "cell_type": "code",
   "execution_count": null,
   "id": "6de94dc1",
   "metadata": {},
   "outputs": [],
   "source": []
  },
  {
   "cell_type": "markdown",
   "id": "383c1f5d",
   "metadata": {},
   "source": [
    "#### Q12. Identify at least one benefit of generators."
   ]
  },
  {
   "cell_type": "code",
   "execution_count": null,
   "id": "377052b9",
   "metadata": {},
   "outputs": [],
   "source": []
  },
  {
   "cell_type": "code",
   "execution_count": null,
   "id": "b1c37fd0",
   "metadata": {},
   "outputs": [],
   "source": []
  }
 ],
 "metadata": {
  "kernelspec": {
   "display_name": "Python 3 (ipykernel)",
   "language": "python",
   "name": "python3"
  },
  "language_info": {
   "codemirror_mode": {
    "name": "ipython",
    "version": 3
   },
   "file_extension": ".py",
   "mimetype": "text/x-python",
   "name": "python",
   "nbconvert_exporter": "python",
   "pygments_lexer": "ipython3",
   "version": "3.9.7"
  }
 },
 "nbformat": 4,
 "nbformat_minor": 5
}
