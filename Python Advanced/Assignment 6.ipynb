{
 "cells": [
  {
   "cell_type": "markdown",
   "id": "437d2219",
   "metadata": {},
   "source": [
    "#### Q1. Describe three applications for exception processing."
   ]
  },
  {
   "cell_type": "code",
   "execution_count": null,
   "id": "b3fbfb51",
   "metadata": {},
   "outputs": [],
   "source": []
  },
  {
   "cell_type": "markdown",
   "id": "d37a8512",
   "metadata": {},
   "source": [
    "#### Q2. What happens if you don&#39;t do something extra to treat an exception?"
   ]
  },
  {
   "cell_type": "markdown",
   "id": "1c97e0b8",
   "metadata": {},
   "source": [
    "When an exception occurred, if you don't handle it, the program terminates abruptly and the code past the line that caused the exception will not get executed."
   ]
  },
  {
   "cell_type": "markdown",
   "id": "68cf567f",
   "metadata": {},
   "source": [
    "#### Q3. What are your options for recovering from an exception in your script?"
   ]
  },
  {
   "cell_type": "markdown",
   "id": "26189003",
   "metadata": {},
   "source": [
    "Python provides two very important features to handle any unexpected error in your Python programs and to add debugging capabilities in them: </br>\n",
    "    Exception Handling </br>\n",
    "    Assertions "
   ]
  },
  {
   "cell_type": "markdown",
   "id": "ed40a420",
   "metadata": {},
   "source": [
    "#### Q4. Describe two methods for triggering exceptions in your script."
   ]
  },
  {
   "cell_type": "markdown",
   "id": "c19f15d9",
   "metadata": {},
   "source": [
    "To avoid such a scenario, there are two methods to handle Python exceptions: Try – This method catches the exceptions raised by the program. Raise – Triggers an exception manually using custom exceptionsm"
   ]
  },
  {
   "cell_type": "markdown",
   "id": "d636c68b",
   "metadata": {},
   "source": [
    "#### Q5. Identify two methods for specifying actions to be executed at termination time, regardless of whether or not an exception exists."
   ]
  },
  {
   "cell_type": "code",
   "execution_count": null,
   "id": "5a214547",
   "metadata": {},
   "outputs": [],
   "source": []
  }
 ],
 "metadata": {
  "kernelspec": {
   "display_name": "Python 3 (ipykernel)",
   "language": "python",
   "name": "python3"
  },
  "language_info": {
   "codemirror_mode": {
    "name": "ipython",
    "version": 3
   },
   "file_extension": ".py",
   "mimetype": "text/x-python",
   "name": "python",
   "nbconvert_exporter": "python",
   "pygments_lexer": "ipython3",
   "version": "3.9.7"
  }
 },
 "nbformat": 4,
 "nbformat_minor": 5
}
