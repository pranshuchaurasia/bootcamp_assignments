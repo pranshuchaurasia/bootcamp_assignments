{
 "cells": [
  {
   "cell_type": "markdown",
   "id": "437d2219",
   "metadata": {},
   "source": [
    "#### Q1. Describe three applications for exception processing."
   ]
  },
  {
   "cell_type": "markdown",
   "id": "2862e3c2",
   "metadata": {},
   "source": [
    "Try and Except Statement - Catching Exceptions , Assertions , Finally Keyword"
   ]
  },
  {
   "cell_type": "markdown",
   "id": "d37a8512",
   "metadata": {},
   "source": [
    "#### Q2. What happens if you don&#39;t do something extra to treat an exception?"
   ]
  },
  {
   "cell_type": "markdown",
   "id": "853165f4",
   "metadata": {},
   "source": [
    "When an exception occurred, if you don't handle it, the program terminates abruptly and the code past the line that caused the exception will not get executed."
   ]
  },
  {
   "cell_type": "markdown",
   "id": "68cf567f",
   "metadata": {},
   "source": [
    "#### Q3. What are your options for recovering from an exception in your script?"
   ]
  },
  {
   "cell_type": "markdown",
   "id": "3fcf2476",
   "metadata": {},
   "source": [
    "Python provides two very important features to handle any unexpected error in your Python programs and to add debugging capabilities in them: </br>\n",
    "    Exception Handling </br>\n",
    "    Assertions "
   ]
  },
  {
   "cell_type": "markdown",
   "id": "ed40a420",
   "metadata": {},
   "source": [
    "#### Q4. Describe two methods for triggering exceptions in your script."
   ]
  },
  {
   "cell_type": "markdown",
   "id": "a94147e3",
   "metadata": {},
   "source": [
    "To avoid such a scenario, there are two methods to handle Python exceptions: Try – This method catches the exceptions raised by the program. Raise – Triggers an exception manually using custom exceptionsm"
   ]
  },
  {
   "cell_type": "markdown",
   "id": "d636c68b",
   "metadata": {},
   "source": [
    "#### Q5. Identify two methods for specifying actions to be executed at termination time, regardless of whether or not an exception exists."
   ]
  },
  {
   "cell_type": "markdown",
   "id": "39ec4f7d",
   "metadata": {},
   "source": [
    "The atexit module defines functions to register and unregister cleanup functions.  </br>"
   ]
  },
  {
   "cell_type": "markdown",
   "id": "a04a58ee",
   "metadata": {},
   "source": [
    "atexit.register and atexit.unregister"
   ]
  },
  {
   "cell_type": "code",
   "execution_count": null,
   "id": "4cc50a4d",
   "metadata": {},
   "outputs": [],
   "source": []
  }
 ],
 "metadata": {
  "kernelspec": {
   "display_name": "Python 3 (ipykernel)",
   "language": "python",
   "name": "python3"
  },
  "language_info": {
   "codemirror_mode": {
    "name": "ipython",
    "version": 3
   },
   "file_extension": ".py",
   "mimetype": "text/x-python",
   "name": "python",
   "nbconvert_exporter": "python",
   "pygments_lexer": "ipython3",
   "version": "3.9.7"
  }
 },
 "nbformat": 4,
 "nbformat_minor": 5
}
