{
 "cells": [
  {
   "cell_type": "markdown",
   "id": "5ee2fb97",
   "metadata": {},
   "source": [
    "#### 1. What is the concept of an abstract superclass?"
   ]
  },
  {
   "cell_type": "markdown",
   "id": "b592e132",
   "metadata": {},
   "source": [
    "A class is called an Abstract class if it contains one or more abstract methods. An abstract method is a method that is declared, but contains no implementation. Abstract classes may not be instantiated, and its abstract methods must be implemented by its subclasses."
   ]
  },
  {
   "cell_type": "markdown",
   "id": "8d0d253e",
   "metadata": {},
   "source": [
    "#### 2. What happens when a class statement&#39;s top level contains a basic assignment statement?"
   ]
  },
  {
   "cell_type": "markdown",
   "id": "81a7fdea",
   "metadata": {},
   "source": [
    "Top-level definitions include variable (and constant), function and class definitions. They may be marked private by prefixing them with the private keyword. Private definitions are only visible in the module that defines them. Definitions that are not private are public. The top-level may also include statements.\n",
    "\n",
    "As an exception, a function named Main is always private even if the definition is not prefixed with private"
   ]
  },
  {
   "cell_type": "markdown",
   "id": "34456ebf",
   "metadata": {},
   "source": [
    "#### 3. Why does a class need to manually call a superclass&#39;s __init__ method?"
   ]
  },
  {
   "cell_type": "markdown",
   "id": "4b316b82",
   "metadata": {},
   "source": [
    "The main reason for always calling base class _init__ is that base class may typically create member variable and initialize them to defaults. So if you don't call base class init, none of that code would be executed and you would end up with base class that has no member variables."
   ]
  },
  {
   "cell_type": "markdown",
   "id": "cd3a13dc",
   "metadata": {},
   "source": [
    "#### 4. How can you augment, instead of completely replacing, an inherited method?"
   ]
  },
  {
   "cell_type": "markdown",
   "id": "65da9b03",
   "metadata": {},
   "source": [
    "You should really use the Mixin approach and use Multiple inheritance. You can then dynamically replace (update) the parents to achieve the desired effect."
   ]
  },
  {
   "cell_type": "markdown",
   "id": "6e94ba1d",
   "metadata": {},
   "source": [
    "#### 5. How is the local scope of a class different from that of a function?"
   ]
  },
  {
   "cell_type": "markdown",
   "id": "0921eac5",
   "metadata": {},
   "source": [
    "Usually, the local scope references the local names of the (textually) current function. Outside functions, the local scope references the same namespace as the global scope: the module’s namespace. Class definitions place yet another namespace in the local scope."
   ]
  },
  {
   "cell_type": "code",
   "execution_count": null,
   "id": "5f2e6929",
   "metadata": {},
   "outputs": [],
   "source": []
  }
 ],
 "metadata": {
  "kernelspec": {
   "display_name": "Python 3 (ipykernel)",
   "language": "python",
   "name": "python3"
  },
  "language_info": {
   "codemirror_mode": {
    "name": "ipython",
    "version": 3
   },
   "file_extension": ".py",
   "mimetype": "text/x-python",
   "name": "python",
   "nbconvert_exporter": "python",
   "pygments_lexer": "ipython3",
   "version": "3.9.7"
  }
 },
 "nbformat": 4,
 "nbformat_minor": 5
}
