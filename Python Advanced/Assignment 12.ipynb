{
 "cells": [
  {
   "cell_type": "markdown",
   "id": "a202f286",
   "metadata": {},
   "source": [
    "#### Q1. Does assigning a value to a string&#39;s indexed character violate Python's string immutability?"
   ]
  },
  {
   "cell_type": "markdown",
   "id": "606ffc26",
   "metadata": {},
   "source": [
    "Strings are immutable, which means you cannot change an existing string. The code produces the runtime error TypeError: 'str' object does not support item assignment"
   ]
  },
  {
   "cell_type": "markdown",
   "id": "4e5105ed",
   "metadata": {},
   "source": [
    "#### Q2. Does using the += operator to concatenate strings violate Python&#39;s string immutability? Why or why not?"
   ]
  },
  {
   "cell_type": "markdown",
   "id": "d0a26feb",
   "metadata": {},
   "source": [
    "(a+=b ) == (a=a+b)\n",
    "\n",
    "Note the main thing here for new object creation is ‘+’ operator when a is immutable.\n",
    "\n",
    "It forces the object present on left(a) to create its new object and then perform concat operation "
   ]
  },
  {
   "cell_type": "markdown",
   "id": "406cf4d1",
   "metadata": {},
   "source": [
    "#### Q3. In Python, how many different ways are there to index a character?"
   ]
  },
  {
   "cell_type": "markdown",
   "id": "52e3aacd",
   "metadata": {},
   "source": [
    "Indexing means referring to an element of an iterable by its position within the iterable. Each of a string’s characters corresponds to an index number and each character can be accessed using its index number. We can access characters in a String in Two ways :\n",
    "\n",
    "    Accessing Characters by Positive Index Number\n",
    "    Accessing Characters by Negative Index Number"
   ]
  },
  {
   "cell_type": "markdown",
   "id": "26f7105c",
   "metadata": {},
   "source": [
    "#### Q4. What is the relationship between indexing and slicing?"
   ]
  },
  {
   "cell_type": "markdown",
   "id": "a2d06dc3",
   "metadata": {},
   "source": [
    "“Indexing” means referring to an element of an iterable by its position within the iterable. “Slicing” means getting a subset of elements from an iterable based on their indices."
   ]
  },
  {
   "cell_type": "markdown",
   "id": "8cb0b596",
   "metadata": {},
   "source": [
    "#### Q5. What is an indexed character&#39;s exact data type? What is the data form of a slicing-generated substring?"
   ]
  },
  {
   "cell_type": "markdown",
   "id": "8a793708",
   "metadata": {},
   "source": [
    "Note that indexing returns a string — Python has no special type for a single character. It is just a string of length 1. The data form is string."
   ]
  },
  {
   "cell_type": "markdown",
   "id": "facfac1e",
   "metadata": {},
   "source": [
    "#### Q6. What is the relationship between string and character &quot;types&quot; in Python?"
   ]
  },
  {
   "cell_type": "markdown",
   "id": "40a81645",
   "metadata": {},
   "source": [
    "strings in Python are arrays of bytes representing unicode characters. However, Python does not have a character data type, a single character is simply a string with a length of 1"
   ]
  },
  {
   "cell_type": "markdown",
   "id": "c7c56c2b",
   "metadata": {},
   "source": [
    "#### Q7. Identify at least two operators and one method that allow you to combine one or more smaller strings to create a larger string."
   ]
  },
  {
   "cell_type": "markdown",
   "id": "85938024",
   "metadata": {},
   "source": [
    "Using the + operator </br>\n",
    "Using the * operator </br>\n",
    "Using the join() method </br>"
   ]
  },
  {
   "cell_type": "markdown",
   "id": "6e016b4c",
   "metadata": {},
   "source": [
    "#### Q8. What is the benefit of first checking the target string with in or not in before using the index method to find a substring?"
   ]
  },
  {
   "cell_type": "markdown",
   "id": "a4906a39",
   "metadata": {},
   "source": [
    "The index() method returns the index of a substring inside the string (if found). If the substring is not found, it raises an exception."
   ]
  },
  {
   "cell_type": "markdown",
   "id": "401fc43e",
   "metadata": {},
   "source": [
    "#### Q9. Which operators and built-in string methods produce simple Boolean (true/false) results?"
   ]
  },
  {
   "cell_type": "markdown",
   "id": "80624dd7",
   "metadata": {},
   "source": [
    "Boolean Operations — and, or, not\n",
    "Comparisons\n",
    "\n",
    "There are eight comparison operations in Python. They all have the same priority (which is higher than that of the Boolean operations). Comparisons can be chained arbitrarily; for example, x < y <= z is equivalent to x < y and y <= z, except that y is evaluated only once (but in both cases z is not evaluated at all when x < y is found to be false).\n",
    "There are sixteen possible two-input Boolean operators. Except for and and or, they are rarely needed in practice. Because of this, True, False, not, and, and or are the only built-in Python Boolean operators.\n",
    "Order Comparisons\n",
    "\n",
    "Another set of test operators are the order comparison operators. There are four order comparison operators that can be categorized by two qualities:\n",
    "    Direction: Is it less than or greater than?\n",
    "    Strictness: Is equality allowed or not?\n",
    "\n",
    "The is Operator\n",
    "The is operator checks for object identity. In other words, x is y evaluates to True only when x and y evaluate to the same object. The is operator has an opposite, the is not operator. \n",
    "\n",
    "The in Operator\n",
    "The in operator checks for membership. An object can define what it considers members."
   ]
  },
  {
   "cell_type": "code",
   "execution_count": null,
   "id": "795e155d",
   "metadata": {},
   "outputs": [],
   "source": []
  }
 ],
 "metadata": {
  "kernelspec": {
   "display_name": "Python 3 (ipykernel)",
   "language": "python",
   "name": "python3"
  },
  "language_info": {
   "codemirror_mode": {
    "name": "ipython",
    "version": 3
   },
   "file_extension": ".py",
   "mimetype": "text/x-python",
   "name": "python",
   "nbconvert_exporter": "python",
   "pygments_lexer": "ipython3",
   "version": "3.9.7"
  }
 },
 "nbformat": 4,
 "nbformat_minor": 5
}
