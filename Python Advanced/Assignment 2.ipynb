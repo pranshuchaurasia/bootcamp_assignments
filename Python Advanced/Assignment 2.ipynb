{
 "cells": [
  {
   "cell_type": "markdown",
   "id": "1cce12ce",
   "metadata": {},
   "source": [
    "#### Q1. What is the relationship between classes and modules?"
   ]
  },
  {
   "cell_type": "code",
   "execution_count": null,
   "id": "ad33e0ef",
   "metadata": {},
   "outputs": [],
   "source": []
  },
  {
   "cell_type": "markdown",
   "id": "805f47ab",
   "metadata": {},
   "source": [
    "#### Q2. How do you make instances and classes?"
   ]
  },
  {
   "cell_type": "code",
   "execution_count": null,
   "id": "a50b8063",
   "metadata": {},
   "outputs": [],
   "source": []
  },
  {
   "cell_type": "markdown",
   "id": "8ac6d91a",
   "metadata": {},
   "source": [
    "#### Q3. Where and how should be class attributes created?"
   ]
  },
  {
   "cell_type": "code",
   "execution_count": null,
   "id": "0e42c470",
   "metadata": {},
   "outputs": [],
   "source": []
  },
  {
   "cell_type": "markdown",
   "id": "132da057",
   "metadata": {},
   "source": [
    "#### Q4. Where and how are instance attributes created?"
   ]
  },
  {
   "cell_type": "code",
   "execution_count": null,
   "id": "d42a4d4b",
   "metadata": {},
   "outputs": [],
   "source": []
  },
  {
   "cell_type": "markdown",
   "id": "037b29a5",
   "metadata": {},
   "source": [
    "#### Q5. What does the term &quot;self&quot; in a Python class mean?"
   ]
  },
  {
   "cell_type": "code",
   "execution_count": null,
   "id": "6a649c76",
   "metadata": {},
   "outputs": [],
   "source": []
  },
  {
   "cell_type": "markdown",
   "id": "03709f40",
   "metadata": {},
   "source": [
    "#### Q6. How does a Python class handle operator overloading?"
   ]
  },
  {
   "cell_type": "code",
   "execution_count": null,
   "id": "f91d072f",
   "metadata": {},
   "outputs": [],
   "source": []
  },
  {
   "cell_type": "markdown",
   "id": "ebbe2e91",
   "metadata": {},
   "source": [
    "#### Q7. When do you consider allowing operator overloading of your classes?"
   ]
  },
  {
   "cell_type": "code",
   "execution_count": null,
   "id": "9dc0f348",
   "metadata": {},
   "outputs": [],
   "source": []
  },
  {
   "cell_type": "markdown",
   "id": "b9716be4",
   "metadata": {},
   "source": [
    "#### Q8. What is the most popular form of operator overloading?"
   ]
  },
  {
   "cell_type": "code",
   "execution_count": null,
   "id": "4b6960cd",
   "metadata": {},
   "outputs": [],
   "source": []
  },
  {
   "cell_type": "markdown",
   "id": "ae99dc36",
   "metadata": {},
   "source": [
    "#### Q9. What are the two most important concepts to grasp in order to comprehend Python OOP code?"
   ]
  },
  {
   "cell_type": "code",
   "execution_count": null,
   "id": "095db16a",
   "metadata": {},
   "outputs": [],
   "source": []
  }
 ],
 "metadata": {
  "kernelspec": {
   "display_name": "Python 3 (ipykernel)",
   "language": "python",
   "name": "python3"
  },
  "language_info": {
   "codemirror_mode": {
    "name": "ipython",
    "version": 3
   },
   "file_extension": ".py",
   "mimetype": "text/x-python",
   "name": "python",
   "nbconvert_exporter": "python",
   "pygments_lexer": "ipython3",
   "version": "3.9.7"
  }
 },
 "nbformat": 4,
 "nbformat_minor": 5
}
