{
 "cells": [
  {
   "cell_type": "markdown",
   "id": "78d8f8f8",
   "metadata": {},
   "source": [
    "#### Q1. What is the difference between __getattr__ and __getattribute__?"
   ]
  },
  {
   "cell_type": "markdown",
   "id": "642b4ff3",
   "metadata": {},
   "source": [
    "\n",
    "\n",
    "A key difference between __getattr__ and __getattribute__ is that __getattr__ is only invoked if the attribute wasn't found the usual ways. It's good for implementing a fallback for missing attributes, and is probably the one of two you want.\n",
    "\n",
    "__getattribute__ is invoked before looking at the actual attributes on the object, and so can be tricky to implement correctly. You can end up in infinite recursions very easily.\n",
    "\n",
    "New-style classes derive from object, old-style classes are those in Python 2.x with no explicit base class. But the distinction between old-style and new-style classes is not the important one when choosing between __getattr__ and __getattribute__."
   ]
  },
  {
   "cell_type": "markdown",
   "id": "c5327242",
   "metadata": {},
   "source": [
    "#### Q2. What is the difference between properties and descriptors?"
   ]
  },
  {
   "cell_type": "markdown",
   "id": "900713f2",
   "metadata": {},
   "source": [
    "Python provides some advanced control over an object's attributes. In the section called “Attribute Handling Special Method Names” we explicitly separated attribute and instance variable. The default rule is that an attribute name gives us access to an instance variable.\n",
    "\n",
    "    An attribute is a name that appears after an object name. For example, someObj.name.\n",
    "\n",
    "    An instance variable is a name in the __dict__ of an object.\n",
    "\n",
    "When we say someObj.name, the default behavior is effectively someObj.__dict__['name']. However, we can alter this by making the name into a property or associating the name with a descriptor object.\n",
    "\n",
    "There are several ways that we can tap into Python's internal mechanisms for getting and setting attribute values.\n",
    "\n",
    "    The most accessible technique is to use the property function to define get, set and delete methods associated with an attribute name. The property function builds descriptors for you. We'll look at this in the section called “Properties”.\n",
    "\n",
    "    A slightly less accessible, but more extensible and reusable technique is to define descriptor classes yourself. This allows you considerable flexibility. You do this by creating a class which defines get, set and delete methods, and you associate your descriptor class with an attribute name. We'll look at this in the section called “Descriptors”.\n",
    "\n",
    "    You can tap into Python's low-level special methods for attribute access. This is covered in the section called “Attribute Handling Special Method Names”.\n",
    "\n",
    "Semantics of Attributes\n",
    "\n",
    "Fundamentally, an object encapsulates data and processing via it's instance variables and method functions. Because of this encapsulation, we can think of a class definition as providing a interface definition and an implementation that fits the defined interface. The method names and public instance variables which begin with _ are treated as part of the private implementation of the class; the remaming elements form the public interface.\n",
    "\n",
    "In Python, this distinction between interface and implementation is not heavily emphasized in the syntax, since it can often lead to wordy, complex programs. Most will-designed classes, however, tend to have a set of interface methods that form the interface for collaborating with objects of that class.\n",
    "\n",
    "There are several commonly-used design patterns for an object's interface.\n",
    "\n",
    "    Getters and Setters. We can encapsulate each instance variable with method functions that get and set the value of that instance variable. To be sure that the instace variables aren't accessed except via the method functions, we make each instance variable private, using _ as the first character of the variable name. When we do this, each access to an attribute of the object is via an explicit function: anObject.setPrice( someValue ); anObject.getValue().\n",
    "\n",
    "    Properties. We can bind getter, setter (and deleter) functions with an attribute name, using the built-in property function. When we do this, each reference to an attribute looks like simple, direct access, but invokes the appropriate function of the object. For example, anObject.price= someValue; anObject.value.\n",
    "\n",
    "    Descriptors. We can bind getter, setter (and deleter) functions into a separate class. We then assign an object of this class to the attribute name. When we do this, each reference to an attribute looks like simple, direct access, but invokes an appropriate function of the Descriptor object. For example, anObject.price= someValue; anObject.value.\n",
    "\n",
    "The Getter and Setter design pattern is does not have a Pythonic look. This design is common in C++; it is required in Java. Python programmers find the use of getter and setter functions to be wordy and prefer to access attributes directly.\n"
   ]
  },
  {
   "cell_type": "markdown",
   "id": "e9e2a952",
   "metadata": {},
   "source": [
    "#### Q3. What are the key differences in functionality between __getattr__ and __getattribute__, as well as properties and descriptors?"
   ]
  },
  {
   "cell_type": "markdown",
   "id": "b8a93f48",
   "metadata": {},
   "source": [
    "\n",
    "\n",
    "A key difference between __getattr__ and __getattribute__ is that __getattr__ is only invoked if the attribute wasn't found the usual ways. It's good for implementing a fallback for missing attributes, and is probably the one of two you want.\n",
    "\n",
    "Python descriptors are created to manage the attributes of different classes which use the object as reference. In descriptors we used three different methods that are __getters__(), __setters__(), and __delete__(). If any of those methods are defined for an object, it can be termed as a descriptor. Normally, Python uses methods like getters and setters to adjust the values on attributes without any special processing. It’s just a basic storage system. Sometimes, You might need to validate the values that are being assigned to a value. A descriptor is a mechanism behind properties, methods, static methods, class methods, and super().\n",
    "\n",
    "Syntax: property(fget, fset, fdel, doc)\n",
    "\n",
    "Parameters: \n",
    "\n",
    "    fget() – used to get the value of attribute\n",
    "    fset() – used to set the value of attribute\n",
    "    fdel() – used to delete the attribute value\n",
    "    doc() – string that contains the documentation (docstring) for the attribute\n",
    "\n",
    "Return: Returns a property attribute from the given getter, setter and deleter."
   ]
  },
  {
   "cell_type": "code",
   "execution_count": null,
   "id": "bec06e93",
   "metadata": {},
   "outputs": [],
   "source": []
  }
 ],
 "metadata": {
  "kernelspec": {
   "display_name": "Python 3 (ipykernel)",
   "language": "python",
   "name": "python3"
  },
  "language_info": {
   "codemirror_mode": {
    "name": "ipython",
    "version": 3
   },
   "file_extension": ".py",
   "mimetype": "text/x-python",
   "name": "python",
   "nbconvert_exporter": "python",
   "pygments_lexer": "ipython3",
   "version": "3.9.7"
  }
 },
 "nbformat": 4,
 "nbformat_minor": 5
}
