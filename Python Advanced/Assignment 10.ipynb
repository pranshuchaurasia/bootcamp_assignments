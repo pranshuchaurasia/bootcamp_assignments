{
 "cells": [
  {
   "cell_type": "markdown",
   "id": "78d8f8f8",
   "metadata": {},
   "source": [
    "#### Q1. What is the difference between __getattr__ and __getattribute__?"
   ]
  },
  {
   "cell_type": "code",
   "execution_count": null,
   "id": "4ce180f1",
   "metadata": {},
   "outputs": [],
   "source": []
  },
  {
   "cell_type": "markdown",
   "id": "c5327242",
   "metadata": {},
   "source": [
    "#### Q2. What is the difference between properties and descriptors?"
   ]
  },
  {
   "cell_type": "code",
   "execution_count": null,
   "id": "ea36d150",
   "metadata": {},
   "outputs": [],
   "source": []
  },
  {
   "cell_type": "markdown",
   "id": "e9e2a952",
   "metadata": {},
   "source": [
    "#### Q3. What are the key differences in functionality between __getattr__ and __getattribute__, as well as properties and descriptors?"
   ]
  },
  {
   "cell_type": "code",
   "execution_count": null,
   "id": "66f52eea",
   "metadata": {},
   "outputs": [],
   "source": []
  }
 ],
 "metadata": {
  "kernelspec": {
   "display_name": "Python 3 (ipykernel)",
   "language": "python",
   "name": "python3"
  },
  "language_info": {
   "codemirror_mode": {
    "name": "ipython",
    "version": 3
   },
   "file_extension": ".py",
   "mimetype": "text/x-python",
   "name": "python",
   "nbconvert_exporter": "python",
   "pygments_lexer": "ipython3",
   "version": "3.9.7"
  }
 },
 "nbformat": 4,
 "nbformat_minor": 5
}
