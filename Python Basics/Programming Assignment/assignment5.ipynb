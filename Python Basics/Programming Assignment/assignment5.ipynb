{
 "cells": [
  {
   "cell_type": "markdown",
   "id": "506b840d",
   "metadata": {},
   "source": [
    "#### Write a Python Program to Find LCM?"
   ]
  },
  {
   "cell_type": "code",
   "execution_count": 1,
   "id": "ec5dc29f",
   "metadata": {},
   "outputs": [
    {
     "name": "stdout",
     "output_type": "stream",
     "text": [
      "Enter first number: 10\n",
      "Enter second number: 5\n",
      "The L.C.M. of 10 and 5 is 10\n"
     ]
    }
   ],
   "source": [
    "    # taking input from users  \n",
    "    num1 = int(input(\"Enter first number: \"))  \n",
    "    num2 = int(input(\"Enter second number: \")) \n",
    "    \n",
    "    # defining a function to calculate LCM  \n",
    "    def calculate_lcm(x, y):  \n",
    "        # selecting the greater number  \n",
    "        if x > y:  \n",
    "            greater = x  \n",
    "        else:  \n",
    "            greater = y  \n",
    "        while(True):  \n",
    "            if((greater % x == 0) and (greater % y == 0)):  \n",
    "                lcm = greater  \n",
    "                break  \n",
    "            greater += 1  \n",
    "        return lcm    \n",
    "      \n",
    " \n",
    "    print(\"The L.C.M. of\", num1,\"and\", num2,\"is\", calculate_lcm(num1, num2))  "
   ]
  },
  {
   "cell_type": "markdown",
   "id": "c6271950",
   "metadata": {},
   "source": [
    "#### Write a Python Program to Find HCF?"
   ]
  },
  {
   "cell_type": "code",
   "execution_count": 2,
   "id": "85daefa8",
   "metadata": {},
   "outputs": [
    {
     "name": "stdout",
     "output_type": "stream",
     "text": [
      "Enter first number: 500\n",
      "Enter second number: 1000\n",
      "The HCF is 500\n"
     ]
    }
   ],
   "source": [
    "# taking input from users  \n",
    "num1 = int(input(\"Enter first number: \"))  \n",
    "num2 = int(input(\"Enter second number: \")) \n",
    "    \n",
    "    \n",
    "def compute_hcf(x, y):\n",
    "   while(y):\n",
    "       x, y = y, x % y\n",
    "   return x\n",
    "\n",
    "hcf = compute_hcf(num1, num2)\n",
    "\n",
    "print(\"The HCF is\", hcf)"
   ]
  },
  {
   "cell_type": "markdown",
   "id": "8a1a9c09",
   "metadata": {},
   "source": [
    "#### Write a Python Program to Convert Decimal to Binary, Octal and Hexadecimal?"
   ]
  },
  {
   "cell_type": "code",
   "execution_count": 3,
   "id": "2f674a47",
   "metadata": {},
   "outputs": [
    {
     "name": "stdout",
     "output_type": "stream",
     "text": [
      "Enter a decimal value: 23412\n",
      "The value in binary:  0b101101101110100\n",
      "The value in octal:  0o55564\n",
      "The value in hexadecimal:  0x5b74\n"
     ]
    }
   ],
   "source": [
    "dec = int(input(\"Enter a decimal value: \"))  \n",
    "\n",
    "print(\"The value in binary: \",bin(dec))\n",
    "print(\"The value in octal: \",oct(dec))\n",
    "print(\"The value in hexadecimal: \", hex(dec))"
   ]
  },
  {
   "cell_type": "markdown",
   "id": "300be729",
   "metadata": {},
   "source": [
    "#### Write a Python Program To Find ASCII value of a character?"
   ]
  },
  {
   "cell_type": "code",
   "execution_count": 4,
   "id": "3e48cca2",
   "metadata": {},
   "outputs": [
    {
     "name": "stdout",
     "output_type": "stream",
     "text": [
      "Enter a character: =\n",
      "The ASCII value of '=' is 61\n"
     ]
    }
   ],
   "source": [
    "c = str(input(\"Enter a character: \"))  \n",
    "print(\"The ASCII value of '\" + c + \"' is\", ord(c))"
   ]
  },
  {
   "cell_type": "markdown",
   "id": "421ac9c1",
   "metadata": {},
   "source": [
    "#### Write a Python Program to Make a Simple Calculator with 4 basic mathematical operations?"
   ]
  },
  {
   "cell_type": "code",
   "execution_count": 5,
   "id": "bc73e3da",
   "metadata": {},
   "outputs": [
    {
     "name": "stdout",
     "output_type": "stream",
     "text": [
      "Select operation.\n",
      "1.Add\n",
      "2.Subtract\n",
      "3.Multiply\n",
      "4.Divide\n",
      "Enter choice(1/2/3/4): 1\n",
      "Enter first number: 4\n",
      "Enter second number: 6\n",
      "4.0 + 6.0 = 10.0\n",
      "Let's do next calculation? (yes/no): no\n"
     ]
    }
   ],
   "source": [
    "# This function adds two numbers\n",
    "def add(x, y):\n",
    "    return x + y\n",
    "\n",
    "# This function subtracts two numbers\n",
    "def subtract(x, y):\n",
    "    return x - y\n",
    "\n",
    "# This function multiplies two numbers\n",
    "def multiply(x, y):\n",
    "    return x * y\n",
    "\n",
    "# This function divides two numbers\n",
    "def divide(x, y):\n",
    "    return x / y\n",
    "\n",
    "\n",
    "print(\"Select operation.\")\n",
    "print(\"1.Add\")\n",
    "print(\"2.Subtract\")\n",
    "print(\"3.Multiply\")\n",
    "print(\"4.Divide\")\n",
    "\n",
    "while True:\n",
    "    # take input from the user\n",
    "    choice = input(\"Enter choice(1/2/3/4): \")\n",
    "\n",
    "    # check if choice is one of the four options\n",
    "    if choice in ('1', '2', '3', '4'):\n",
    "        num1 = float(input(\"Enter first number: \"))\n",
    "        num2 = float(input(\"Enter second number: \"))\n",
    "\n",
    "        if choice == '1':\n",
    "            print(num1, \"+\", num2, \"=\", add(num1, num2))\n",
    "\n",
    "        elif choice == '2':\n",
    "            print(num1, \"-\", num2, \"=\", subtract(num1, num2))\n",
    "\n",
    "        elif choice == '3':\n",
    "            print(num1, \"*\", num2, \"=\", multiply(num1, num2))\n",
    "\n",
    "        elif choice == '4':\n",
    "            print(num1, \"/\", num2, \"=\", divide(num1, num2))\n",
    "        \n",
    "        # check if user wants another calculation\n",
    "        # break the while loop if answer is no\n",
    "        next_calculation = input(\"Let's do next calculation? (yes/no): \")\n",
    "        if next_calculation == \"no\":\n",
    "          break\n",
    "    \n",
    "    else:\n",
    "        print(\"Invalid Input\")"
   ]
  },
  {
   "cell_type": "code",
   "execution_count": null,
   "id": "690f747e",
   "metadata": {},
   "outputs": [],
   "source": []
  }
 ],
 "metadata": {
  "kernelspec": {
   "display_name": "Python 3 (ipykernel)",
   "language": "python",
   "name": "python3"
  },
  "language_info": {
   "codemirror_mode": {
    "name": "ipython",
    "version": 3
   },
   "file_extension": ".py",
   "mimetype": "text/x-python",
   "name": "python",
   "nbconvert_exporter": "python",
   "pygments_lexer": "ipython3",
   "version": "3.9.7"
  }
 },
 "nbformat": 4,
 "nbformat_minor": 5
}
