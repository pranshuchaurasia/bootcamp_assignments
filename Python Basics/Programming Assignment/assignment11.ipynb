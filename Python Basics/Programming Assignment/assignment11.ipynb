{
 "cells": [
  {
   "cell_type": "markdown",
   "id": "1b09b17e",
   "metadata": {},
   "source": [
    "#### Write a Python program to find words which are greater than given length k?"
   ]
  },
  {
   "cell_type": "code",
   "execution_count": 4,
   "id": "790930f0",
   "metadata": {},
   "outputs": [
    {
     "name": "stdout",
     "output_type": "stream",
     "text": [
      "['world', 'python', 'pracrtics']\n"
     ]
    }
   ],
   "source": [
    "n=\"this world is good for python pracrtics\"; l=4\n",
    "s=n.split(\" \")\n",
    "l=list(filter(lambda x: (len(x)>l),s))\n",
    "print(l)"
   ]
  },
  {
   "cell_type": "markdown",
   "id": "7d15b8eb",
   "metadata": {},
   "source": [
    "#### Write a Python program for removing i-th character from a string?"
   ]
  },
  {
   "cell_type": "code",
   "execution_count": 3,
   "id": "1e0d3507",
   "metadata": {},
   "outputs": [
    {
     "name": "stdout",
     "output_type": "stream",
     "text": [
      "Enter a String =efhi eiwfbiwe iewfiu wdf\n",
      "Enter the n-th index =5\n",
      "The new string =\n",
      "\n",
      "efhi iwfbiwe iewfiu wdf\n"
     ]
    }
   ],
   "source": [
    "def removechar(str1, n):\n",
    "    x = str1[ : n]\n",
    "    y = str1[n + 1: ]\n",
    "    return x + y\n",
    "\n",
    "# Driver Code\n",
    "if __name__ == '__main__':\n",
    "    str1 = input(\"Enter a String =\")\n",
    "    n = int(input(\"Enter the n-th index =\"))\n",
    "\n",
    "print(\"The new string =\\n\")\n",
    "print(removechar(str1, n))"
   ]
  },
  {
   "cell_type": "markdown",
   "id": "81a12290",
   "metadata": {},
   "source": [
    "#### Write a Python program to split and join a string?"
   ]
  },
  {
   "cell_type": "code",
   "execution_count": 5,
   "id": "f8122eec",
   "metadata": {},
   "outputs": [
    {
     "name": "stdout",
     "output_type": "stream",
     "text": [
      "['Practicing', 'python', 'in', 'the', 'diffeerent', 'domain']\n",
      "Practicing-python-in-the-diffeerent-domain\n"
     ]
    }
   ],
   "source": [
    "s = 'Practicing python in the diffeerent domain'\n",
    "# print the string after split method\n",
    "print(s.split(\" \"))\n",
    "# print the string after join method\n",
    "print(\"-\".join(s.split()))"
   ]
  },
  {
   "cell_type": "markdown",
   "id": "f6519e0b",
   "metadata": {},
   "source": [
    "#### Write a Python to check if a given string is binary string or not?"
   ]
  },
  {
   "cell_type": "code",
   "execution_count": 6,
   "id": "b2c6b035",
   "metadata": {},
   "outputs": [
    {
     "name": "stdout",
     "output_type": "stream",
     "text": [
      "Enter the binary string : 10111001100\n",
      "The String is binary string\n"
     ]
    }
   ],
   "source": [
    "myStr =  input('Enter the binary string : ')\n",
    "\n",
    "# check whether a string is binary string or not\n",
    "flag = True\n",
    "for char in myStr :\n",
    "    if(char == '0' or char == '1'):\n",
    "       continue \n",
    "    else :\n",
    "        flag = False\n",
    "        print(\"The String is not a binary string\")\n",
    "        break\n",
    "    \n",
    "if(flag):\n",
    "    print(\"The String is binary string\")"
   ]
  },
  {
   "cell_type": "markdown",
   "id": "90e6e9e6",
   "metadata": {},
   "source": [
    "#### Write a Python program to find uncommon words from two Strings?"
   ]
  },
  {
   "cell_type": "code",
   "execution_count": 7,
   "id": "02f61b57",
   "metadata": {},
   "outputs": [
    {
     "name": "stdout",
     "output_type": "stream",
     "text": [
      "Enter first string : using yurht for python\n",
      "Enter second string : not learning python for\n",
      "All uncommon words from both the string are  ['using', 'yurht', 'not', 'learning']\n"
     ]
    }
   ],
   "source": [
    "# Getting strings as input from the user \n",
    "str1 = input('Enter first string : ')\n",
    "str2 = input('Enter second string : ')\n",
    "\n",
    "# finding uncommon words\n",
    "count = {}\n",
    "for word in str1.split():\n",
    "    count[word] = count.get(word, 0) + 1\n",
    "for word in str2.split():\n",
    "    count[word] = count.get(word, 0) + 1\n",
    "  \n",
    "uncommonWords =  [word for word in count if count[word] == 1]\n",
    "\n",
    "# printing uncommon words \n",
    "print(\"All uncommon words from both the string are \", uncommonWords)"
   ]
  },
  {
   "cell_type": "markdown",
   "id": "f662088f",
   "metadata": {},
   "source": [
    "#### Write a Python to find all duplicate characters in string?"
   ]
  },
  {
   "cell_type": "code",
   "execution_count": 8,
   "id": "509ce6de",
   "metadata": {},
   "outputs": [
    {
     "name": "stdout",
     "output_type": "stream",
     "text": [
      "Enter the string : Duplicate characters in a given string\n",
      "Duplicate characters in a given string: \n",
      "i\n",
      "c\n",
      "a\n",
      "t\n",
      "e\n",
      "r\n",
      "s\n",
      "n\n",
      "g\n"
     ]
    }
   ],
   "source": [
    "string = input('Enter the string : ')\n",
    "print(\"Duplicate characters in a given string: \");  \n",
    "#Counts each character present in the string  \n",
    "for i in range(0, len(string)):  \n",
    "    count = 1;  \n",
    "    for j in range(i+1, len(string)):  \n",
    "        if(string[i] == string[j] and string[i] != ' '):  \n",
    "            count = count + 1;  \n",
    "            #Set string[j] to 0 to avoid printing visited character  \n",
    "            string = string[:j] + '0' + string[j+1:];  \n",
    "   \n",
    "    #A character is considered as duplicate if count is greater than 1  \n",
    "    if(count > 1 and string[i] != '0'):  \n",
    "        print(string[i]);  "
   ]
  },
  {
   "cell_type": "markdown",
   "id": "54807b70",
   "metadata": {},
   "source": [
    "#### Write a Python Program to check if a string contains any special character?"
   ]
  },
  {
   "cell_type": "code",
   "execution_count": 10,
   "id": "fae0c9b3",
   "metadata": {},
   "outputs": [
    {
     "name": "stdout",
     "output_type": "stream",
     "text": [
      "$\n",
      "yes\n"
     ]
    }
   ],
   "source": [
    "special_characters = \"'!@#$%^&*()-+?_=,<>/'\"\n",
    "s=input()\n",
    "\n",
    "if any(c in special_characters for c in s):\n",
    "    print(\"yes\")\n",
    "else:\n",
    "    print(\"no\")"
   ]
  },
  {
   "cell_type": "code",
   "execution_count": null,
   "id": "fee4db33",
   "metadata": {},
   "outputs": [],
   "source": []
  }
 ],
 "metadata": {
  "kernelspec": {
   "display_name": "Python 3 (ipykernel)",
   "language": "python",
   "name": "python3"
  },
  "language_info": {
   "codemirror_mode": {
    "name": "ipython",
    "version": 3
   },
   "file_extension": ".py",
   "mimetype": "text/x-python",
   "name": "python",
   "nbconvert_exporter": "python",
   "pygments_lexer": "ipython3",
   "version": "3.9.7"
  }
 },
 "nbformat": 4,
 "nbformat_minor": 5
}
