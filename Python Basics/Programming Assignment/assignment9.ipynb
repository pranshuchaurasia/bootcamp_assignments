{
 "cells": [
  {
   "cell_type": "markdown",
   "id": "46fec6be",
   "metadata": {},
   "source": [
    "#### Write a Python program to check if the given number is a Disarium Number?"
   ]
  },
  {
   "cell_type": "code",
   "execution_count": 1,
   "id": "29934ab9",
   "metadata": {},
   "outputs": [
    {
     "name": "stdout",
     "output_type": "stream",
     "text": [
      "Enter your number: 175\n",
      "175 is a disarium number\n"
     ]
    }
   ],
   "source": [
    "    #calculateLength() will count the digits present in a number    \n",
    "    def calculateLength(n):    \n",
    "        length = 0;    \n",
    "        while(n != 0):    \n",
    "            length = length + 1;    \n",
    "            n = n//10;    \n",
    "        return length;    \n",
    "         \n",
    "    num = int(input(\"Enter your number: \"))    \n",
    "    rem = sum = 0;    \n",
    "    len = calculateLength(num);    \n",
    "         \n",
    "    #Makes a copy of the original number num    \n",
    "    n = num;    \n",
    "         \n",
    "    #Calculates the sum of digits powered with their respective position    \n",
    "    while(num > 0):    \n",
    "        rem = num%10;    \n",
    "        sum = sum + int(rem**len);    \n",
    "        num = num//10;    \n",
    "        len = len - 1;    \n",
    "         \n",
    "    #Checks whether the sum is equal to the number itself    \n",
    "    if(sum == n):    \n",
    "        print(str(n) + \" is a disarium number\");    \n",
    "    else:    \n",
    "        print(str(n) + \" is not a disarium number\");    "
   ]
  },
  {
   "cell_type": "markdown",
   "id": "f02d98c5",
   "metadata": {},
   "source": [
    "#### Write a Python program to print all disarium numbers between 1 to 100?"
   ]
  },
  {
   "cell_type": "code",
   "execution_count": 3,
   "id": "cbec5692",
   "metadata": {},
   "outputs": [
    {
     "name": "stdout",
     "output_type": "stream",
     "text": [
      "Disarium numbers between 1 and 100 are\n",
      "1\n",
      "2\n",
      "3\n",
      "4\n",
      "5\n",
      "6\n",
      "7\n",
      "8\n",
      "9\n",
      "89\n"
     ]
    }
   ],
   "source": [
    "#calculateLength() will count the digits present in a number    \n",
    "def calculateLength(n):    \n",
    "    length = 0;    \n",
    "    while(n != 0):    \n",
    "        length = length + 1;    \n",
    "        n = n//10;    \n",
    "    return length;    \n",
    "     \n",
    "#sumOfDigits() will calculates the sum of digits powered with their respective position    \n",
    "def sumOfDigits(num):    \n",
    "    rem = sum = 0;    \n",
    "    len = calculateLength(num);    \n",
    "        \n",
    "    while(num > 0):    \n",
    "        rem = num%10;    \n",
    "        sum = sum + (rem**len);    \n",
    "        num = num//10;    \n",
    "        len = len - 1;    \n",
    "    return sum;    \n",
    "      \n",
    "result = 0;    \n",
    "     \n",
    "#Displays all disarium numbers between 1 and 100    \n",
    "print(\"Disarium numbers between 1 and 100 are\");    \n",
    "for i in range(1, 101):    \n",
    "    result = sumOfDigits(i);    \n",
    "        \n",
    "    if(result == i):    \n",
    "        print(i),   "
   ]
  },
  {
   "cell_type": "markdown",
   "id": "e9717abb",
   "metadata": {},
   "source": [
    "#### Write a Python program to check if the given number is Happy Number?"
   ]
  },
  {
   "cell_type": "code",
   "execution_count": 4,
   "id": "9c35ea6c",
   "metadata": {},
   "outputs": [
    {
     "name": "stdout",
     "output_type": "stream",
     "text": [
      "Enter your number: 82\n",
      "82 is a happy number\n"
     ]
    }
   ],
   "source": [
    "    #isHappyNumber() will determine whether a number is happy or not    \n",
    "    def isHappyNumber(num):    \n",
    "        rem = sum = 0;    \n",
    "            \n",
    "        #Calculates the sum of squares of digits    \n",
    "        while(num > 0):    \n",
    "            rem = num%10;    \n",
    "            sum = sum + (rem*rem);    \n",
    "            num = num//10;    \n",
    "        return sum;    \n",
    "            \n",
    "    num = int(input(\"Enter your number: \"))   \n",
    "    result = num;    \n",
    "         \n",
    "    while(result != 1 and result != 4):    \n",
    "        result = isHappyNumber(result);    \n",
    "         \n",
    "    #Happy number always ends with 1    \n",
    "    if(result == 1):    \n",
    "        print(str(num) + \" is a happy number\");    \n",
    "    #Unhappy number ends in a cycle of repeating numbers which contain 4    \n",
    "    elif(result == 4):    \n",
    "        print(str(num) + \" is not a happy number\");   "
   ]
  },
  {
   "cell_type": "markdown",
   "id": "62adad74",
   "metadata": {},
   "source": [
    "#### Write a Python program to print all happy numbers between 1 and 100?"
   ]
  },
  {
   "cell_type": "code",
   "execution_count": 6,
   "id": "f8e661c7",
   "metadata": {},
   "outputs": [
    {
     "name": "stdout",
     "output_type": "stream",
     "text": [
      "List of happy numbers between 1 and 100: \n",
      "1\n",
      "7\n",
      "10\n",
      "13\n",
      "19\n",
      "23\n",
      "28\n",
      "31\n",
      "32\n",
      "44\n",
      "49\n",
      "68\n",
      "70\n",
      "79\n",
      "82\n",
      "86\n",
      "91\n",
      "94\n",
      "97\n",
      "100\n"
     ]
    }
   ],
   "source": [
    "    #isHappyNumber() will determine whether a number is happy or not    \n",
    "    def isHappyNumber(num):    \n",
    "        rem = sum = 0;    \n",
    "            \n",
    "        #Calculates the sum of squares of digits    \n",
    "        while(num > 0):    \n",
    "            rem = num%10;    \n",
    "            sum = sum + (rem*rem);    \n",
    "            num = num//10;    \n",
    "        return sum;    \n",
    "                \n",
    "    #Displays all happy numbers between 1 and 100    \n",
    "    print(\"List of happy numbers between 1 and 100: \");    \n",
    "    for i in range(1, 101):    \n",
    "        result = i;    \n",
    "            \n",
    "        #Happy number always ends with 1 and     \n",
    "        #unhappy number ends in a cycle of repeating numbers which contains 4    \n",
    "        while(result != 1 and result != 4):    \n",
    "            result = isHappyNumber(result);    \n",
    "            \n",
    "        if(result == 1):    \n",
    "            print(i)   "
   ]
  },
  {
   "cell_type": "markdown",
   "id": "ee50a16a",
   "metadata": {},
   "source": [
    "#### Write a Python program to determine whether the given number is a Harshad Number?"
   ]
  },
  {
   "cell_type": "code",
   "execution_count": 7,
   "id": "953c7500",
   "metadata": {},
   "outputs": [
    {
     "name": "stdout",
     "output_type": "stream",
     "text": [
      "Enter your number: 156\n",
      "156 is a harshad number\n"
     ]
    }
   ],
   "source": [
    "    num = int(input(\"Enter your number: \"))      \n",
    "    rem = sum = 0;    \n",
    "         \n",
    "    #Make a copy of num and store it in variable n    \n",
    "    n = num;    \n",
    "         \n",
    "    #Calculates sum of digits    \n",
    "    while(num > 0):    \n",
    "        rem = num%10;    \n",
    "        sum = sum + rem;    \n",
    "        num = num//10;    \n",
    "         \n",
    "    #Checks whether the number is divisible by the sum of digits    \n",
    "    if(n%sum == 0):    \n",
    "        print(str(n) + \" is a harshad number\");    \n",
    "    else:    \n",
    "        print(str(n) + \" is not a harshad number\");    "
   ]
  },
  {
   "cell_type": "markdown",
   "id": "dedf2638",
   "metadata": {},
   "source": [
    "#### Write a Python program to print all pronic numbers between 1 and 100?"
   ]
  },
  {
   "cell_type": "code",
   "execution_count": 8,
   "id": "291e759c",
   "metadata": {},
   "outputs": [
    {
     "name": "stdout",
     "output_type": "stream",
     "text": [
      "Pronic numbers between 1 and 100: \n",
      "2\n",
      "6\n",
      "12\n",
      "20\n",
      "30\n",
      "42\n",
      "56\n",
      "72\n",
      "90\n"
     ]
    }
   ],
   "source": [
    "def isPronicNumber(num):    \n",
    "    flag = False;    \n",
    "        \n",
    "    for j in range(1, num+1):    \n",
    "        #Checks for pronic number by multiplying consecutive numbers    \n",
    "        if((j*(j+1)) == num):    \n",
    "            flag = True;    \n",
    "            break;    \n",
    "    return flag;    \n",
    "     \n",
    "#Displays pronic numbers between 1 and 100    \n",
    "print(\"Pronic numbers between 1 and 100: \");    \n",
    "for i in range(1, 101):    \n",
    "    if(isPronicNumber(i)):    \n",
    "        print(i)"
   ]
  },
  {
   "cell_type": "code",
   "execution_count": null,
   "id": "918fda73",
   "metadata": {},
   "outputs": [],
   "source": []
  }
 ],
 "metadata": {
  "kernelspec": {
   "display_name": "Python 3 (ipykernel)",
   "language": "python",
   "name": "python3"
  },
  "language_info": {
   "codemirror_mode": {
    "name": "ipython",
    "version": 3
   },
   "file_extension": ".py",
   "mimetype": "text/x-python",
   "name": "python",
   "nbconvert_exporter": "python",
   "pygments_lexer": "ipython3",
   "version": "3.9.7"
  }
 },
 "nbformat": 4,
 "nbformat_minor": 5
}
