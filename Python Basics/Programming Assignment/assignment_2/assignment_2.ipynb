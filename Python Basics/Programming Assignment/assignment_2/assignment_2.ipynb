{
 "cells": [
  {
   "cell_type": "markdown",
   "id": "7891bb5a",
   "metadata": {},
   "source": [
    "1.\tWrite a Python program to convert kilometers to miles?"
   ]
  },
  {
   "cell_type": "code",
   "execution_count": 1,
   "id": "220aef3e",
   "metadata": {},
   "outputs": [],
   "source": [
    "def km_to_miles(a):\n",
    "    miles=0.62137*a\n",
    "    return miles"
   ]
  },
  {
   "cell_type": "code",
   "execution_count": 6,
   "id": "a088dde0",
   "metadata": {},
   "outputs": [
    {
     "name": "stdout",
     "output_type": "stream",
     "text": [
      "Enter the length in kilometers: a\n",
      "Please enter numerical values only\n",
      "Enter the length in kilometers: \n",
      "Please enter numerical values only\n",
      "Enter the length in kilometers: 0\n",
      "Kilometer converted to miles is :  0.0\n"
     ]
    }
   ],
   "source": [
    "while True:\n",
    "    try:\n",
    "        km=float(input(\"Enter the length in kilometers: \"))\n",
    "        print(\"Kilometer converted to miles is : \", km_to_miles(km))\n",
    "        break\n",
    "    except ValueError:\n",
    "        print(\"Please enter numerical values only\")"
   ]
  },
  {
   "cell_type": "markdown",
   "id": "ec6bb555",
   "metadata": {},
   "source": [
    "2.\tWrite a Python program to convert Celsius to Fahrenheit?"
   ]
  },
  {
   "cell_type": "code",
   "execution_count": 9,
   "id": "8e5f4214",
   "metadata": {},
   "outputs": [],
   "source": [
    "def cel_to_fah(cel):\n",
    "    fah= ((9/5)*cel)+32\n",
    "    return fah"
   ]
  },
  {
   "cell_type": "code",
   "execution_count": 12,
   "id": "c7bbfcb1",
   "metadata": {},
   "outputs": [
    {
     "name": "stdout",
     "output_type": "stream",
     "text": [
      "Enter the temperature in celcius: -40\n",
      "Celcius converted to farenheit is :  -40.0\n"
     ]
    }
   ],
   "source": [
    "while True:\n",
    "    try:\n",
    "        cel=float(input(\"Enter the temperature in celcius: \"))\n",
    "        print(\"Celcius converted to farenheit is : \", cel_to_fah(cel))\n",
    "        break\n",
    "    except ValueError:\n",
    "        print(\"Please enter numerical values only\")"
   ]
  },
  {
   "cell_type": "markdown",
   "id": "eb465361",
   "metadata": {},
   "source": [
    "3.\tWrite a Python program to display calendar?"
   ]
  },
  {
   "cell_type": "code",
   "execution_count": null,
   "id": "76aaf428",
   "metadata": {},
   "outputs": [],
   "source": []
  }
 ],
 "metadata": {
  "kernelspec": {
   "display_name": "Python 3 (ipykernel)",
   "language": "python",
   "name": "python3"
  },
  "language_info": {
   "codemirror_mode": {
    "name": "ipython",
    "version": 3
   },
   "file_extension": ".py",
   "mimetype": "text/x-python",
   "name": "python",
   "nbconvert_exporter": "python",
   "pygments_lexer": "ipython3",
   "version": "3.9.7"
  }
 },
 "nbformat": 4,
 "nbformat_minor": 5
}
