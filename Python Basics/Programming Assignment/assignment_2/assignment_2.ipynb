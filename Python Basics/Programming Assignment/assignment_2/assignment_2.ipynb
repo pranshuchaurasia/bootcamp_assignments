{
 "cells": [
  {
   "cell_type": "markdown",
   "id": "9f2301ce",
   "metadata": {},
   "source": [
    "1.\tWrite a Python program to convert kilometers to miles?"
   ]
  },
  {
   "cell_type": "code",
   "execution_count": 1,
   "id": "3384c7be",
   "metadata": {},
   "outputs": [],
   "source": [
    "def km_to_miles(a):\n",
    "    miles=0.62137*a\n",
    "    return miles"
   ]
  },
  {
   "cell_type": "code",
   "execution_count": 6,
   "id": "f9e621d7",
   "metadata": {},
   "outputs": [
    {
     "name": "stdout",
     "output_type": "stream",
     "text": [
      "Enter the length in kilometers: a\n",
      "Please enter numerical values only\n",
      "Enter the length in kilometers: \n",
      "Please enter numerical values only\n",
      "Enter the length in kilometers: 0\n",
      "Kilometer converted to miles is :  0.0\n"
     ]
    }
   ],
   "source": [
    "while True:\n",
    "    try:\n",
    "        km=float(input(\"Enter the length in kilometers: \"))\n",
    "        print(\"Kilometer converted to miles is : \", km_to_miles(km))\n",
    "        break\n",
    "    except ValueError:\n",
    "        print(\"Please enter numerical values only\")"
   ]
  },
  {
   "cell_type": "markdown",
   "id": "cef105bc",
   "metadata": {},
   "source": [
    "2.\tWrite a Python program to convert Celsius to Fahrenheit?"
   ]
  },
  {
   "cell_type": "code",
   "execution_count": 9,
   "id": "e4c080ce",
   "metadata": {},
   "outputs": [],
   "source": [
    "def cel_to_fah(cel):\n",
    "    fah= ((9/5)*cel)+32\n",
    "    return fah"
   ]
  },
  {
   "cell_type": "code",
   "execution_count": 12,
   "id": "0d8bd1fd",
   "metadata": {},
   "outputs": [
    {
     "name": "stdout",
     "output_type": "stream",
     "text": [
      "Enter the temperature in celcius: -40\n",
      "Celcius converted to farenheit is :  -40.0\n"
     ]
    }
   ],
   "source": [
    "while True:\n",
    "    try:\n",
    "        cel=float(input(\"Enter the temperature in celcius: \"))\n",
    "        print(\"Celcius converted to farenheit is : \", cel_to_fah(cel))\n",
    "        break\n",
    "    except ValueError:\n",
    "        print(\"Please enter numerical values only\")"
   ]
  },
  {
   "cell_type": "markdown",
   "id": "3ab3437b",
   "metadata": {},
   "source": [
    "3.\tWrite a Python program to display calendar?"
   ]
  },
  {
   "cell_type": "code",
   "execution_count": 14,
   "id": "84a73466",
   "metadata": {},
   "outputs": [
    {
     "name": "stdout",
     "output_type": "stream",
     "text": [
      "     July 2022\n",
      "Mo Tu We Th Fr Sa Su\n",
      "             1  2  3\n",
      " 4  5  6  7  8  9 10\n",
      "11 12 13 14 15 16 17\n",
      "18 19 20 21 22 23 24\n",
      "25 26 27 28 29 30 31\n",
      "\n"
     ]
    }
   ],
   "source": [
    "# importing calendar module\n",
    "import calendar\n",
    "\n",
    "year = 2022  # year\n",
    "month = 7    # month\n",
    "# display the calendar\n",
    "print(calendar.month(year, month))"
   ]
  },
  {
   "cell_type": "markdown",
   "id": "c766075f",
   "metadata": {},
   "source": [
    "4.\tWrite a Python program to solve quadratic equation?"
   ]
  },
  {
   "cell_type": "code",
   "execution_count": 1,
   "id": "88928132",
   "metadata": {},
   "outputs": [
    {
     "name": "stdout",
     "output_type": "stream",
     "text": [
      "Enter the first coefficient1\n",
      "Enter the first coefficient1\n",
      "Enter the first coefficient1\n",
      "The first root is :  (-0.5-0.8660254037844386j)\n",
      "The second root is :  (-0.5+0.8660254037844386j)\n"
     ]
    }
   ],
   "source": [
    "# import complex math module\n",
    "import cmath\n",
    "while True:\n",
    "    try:\n",
    "        a=float(input(\"Enter the first coefficient\"))\n",
    "        b=float(input(\"Enter the first coefficient\"))\n",
    "        c=float(input(\"Enter the first coefficient\"))\n",
    "        # calculating  the discriminant\n",
    "        dis = (b**2) - (4 * a*c)  \n",
    "        # find the two roots\n",
    "        root1 = (-b-cmath.sqrt(dis))/(2 * a)\n",
    "        root2 = (-b + cmath.sqrt(dis))/(2 * a)\n",
    "        print(\"The first root is : \",root1)\n",
    "        print(\"The second root is : \",root2)\n",
    "        break\n",
    "    except ValueError:\n",
    "        print(\"Please enter numerical values only\")"
   ]
  },
  {
   "cell_type": "markdown",
   "id": "92a65831",
   "metadata": {},
   "source": [
    "5.\tWrite a Python program to swap two variables without temp variable?"
   ]
  },
  {
   "cell_type": "code",
   "execution_count": 2,
   "id": "1d644b65",
   "metadata": {},
   "outputs": [
    {
     "name": "stdout",
     "output_type": "stream",
     "text": [
      "Enter first number: 2\n",
      "Enter second number: 5\n",
      "First_number =  5\n",
      "Second number=  2\n"
     ]
    }
   ],
   "source": [
    "while True:\n",
    "    try:\n",
    "        first_number=int(input(\"Enter first number: \"))\n",
    "        second_number=int(input(\"Enter second number: \"))\n",
    "        first_number=first_number+second_number\n",
    "        second_number=first_number-second_number\n",
    "        first_number=first_number-second_number\n",
    "        print(\"First_number = \",first_number)\n",
    "        print(\"Second number= \",second_number)\n",
    "        break\n",
    "    except ValueError:\n",
    "        print(\"Please enter numerical values only\")"
   ]
  },
  {
   "cell_type": "code",
   "execution_count": null,
   "id": "e509466f",
   "metadata": {},
   "outputs": [],
   "source": []
  }
 ],
 "metadata": {
  "kernelspec": {
   "display_name": "Python 3 (ipykernel)",
   "language": "python",
   "name": "python3"
  },
  "language_info": {
   "codemirror_mode": {
    "name": "ipython",
    "version": 3
   },
   "file_extension": ".py",
   "mimetype": "text/x-python",
   "name": "python",
   "nbconvert_exporter": "python",
   "pygments_lexer": "ipython3",
   "version": "3.9.7"
  }
 },
 "nbformat": 4,
 "nbformat_minor": 5
}
