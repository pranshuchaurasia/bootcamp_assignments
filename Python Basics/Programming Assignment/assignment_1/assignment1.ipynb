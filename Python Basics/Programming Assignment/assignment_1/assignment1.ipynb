{
 "cells": [
  {
   "cell_type": "markdown",
   "id": "02e98378",
   "metadata": {},
   "source": [
    "1. Write a Python program to print \"Hello Python\"?"
   ]
  },
  {
   "cell_type": "code",
   "execution_count": 1,
   "id": "5f8695ee",
   "metadata": {},
   "outputs": [
    {
     "name": "stdout",
     "output_type": "stream",
     "text": [
      "Hello World\n"
     ]
    }
   ],
   "source": [
    "print(\"Hello World\")"
   ]
  },
  {
   "cell_type": "markdown",
   "id": "1c816724",
   "metadata": {},
   "source": [
    "2.\tWrite a Python program to do arithmetical operations addition and division.?"
   ]
  },
  {
   "cell_type": "code",
   "execution_count": 4,
   "id": "c36c5e36",
   "metadata": {},
   "outputs": [
    {
     "name": "stdout",
     "output_type": "stream",
     "text": [
      "Enter first number: 2\n",
      "Enter second number: \n",
      "Please enter integer only\n",
      "Enter first number: a\n",
      "Please enter integer only\n",
      "Enter first number: 2\n",
      "Enter second number: 0\n",
      "Sum=  2\n",
      "Cannot divide by zero\n",
      "Enter first number: 11\n",
      "Enter second number: 1\n",
      "Sum=  12\n",
      "Division=  11.0\n"
     ]
    }
   ],
   "source": [
    "while True:\n",
    "    try:\n",
    "        first_number=int(input(\"Enter first number: \"))\n",
    "        second_number=int(input(\"Enter second number: \"))\n",
    "        sum_numbers = first_number+second_number;\n",
    "        print(\"Sum= \",sum_numbers)\n",
    "        division=first_number/second_number;\n",
    "        print(\"Division= \", division)\n",
    "        break\n",
    "    except ValueError:\n",
    "        print(\"Please enter integer only\")\n",
    "    except ZeroDivisionError:\n",
    "        print(\"Cannot divide by zero\")\n"
   ]
  },
  {
   "cell_type": "markdown",
   "id": "6fa701c7",
   "metadata": {},
   "source": [
    "3.\tWrite a Python program to find the area of a triangle?"
   ]
  },
  {
   "cell_type": "code",
   "execution_count": 12,
   "id": "1cb3e08e",
   "metadata": {},
   "outputs": [
    {
     "name": "stdout",
     "output_type": "stream",
     "text": [
      "Enter height: 1\n",
      "Enter base: 2\n",
      "Area= 1.0 sq. units\n"
     ]
    }
   ],
   "source": [
    "while True:\n",
    "    try:\n",
    "        height=float(input(\"Enter height: \"))\n",
    "        base=float(input(\"Enter base: \"))\n",
    "        area= 0.5*base*height\n",
    "        print(\"Area= {} sq. units\".format(area))\n",
    "        break\n",
    "    except ValueError:\n",
    "        print(\"Please enter numerical values only\")"
   ]
  },
  {
   "cell_type": "markdown",
   "id": "6302e06a",
   "metadata": {},
   "source": [
    "4.\tWrite a Python program to swap two variables?   "
   ]
  },
  {
   "cell_type": "code",
   "execution_count": 1,
   "id": "0d118c16",
   "metadata": {},
   "outputs": [
    {
     "name": "stdout",
     "output_type": "stream",
     "text": [
      "Enter first number: 2\n",
      "Enter second number: 3\n",
      "First_number =  3\n",
      "Second number=  2\n"
     ]
    }
   ],
   "source": [
    "while True:\n",
    "    try:\n",
    "        first_number=int(input(\"Enter first number: \"))\n",
    "        second_number=int(input(\"Enter second number: \"))\n",
    "        first_number=first_number+second_number\n",
    "        second_number=first_number-second_number\n",
    "        first_number=first_number-second_number\n",
    "        print(\"First_number = \",first_number)\n",
    "        print(\"Second number= \",second_number)\n",
    "        break\n",
    "    except ValueError:\n",
    "        print(\"Please enter numerical values only\")"
   ]
  },
  {
   "cell_type": "markdown",
   "id": "89b715c1",
   "metadata": {},
   "source": [
    "5.\tWrite a Python program to generate a random number?"
   ]
  },
  {
   "cell_type": "code",
   "execution_count": 17,
   "id": "7c5f1259",
   "metadata": {},
   "outputs": [
    {
     "name": "stdout",
     "output_type": "stream",
     "text": [
      "45\n",
      "0.3066214795652591\n"
     ]
    }
   ],
   "source": [
    "#importing the random module\n",
    "import random\n",
    "\n",
    "#Printing a random number in range\n",
    "print(random.randint(0,87))\n",
    "\n",
    "#single random number\n",
    "random_number = random.random()\n",
    "print(random_number)"
   ]
  },
  {
   "cell_type": "code",
   "execution_count": null,
   "id": "8d4a70b6",
   "metadata": {},
   "outputs": [],
   "source": []
  }
 ],
 "metadata": {
  "kernelspec": {
   "display_name": "Python 3 (ipykernel)",
   "language": "python",
   "name": "python3"
  },
  "language_info": {
   "codemirror_mode": {
    "name": "ipython",
    "version": 3
   },
   "file_extension": ".py",
   "mimetype": "text/x-python",
   "name": "python",
   "nbconvert_exporter": "python",
   "pygments_lexer": "ipython3",
   "version": "3.9.7"
  }
 },
 "nbformat": 4,
 "nbformat_minor": 5
}
