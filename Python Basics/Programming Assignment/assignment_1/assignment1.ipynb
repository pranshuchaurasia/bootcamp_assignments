{
 "cells": [
  {
   "cell_type": "markdown",
   "id": "6dcd7d03",
   "metadata": {},
   "source": [
    "1. Write a Python program to print \"Hello Python\"?"
   ]
  },
  {
   "cell_type": "code",
   "execution_count": 1,
   "id": "f0ee19e2",
   "metadata": {},
   "outputs": [
    {
     "name": "stdout",
     "output_type": "stream",
     "text": [
      "Hello World\n"
     ]
    }
   ],
   "source": [
    "print(\"Hello World\")"
   ]
  },
  {
   "cell_type": "markdown",
   "id": "2a0d7102",
   "metadata": {},
   "source": [
    "2.\tWrite a Python program to do arithmetical operations addition and division.?"
   ]
  },
  {
   "cell_type": "code",
   "execution_count": 4,
   "id": "81ad8b85",
   "metadata": {},
   "outputs": [
    {
     "name": "stdout",
     "output_type": "stream",
     "text": [
      "Enter first number: 2\n",
      "Enter second number: \n",
      "Please enter integer only\n",
      "Enter first number: a\n",
      "Please enter integer only\n",
      "Enter first number: 2\n",
      "Enter second number: 0\n",
      "Sum=  2\n",
      "Cannot divide by zero\n",
      "Enter first number: 11\n",
      "Enter second number: 1\n",
      "Sum=  12\n",
      "Division=  11.0\n"
     ]
    }
   ],
   "source": [
    "while True:\n",
    "    try:\n",
    "        first_number=int(input(\"Enter first number: \"))\n",
    "        second_number=int(input(\"Enter second number: \"))\n",
    "        sum_numbers = first_number+second_number;\n",
    "        print(\"Sum= \",sum_numbers)\n",
    "        division=first_number/second_number;\n",
    "        print(\"Division= \", division)\n",
    "        break\n",
    "    except ValueError:\n",
    "        print(\"Please enter integer only\")\n",
    "    except ZeroDivisionError:\n",
    "        print(\"Cannot divide by zero\")\n"
   ]
  },
  {
   "cell_type": "markdown",
   "id": "8c1d1027",
   "metadata": {},
   "source": [
    "3.\tWrite a Python program to find the area of a triangle?"
   ]
  },
  {
   "cell_type": "code",
   "execution_count": 12,
   "id": "e182cd07",
   "metadata": {},
   "outputs": [
    {
     "name": "stdout",
     "output_type": "stream",
     "text": [
      "Enter height: 1\n",
      "Enter base: 2\n",
      "Area= 1.0 sq. units\n"
     ]
    }
   ],
   "source": [
    "while True:\n",
    "    try:\n",
    "        height=float(input(\"Enter height: \"))\n",
    "        base=float(input(\"Enter base: \"))\n",
    "        area= 0.5*base*height\n",
    "        print(\"Area= {} sq. units\".format(area))\n",
    "        break\n",
    "    except ValueError:\n",
    "        print(\"Please enter numerical values only\")"
   ]
  },
  {
   "cell_type": "code",
   "execution_count": null,
   "id": "a26d8ae6",
   "metadata": {},
   "outputs": [],
   "source": []
  }
 ],
 "metadata": {
  "kernelspec": {
   "display_name": "Python 3 (ipykernel)",
   "language": "python",
   "name": "python3"
  },
  "language_info": {
   "codemirror_mode": {
    "name": "ipython",
    "version": 3
   },
   "file_extension": ".py",
   "mimetype": "text/x-python",
   "name": "python",
   "nbconvert_exporter": "python",
   "pygments_lexer": "ipython3",
   "version": "3.9.7"
  }
 },
 "nbformat": 4,
 "nbformat_minor": 5
}
