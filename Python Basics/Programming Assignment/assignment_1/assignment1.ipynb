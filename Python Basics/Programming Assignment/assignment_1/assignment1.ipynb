{
 "cells": [
  {
   "cell_type": "markdown",
   "id": "194d6519",
   "metadata": {},
   "source": [
    "1. Write a Python program to print \"Hello Python\"?"
   ]
  },
  {
   "cell_type": "code",
   "execution_count": 1,
   "id": "c876dd26",
   "metadata": {},
   "outputs": [
    {
     "name": "stdout",
     "output_type": "stream",
     "text": [
      "Hello World\n"
     ]
    }
   ],
   "source": [
    "print(\"Hello World\")"
   ]
  },
  {
   "cell_type": "markdown",
   "id": "b7bee61e",
   "metadata": {},
   "source": [
    "2.\tWrite a Python program to do arithmetical operations addition and division.?"
   ]
  },
  {
   "cell_type": "code",
   "execution_count": 4,
   "id": "e4b93399",
   "metadata": {},
   "outputs": [
    {
     "name": "stdout",
     "output_type": "stream",
     "text": [
      "Enter first number: 2\n",
      "Enter second number: \n",
      "Please enter integer only\n",
      "Enter first number: a\n",
      "Please enter integer only\n",
      "Enter first number: 2\n",
      "Enter second number: 0\n",
      "Sum=  2\n",
      "Cannot divide by zero\n",
      "Enter first number: 11\n",
      "Enter second number: 1\n",
      "Sum=  12\n",
      "Division=  11.0\n"
     ]
    }
   ],
   "source": [
    "while True:\n",
    "    try:\n",
    "        first_number=int(input(\"Enter first number: \"))\n",
    "        second_number=int(input(\"Enter second number: \"))\n",
    "        sum_numbers = first_number+second_number;\n",
    "        print(\"Sum= \",sum_numbers)\n",
    "        division=first_number/second_number;\n",
    "        print(\"Division= \", division)\n",
    "        break\n",
    "    except ValueError:\n",
    "        print(\"Please enter integer only\")\n",
    "    except ZeroDivisionError:\n",
    "        print(\"Cannot divide by zero\")\n"
   ]
  },
  {
   "cell_type": "markdown",
   "id": "39aec7c2",
   "metadata": {},
   "source": [
    "3.\tWrite a Python program to find the area of a triangle?"
   ]
  },
  {
   "cell_type": "code",
   "execution_count": null,
   "id": "65c02efa",
   "metadata": {},
   "outputs": [],
   "source": []
  }
 ],
 "metadata": {
  "kernelspec": {
   "display_name": "Python 3 (ipykernel)",
   "language": "python",
   "name": "python3"
  },
  "language_info": {
   "codemirror_mode": {
    "name": "ipython",
    "version": 3
   },
   "file_extension": ".py",
   "mimetype": "text/x-python",
   "name": "python",
   "nbconvert_exporter": "python",
   "pygments_lexer": "ipython3",
   "version": "3.9.7"
  }
 },
 "nbformat": 4,
 "nbformat_minor": 5
}
