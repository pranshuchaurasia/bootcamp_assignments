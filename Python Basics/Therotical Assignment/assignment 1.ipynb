{
 "cells": [
  {
   "cell_type": "markdown",
   "id": "78c7411e",
   "metadata": {},
   "source": [
    "#### 1. In the below elements which of them are values or an expression? eg:- values can be integer or string and expressions will be mathematical operators.\n",
    "\n",
    " #### * , 'hello', -87.8, - ,/ , +, 6 "
   ]
  },
  {
   "cell_type": "markdown",
   "id": "8c778fd6",
   "metadata": {},
   "source": [
    "Values are 'hello' ,-87.8 and 6\n",
    "Wehereas expressions are *, -, /,+"
   ]
  },
  {
   "cell_type": "markdown",
   "id": "ad6dd2f2",
   "metadata": {},
   "source": [
    "#### 2. What is the difference between string and variable?"
   ]
  },
  {
   "cell_type": "markdown",
   "id": "f871be6b",
   "metadata": {},
   "source": [
    "Variable can store values or information in it whereas string is itself an type of information."
   ]
  },
  {
   "cell_type": "markdown",
   "id": "3dcce1a9",
   "metadata": {},
   "source": [
    "#### 3. Describe three different data types."
   ]
  },
  {
   "cell_type": "markdown",
   "id": "c41f8287",
   "metadata": {},
   "source": [
    "Three different built in datatypes are: <br>\n",
    "String(Text type) : Is is used to store chracter values <br>\n",
    "Integer(Numeric Type): Store Integer values  <br>\n",
    "List(Sequence Type): Store muliple objects of different datatypes in a single variable <br>"
   ]
  },
  {
   "cell_type": "markdown",
   "id": "8c7db10b",
   "metadata": {},
   "source": [
    "#### 4. What is an expression made up of? What do all expressions do?"
   ]
  },
  {
   "cell_type": "markdown",
   "id": "0e6e489f",
   "metadata": {},
   "source": [
    "Experssions are the combinations of operators and operands which together produce certain result. For example these expressions can be used to perform  arithmetic, relational and logical operations to provide a desired result."
   ]
  },
  {
   "cell_type": "markdown",
   "id": "c53ced33",
   "metadata": {},
   "source": [
    "#### 5. This assignment statements, like spam = 10. What is the difference between an expression and a statement?"
   ]
  },
  {
   "cell_type": "markdown",
   "id": "fdd3c8db",
   "metadata": {},
   "source": [
    "Experssions are the combinations of operators and operands which together produce certain result whereas statement is just a self contained statemt which does not return anything. "
   ]
  },
  {
   "cell_type": "markdown",
   "id": "8703bfd6",
   "metadata": {},
   "source": [
    "#### 6. After running the following code, what does the variable bacon contain?\n",
    "bacon = 22 <br>\n",
    "bacon + 1\n"
   ]
  },
  {
   "cell_type": "markdown",
   "id": "2bf03bec",
   "metadata": {},
   "source": [
    "Value of bacon is 23"
   ]
  },
  {
   "cell_type": "markdown",
   "id": "1399190f",
   "metadata": {},
   "source": [
    "#### 7. What should the values of the following two terms be?\n",
    "'spam' + 'spamspam' <br>\n",
    "'spam' * 3"
   ]
  },
  {
   "cell_type": "markdown",
   "id": "42e23283",
   "metadata": {},
   "source": [
    "Values of both expression is 'spamspamspam'"
   ]
  },
  {
   "cell_type": "markdown",
   "id": "29c1f50e",
   "metadata": {},
   "source": [
    "#### 8. Why is eggs a valid variable name while 100 is invalid?"
   ]
  },
  {
   "cell_type": "markdown",
   "id": "791ba49f",
   "metadata": {},
   "source": [
    "It is becuase variable name cannot start with an number or is a keyword."
   ]
  },
  {
   "cell_type": "markdown",
   "id": "ac542246",
   "metadata": {},
   "source": [
    "#### 9. What three functions can be used to get the integer, floating-point number, or string version of a value?"
   ]
  },
  {
   "cell_type": "markdown",
   "id": "14105f70",
   "metadata": {},
   "source": [
    "for integer = int() <br>\n",
    "for float = float() <br>\n",
    "for string = str()"
   ]
  },
  {
   "cell_type": "markdown",
   "id": "a25440ad",
   "metadata": {},
   "source": [
    "#### 10. Why does this expression cause an error? How can you fix it?\n",
    "'I have eaten ' + 99 + ' burritos.'"
   ]
  },
  {
   "cell_type": "markdown",
   "id": "684e5eaa",
   "metadata": {},
   "source": [
    "It is because we are trying to combine 99 which is a string value and 'I have eaten ', ' burritos.' which are string values. Combining two different values of datatypes is not possible without implicit and explicit datatype conversion. <br>\n",
    "The correct statement should be: <br>\n",
    "'I have eaten ' + '99' + ' burritos.' <br>\n",
    "Here, all the datatypes are converted to string and hence, the error will be reolved."
   ]
  },
  {
   "cell_type": "code",
   "execution_count": null,
   "id": "b3676503",
   "metadata": {},
   "outputs": [],
   "source": []
  }
 ],
 "metadata": {
  "kernelspec": {
   "display_name": "Python 3 (ipykernel)",
   "language": "python",
   "name": "python3"
  },
  "language_info": {
   "codemirror_mode": {
    "name": "ipython",
    "version": 3
   },
   "file_extension": ".py",
   "mimetype": "text/x-python",
   "name": "python",
   "nbconvert_exporter": "python",
   "pygments_lexer": "ipython3",
   "version": "3.9.7"
  }
 },
 "nbformat": 4,
 "nbformat_minor": 5
}
