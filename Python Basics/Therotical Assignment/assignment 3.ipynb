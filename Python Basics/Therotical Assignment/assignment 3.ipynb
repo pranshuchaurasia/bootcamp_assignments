{
 "cells": [
  {
   "cell_type": "markdown",
   "id": "4b2ddb3b",
   "metadata": {},
   "source": [
    "#### 1. Why are functions advantageous to have in your programs?"
   ]
  },
  {
   "cell_type": "markdown",
   "id": "d4a34211",
   "metadata": {},
   "source": [
    "Functions are useful becuase they are the block of code that can be used over and over again, and thus reducing the requirement for duplication in the code."
   ]
  },
  {
   "cell_type": "markdown",
   "id": "9978e68c",
   "metadata": {},
   "source": [
    "#### 2 . When does the code in a function run: when it's specified or when it's called?"
   ]
  },
  {
   "cell_type": "markdown",
   "id": "b05c5e0e",
   "metadata": {},
   "source": [
    "The code in the function runs when is it is called not when it is defined."
   ]
  },
  {
   "cell_type": "markdown",
   "id": "6658f68f",
   "metadata": {},
   "source": [
    "#### 3. What statement creates a function?"
   ]
  },
  {
   "cell_type": "markdown",
   "id": "d9898910",
   "metadata": {},
   "source": [
    "Using def keyword, we can create functions in python. Example: <br>\n",
    "   ` def test_function():\n",
    "         pass`"
   ]
  },
  {
   "cell_type": "markdown",
   "id": "7fee397b",
   "metadata": {},
   "source": [
    "#### 4. What is the difference between a function and a function call?"
   ]
  },
  {
   "cell_type": "markdown",
   "id": "05573fd7",
   "metadata": {},
   "source": [
    "Function is a set of predifined code whereas duuring function call an actual object is created which allocates spaces to variables and performs computation tasks."
   ]
  },
  {
   "cell_type": "markdown",
   "id": "9db107f6",
   "metadata": {},
   "source": [
    "#### 5. How many global scopes are there in a Python program? How many local scopes?"
   ]
  },
  {
   "cell_type": "markdown",
   "id": "1ef77a04",
   "metadata": {},
   "source": [
    "There’s only one global Python scope per program execution. This scope remains in existence until the program terminates but there can be multiple local copes in a python program."
   ]
  },
  {
   "cell_type": "markdown",
   "id": "ad6215d8",
   "metadata": {},
   "source": [
    "#### 6. What happens to variables in a local scope when the function call returns?"
   ]
  },
  {
   "cell_type": "markdown",
   "id": "868a67de",
   "metadata": {},
   "source": [
    " local scope will terminate when the function execution is completed."
   ]
  },
  {
   "cell_type": "markdown",
   "id": "4cf7208b",
   "metadata": {},
   "source": [
    "####  7. What is the concept of a return value? Is it possible to have a return value in an expression?"
   ]
  },
  {
   "cell_type": "markdown",
   "id": "2827a5a0",
   "metadata": {},
   "source": [
    "It is used by a function to return a value after its execution is done. Yes, it is possible to return an expression in a function."
   ]
  },
  {
   "cell_type": "markdown",
   "id": "f3bbebd5",
   "metadata": {},
   "source": [
    "#### 8. If a function does not have a return statement, what is the return value of a call to that function?"
   ]
  },
  {
   "cell_type": "markdown",
   "id": "deafca15",
   "metadata": {},
   "source": [
    "It will return none and datatype as NoneType. ex:"
   ]
  },
  {
   "cell_type": "code",
   "execution_count": 9,
   "id": "ae78cd33",
   "metadata": {},
   "outputs": [
    {
     "data": {
      "text/plain": [
       "NoneType"
      ]
     },
     "execution_count": 9,
     "metadata": {},
     "output_type": "execute_result"
    }
   ],
   "source": [
    "def test_func():\n",
    "    pass\n",
    "type(test_func())"
   ]
  },
  {
   "cell_type": "markdown",
   "id": "af396635",
   "metadata": {},
   "source": [
    "#### 9. How do you make a function variable refer to the global variable?"
   ]
  },
  {
   "cell_type": "markdown",
   "id": "9a18c08c",
   "metadata": {},
   "source": [
    "We can use either 'global' keyword to make a variable global or declare it ouside the function."
   ]
  },
  {
   "cell_type": "markdown",
   "id": "f74b39e5",
   "metadata": {},
   "source": [
    "#### 10. What is the data type of None?"
   ]
  },
  {
   "cell_type": "markdown",
   "id": "c1bc1bb6",
   "metadata": {},
   "source": [
    "The datatype of None is NoneType."
   ]
  },
  {
   "cell_type": "markdown",
   "id": "ce09f9e6",
   "metadata": {},
   "source": [
    "#### 11. What does the sentence import areallyourpetsnamederic do?"
   ]
  },
  {
   "cell_type": "markdown",
   "id": "21d19702",
   "metadata": {},
   "source": [
    "It will import the module areallyourpetsnamederic and we can utilize the functioanlity of the modules in the imported file."
   ]
  },
  {
   "cell_type": "markdown",
   "id": "0552e4d4",
   "metadata": {},
   "source": [
    "#### 12. If you had a bacon() feature in a spam module, what would you call it after importing spam?"
   ]
  },
  {
   "cell_type": "markdown",
   "id": "4f676422",
   "metadata": {},
   "source": [
    "We can call it using: <br>\n",
    "    spam.bacon()"
   ]
  },
  {
   "cell_type": "markdown",
   "id": "07ca2eaf",
   "metadata": {},
   "source": [
    "####  13. What can you do to save a programme from crashing if it encounters an error?"
   ]
  },
  {
   "cell_type": "markdown",
   "id": "e5013c98",
   "metadata": {},
   "source": [
    "We can use try and except block in order to stop it from crashing."
   ]
  },
  {
   "cell_type": "markdown",
   "id": "2fdd8fbf",
   "metadata": {},
   "source": [
    "#### 14. What is the purpose of the try clause? What is the purpose of the except clause?"
   ]
  },
  {
   "cell_type": "markdown",
   "id": "12e4dd0d",
   "metadata": {},
   "source": [
    "The try block lets us test if a block of code has errors or not. The except block lets us to handle the error."
   ]
  },
  {
   "cell_type": "code",
   "execution_count": null,
   "id": "0696099f",
   "metadata": {},
   "outputs": [],
   "source": []
  }
 ],
 "metadata": {
  "kernelspec": {
   "display_name": "Python 3 (ipykernel)",
   "language": "python",
   "name": "python3"
  },
  "language_info": {
   "codemirror_mode": {
    "name": "ipython",
    "version": 3
   },
   "file_extension": ".py",
   "mimetype": "text/x-python",
   "name": "python",
   "nbconvert_exporter": "python",
   "pygments_lexer": "ipython3",
   "version": "3.9.7"
  }
 },
 "nbformat": 4,
 "nbformat_minor": 5
}
