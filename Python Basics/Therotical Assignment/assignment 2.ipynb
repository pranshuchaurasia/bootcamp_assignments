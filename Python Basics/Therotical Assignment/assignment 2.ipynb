{
 "cells": [
  {
   "cell_type": "markdown",
   "id": "21d5bf5c",
   "metadata": {},
   "source": [
    "#### 1.What are the two values of the Boolean data type? How do you write them?"
   ]
  },
  {
   "cell_type": "markdown",
   "id": "84afc509",
   "metadata": {},
   "source": [
    "Two values of Boolean data type are True and False. We write them as: </br>\n",
    "X= True </br>\n",
    "Y= False"
   ]
  },
  {
   "cell_type": "markdown",
   "id": "865fcdec",
   "metadata": {},
   "source": [
    "#### 2. What are the three different types of Boolean operators?"
   ]
  },
  {
   "cell_type": "markdown",
   "id": "a58598ef",
   "metadata": {},
   "source": [
    "The three different types of Boolean operators are: and, or and not."
   ]
  },
  {
   "cell_type": "markdown",
   "id": "26d9a403",
   "metadata": {},
   "source": [
    "#### 3. Make a list of each Boolean operator's truth tables (i.e. every possible combination of Boolean values for the operator and what it evaluate )."
   ]
  },
  {
   "cell_type": "markdown",
   "id": "8f935e0a",
   "metadata": {},
   "source": [
    "OR truth table: <br>\n",
    "A | B   | A OR B  <br>\n",
    "0 | 0   |  0 <br>\n",
    "0 | 1   |  1 <br>\n",
    "1 | 0   |  1 <br>\n",
    "1 | 1   |  1 <br>"
   ]
  },
  {
   "cell_type": "markdown",
   "id": "db421c70",
   "metadata": {},
   "source": [
    "AND truth table: <br>\n",
    "A | B   | A AND B  <br>\n",
    "0 | 0   |  0 <br>\n",
    "0 | 1   |  0 <br>\n",
    "1 | 0   |  0 <br>\n",
    "1 | 1   |  1 <br>"
   ]
  },
  {
   "cell_type": "markdown",
   "id": "7d546b40",
   "metadata": {},
   "source": [
    "NOT truth table: <br>\n",
    "A | NOT A (!A) <br>\n",
    "0 |  1 <br>\n",
    "1 |  0"
   ]
  },
  {
   "cell_type": "markdown",
   "id": "033f7eee",
   "metadata": {},
   "source": [
    "#### 4. What are the values of the following expressions?"
   ]
  },
  {
   "cell_type": "markdown",
   "id": "33a06e19",
   "metadata": {},
   "source": [
    "(5 > 4) and (3 == 5) -> False"
   ]
  },
  {
   "cell_type": "markdown",
   "id": "580bf184",
   "metadata": {},
   "source": [
    "not (5 > 4) -> False"
   ]
  },
  {
   "cell_type": "markdown",
   "id": "86508d6d",
   "metadata": {},
   "source": [
    "(5 > 4) or (3 == 5) -> True"
   ]
  },
  {
   "cell_type": "markdown",
   "id": "d4d6f7d7",
   "metadata": {},
   "source": [
    "not ((5 > 4) or (3 == 5)) -> False"
   ]
  },
  {
   "cell_type": "markdown",
   "id": "a2935ef5",
   "metadata": {},
   "source": [
    "(True and True) and (True == False) -> False"
   ]
  },
  {
   "cell_type": "markdown",
   "id": "68e65140",
   "metadata": {},
   "source": [
    "(not False) or (not True) -> True"
   ]
  },
  {
   "cell_type": "markdown",
   "id": "ebf9a033",
   "metadata": {},
   "source": [
    "####  5. What are the six comparison operators?"
   ]
  },
  {
   "cell_type": "markdown",
   "id": "f0a897c3",
   "metadata": {},
   "source": [
    "Python has six comparison operators which are:   <br>\n",
    "Less than ( < ) <br>\n",
    "Less than or equal to (<=) <br>\n",
    "Greater than (>) <br>\n",
    "Greater than or equal to (>=) <br>\n",
    "Equal to ( == ) <br>\n",
    "Not equal to ( != ) <br>"
   ]
  },
  {
   "cell_type": "markdown",
   "id": "4fb17dca",
   "metadata": {},
   "source": [
    "#### 6. How do you tell the difference between the equal to and assignment operators?Describe a condition and when you would use one."
   ]
  },
  {
   "cell_type": "markdown",
   "id": "f260d07a",
   "metadata": {},
   "source": [
    "The '=' is an assignment operator is used to assign the value to the variable whereas the '==' operator checks whether the two given operands are equal or not. If equal it return true else return false."
   ]
  },
  {
   "cell_type": "markdown",
   "id": "240e8420",
   "metadata": {},
   "source": [
    "#### 7. Identify the three blocks in this code:  <br>\n",
    "`spam = 0\n",
    "if spam == 10:\n",
    "    print('eggs')\n",
    "    if spam > 5:\n",
    "        print('bacon')\n",
    "    else:\n",
    "        print('ham')\n",
    "    print('spam')\n",
    "print('spam')`\n"
   ]
  },
  {
   "cell_type": "markdown",
   "id": "363bab46",
   "metadata": {},
   "source": [
    "`spam = 0  \n",
    "if spam == 10: \n",
    "    print('eggs')        # indent increased, block A  \n",
    "    if spam > 5:         # still block A  \n",
    "        print('bacon')   # still block A, indent increased, block B inside block A \n",
    "    else:                # still block A, indent decreased, block B ended in line above \n",
    "        print('ham')     # still block A, indent increased, block C inside block A\n",
    "    print('spam')        # still block A, indent decreased, block C ended in line above \n",
    "print('spam')            # indent decreased, block A ended in line above `"
   ]
  },
  {
   "cell_type": "markdown",
   "id": "43f015f7",
   "metadata": {},
   "source": [
    "#### 8. Write code that prints Hello if 1 is stored in spam, prints Howdy if 2 is stored in spam, and prints Greetings! if anything else is stored in spam."
   ]
  },
  {
   "cell_type": "code",
   "execution_count": 3,
   "id": "04b41fb2",
   "metadata": {},
   "outputs": [
    {
     "name": "stdout",
     "output_type": "stream",
     "text": [
      "Enter a number :2\n",
      "Howdy\n"
     ]
    }
   ],
   "source": [
    "spam= int(input(\"Enter a number :\"))\n",
    "if spam == 1:\n",
    "    print(\"Hello\")\n",
    "elif spam ==2:\n",
    "    print(\"Howdy\")\n",
    "else:\n",
    "    print(\"Greetings!\")"
   ]
  },
  {
   "cell_type": "markdown",
   "id": "85d70ef6",
   "metadata": {},
   "source": [
    "####  9.If your programme is stuck in an endless loop, what keys you’ll press?"
   ]
  },
  {
   "cell_type": "markdown",
   "id": "68091a67",
   "metadata": {},
   "source": [
    "ctrl + c"
   ]
  },
  {
   "cell_type": "markdown",
   "id": "bf783f78",
   "metadata": {},
   "source": [
    "#### 10. How can you tell the difference between break and continue?"
   ]
  },
  {
   "cell_type": "markdown",
   "id": "86a09247",
   "metadata": {},
   "source": [
    "Break is used to terminate the loop whereas in continue the statements after it are skipped and the loop control jump to next iteration."
   ]
  },
  {
   "cell_type": "markdown",
   "id": "421c45ef",
   "metadata": {},
   "source": [
    "#### 11. In a for loop, what is the difference between range(10), range(0, 10), and range(0, 10, 1)?"
   ]
  },
  {
   "cell_type": "markdown",
   "id": "6e94c11d",
   "metadata": {},
   "source": [
    "range(10) ---> Prints the range till 10, starting from zero <br>\n",
    "range(0, 10) --->  Prints the range between zero to 10 <br>\n",
    "range(0, 10, 1) --->  Prints the range between zero to 10 in increments from 1 <br>"
   ]
  },
  {
   "cell_type": "markdown",
   "id": "6676b4e2",
   "metadata": {},
   "source": [
    "#### 12. Write a short program that prints the numbers 1 to 10 using a for loop. Then write an equivalent program that prints the numbers 1 to 10 using a while loop."
   ]
  },
  {
   "cell_type": "code",
   "execution_count": 18,
   "id": "b6b4e16e",
   "metadata": {},
   "outputs": [
    {
     "name": "stdout",
     "output_type": "stream",
     "text": [
      "0\n",
      "1\n",
      "2\n",
      "3\n",
      "4\n",
      "5\n",
      "6\n",
      "7\n",
      "8\n",
      "9\n",
      "10\n"
     ]
    }
   ],
   "source": [
    "for i in range(11):\n",
    "    print (i)"
   ]
  },
  {
   "cell_type": "code",
   "execution_count": 19,
   "id": "8500812c",
   "metadata": {},
   "outputs": [
    {
     "name": "stdout",
     "output_type": "stream",
     "text": [
      "0\n",
      "1\n",
      "2\n",
      "3\n",
      "4\n",
      "5\n",
      "6\n",
      "7\n",
      "8\n",
      "9\n",
      "10\n"
     ]
    }
   ],
   "source": [
    "i=0\n",
    "while (i<=10):\n",
    "    print (i)\n",
    "    i+=1"
   ]
  },
  {
   "cell_type": "markdown",
   "id": "a350ae4b",
   "metadata": {},
   "source": [
    "#### 13. If you had a function named bacon() inside a module named spam, how would you call it after importing spam?"
   ]
  },
  {
   "cell_type": "markdown",
   "id": "1400e395",
   "metadata": {},
   "source": [
    "There are two ways:\n",
    "1. spam.bacon() <br>\n",
    "2. from spam import bacon   <br>\n",
    "   bacon()"
   ]
  },
  {
   "cell_type": "code",
   "execution_count": null,
   "id": "88379f5b",
   "metadata": {},
   "outputs": [],
   "source": []
  }
 ],
 "metadata": {
  "kernelspec": {
   "display_name": "Python 3 (ipykernel)",
   "language": "python",
   "name": "python3"
  },
  "language_info": {
   "codemirror_mode": {
    "name": "ipython",
    "version": 3
   },
   "file_extension": ".py",
   "mimetype": "text/x-python",
   "name": "python",
   "nbconvert_exporter": "python",
   "pygments_lexer": "ipython3",
   "version": "3.9.7"
  }
 },
 "nbformat": 4,
 "nbformat_minor": 5
}
