{
 "cells": [
  {
   "cell_type": "markdown",
   "id": "19252fbe",
   "metadata": {},
   "source": [
    "#### 1. Is the Python Standard Library included with PyInputPlus?"
   ]
  },
  {
   "cell_type": "markdown",
   "id": "399b8207",
   "metadata": {},
   "source": [
    "PyInputPlus is not a part of the Python Standard Library, so we must install it separately."
   ]
  },
  {
   "cell_type": "markdown",
   "id": "242ec6c7",
   "metadata": {},
   "source": [
    "#### 2. Why is PyInputPlus commonly imported with import pyinputplus as pypi?"
   ]
  },
  {
   "cell_type": "markdown",
   "id": "3da09e0b",
   "metadata": {},
   "source": [
    "In order to simplyfy each time we call the code."
   ]
  },
  {
   "cell_type": "markdown",
   "id": "322cdf80",
   "metadata": {},
   "source": [
    "#### 3. How do you distinguish between inputInt() and inputFloat()?"
   ]
  },
  {
   "cell_type": "markdown",
   "id": "f4418823",
   "metadata": {},
   "source": [
    "inputInt() : Accepts an integer value, and returns int value whereas inputFloat() : Accepts integer/floating point value and returns float value."
   ]
  },
  {
   "cell_type": "markdown",
   "id": "1ecb88dc",
   "metadata": {},
   "source": [
    "#### 4. Using PyInputPlus, how do you ensure that the user enters a whole number between 0 and 99?"
   ]
  },
  {
   "cell_type": "code",
   "execution_count": 4,
   "id": "b05ed7eb",
   "metadata": {},
   "outputs": [
    {
     "name": "stdout",
     "output_type": "stream",
     "text": [
      "4\n"
     ]
    },
    {
     "data": {
      "text/plain": [
       "4"
      ]
     },
     "execution_count": 4,
     "metadata": {},
     "output_type": "execute_result"
    }
   ],
   "source": [
    "import pyinputplus as pyip\n",
    "pyip.inputInt(min = 0, max =99)"
   ]
  },
  {
   "cell_type": "markdown",
   "id": "5ae5bab9",
   "metadata": {},
   "source": [
    "#### 5. What is transferred to the keyword arguments allowRegexes and blockRegexes?"
   ]
  },
  {
   "cell_type": "markdown",
   "id": "eac226d2",
   "metadata": {},
   "source": [
    "The allowRegexes and blockRegexes keyword arguments take a list of regular expression strings to determine what the PyInputPlus function will accept or reject as valid input. "
   ]
  },
  {
   "cell_type": "markdown",
   "id": "3275a367",
   "metadata": {},
   "source": [
    "response = pyip.inputNum(allowRegexes=[r'(I|V|X|L|C|D|M)+', r'zero']) # it allowes roman letters as numbers too"
   ]
  },
  {
   "cell_type": "markdown",
   "id": "f8c70e7d",
   "metadata": {},
   "source": [
    "response = pyip.inputNum(blockRegexes=[r'[02468]$'])# blocks the even numbers"
   ]
  },
  {
   "cell_type": "markdown",
   "id": "bdb27211",
   "metadata": {},
   "source": [
    "#### 6. If a blank input is entered three times, what does inputStr(limit=3) do?"
   ]
  },
  {
   "cell_type": "markdown",
   "id": "d2231984",
   "metadata": {},
   "source": [
    "It will throw RetryLimitException exception."
   ]
  },
  {
   "cell_type": "markdown",
   "id": "1b85fd89",
   "metadata": {},
   "source": [
    "#### 7. If blank input is entered three times, what does inputStr(limit=3, default='hello') do?"
   ]
  },
  {
   "cell_type": "markdown",
   "id": "85b9f29c",
   "metadata": {},
   "source": [
    "When we use limit keyword arguments and also pass a default keyword argument, the function returns the default value instead of raising an exception"
   ]
  },
  {
   "cell_type": "code",
   "execution_count": null,
   "id": "37fecc72",
   "metadata": {},
   "outputs": [],
   "source": []
  }
 ],
 "metadata": {
  "kernelspec": {
   "display_name": "Python 3 (ipykernel)",
   "language": "python",
   "name": "python3"
  },
  "language_info": {
   "codemirror_mode": {
    "name": "ipython",
    "version": 3
   },
   "file_extension": ".py",
   "mimetype": "text/x-python",
   "name": "python",
   "nbconvert_exporter": "python",
   "pygments_lexer": "ipython3",
   "version": "3.9.7"
  }
 },
 "nbformat": 4,
 "nbformat_minor": 5
}
