{
 "cells": [
  {
   "cell_type": "markdown",
   "id": "8348837d",
   "metadata": {},
   "source": [
    "#### 1. What exactly is [ ]?"
   ]
  },
  {
   "cell_type": "markdown",
   "id": "472d4524",
   "metadata": {},
   "source": [
    " [] is used Create a list literal </br>\n",
    "elements = [\"H\", \"He\", \"Li\"] </br>\n",
    "The empty list value, which is a list value that contains no items. This is similar to how '' is the empty string value."
   ]
  },
  {
   "cell_type": "markdown",
   "id": "d055f191",
   "metadata": {},
   "source": [
    "#### 2. In a list of values stored in a variable called spam, how would you assign the value &#39;hello&#39; as the third value? (Assume [2, 4, 6, 8, 10] are in spam.)"
   ]
  },
  {
   "cell_type": "markdown",
   "id": "eae9aaa7",
   "metadata": {},
   "source": [
    "spam[2] = 'hello' (Notice that the third value in a list is at index 2 because the first index is 0."
   ]
  },
  {
   "cell_type": "markdown",
   "id": "dd487858",
   "metadata": {},
   "source": []
  },
  {
   "cell_type": "code",
   "execution_count": null,
   "id": "f61627e7",
   "metadata": {},
   "outputs": [],
   "source": []
  },
  {
   "cell_type": "markdown",
   "id": "9abd3bdb",
   "metadata": {},
   "source": [
    "3. What is the value of spam[int(int('3' * 2) / 11)]?"
   ]
  },
  {
   "cell_type": "markdown",
   "id": "a0942710",
   "metadata": {},
   "source": [
    "'d' (Note that '3' * 2 is the string '33', which is passed to int() before being divided by 11. This eventually evaluates to 3. Expressions can be used wherever values are used.)"
   ]
  },
  {
   "cell_type": "markdown",
   "id": "f86760f6",
   "metadata": {},
   "source": [
    "4. What is the value of spam[-1]?"
   ]
  },
  {
   "cell_type": "markdown",
   "id": "87e40682",
   "metadata": {},
   "source": [
    "'d' (Negative indexes count from the end.)"
   ]
  },
  {
   "cell_type": "markdown",
   "id": "f4537417",
   "metadata": {},
   "source": [
    "5. What is the value of spam[:2]?\n",
    "Let's pretend bacon has the list [3.14, 'cat,' 11, 'cat,' True] for the next three questions."
   ]
  },
  {
   "cell_type": "code",
   "execution_count": 5,
   "id": "a74f81dd",
   "metadata": {},
   "outputs": [
    {
     "data": {
      "text/plain": [
       "['a', 'b']"
      ]
     },
     "execution_count": 5,
     "metadata": {},
     "output_type": "execute_result"
    }
   ],
   "source": [
    "['a', 'b']"
   ]
  },
  {
   "cell_type": "markdown",
   "id": "8161789d",
   "metadata": {},
   "source": [
    "6. What is the value of bacon.index('cat')?"
   ]
  },
  {
   "cell_type": "markdown",
   "id": "1b1150fd",
   "metadata": {},
   "source": [
    "1"
   ]
  },
  {
   "cell_type": "markdown",
   "id": "4ed36456",
   "metadata": {},
   "source": [
    "7. How does bacon.append(99) change the look of the list value in bacon?"
   ]
  },
  {
   "cell_type": "code",
   "execution_count": 3,
   "id": "887ab2de",
   "metadata": {},
   "outputs": [
    {
     "data": {
      "text/plain": [
       "[3.14, 'cat', 11, 'cat', True, 99]"
      ]
     },
     "execution_count": 3,
     "metadata": {},
     "output_type": "execute_result"
    }
   ],
   "source": [
    "[3.14, 'cat', 11, 'cat', True, 99]"
   ]
  },
  {
   "cell_type": "markdown",
   "id": "739fda1b",
   "metadata": {},
   "source": [
    "8. How does bacon.remove('cat') change the look of the list in bacon?"
   ]
  },
  {
   "cell_type": "code",
   "execution_count": 2,
   "id": "db04171b",
   "metadata": {},
   "outputs": [
    {
     "data": {
      "text/plain": [
       "[3.14, 11, 'cat', True]"
      ]
     },
     "execution_count": 2,
     "metadata": {},
     "output_type": "execute_result"
    }
   ],
   "source": [
    "[3.14, 11, 'cat', True]"
   ]
  },
  {
   "cell_type": "markdown",
   "id": "aaf0efe5",
   "metadata": {},
   "source": [
    "9. What are the list concatenation and list replication operators?"
   ]
  },
  {
   "cell_type": "markdown",
   "id": "da8de74a",
   "metadata": {},
   "source": [
    "The operator for list concatenation is +, while the operator for replication is *. (This is the same as for strings.)"
   ]
  },
  {
   "cell_type": "markdown",
   "id": "49837120",
   "metadata": {},
   "source": [
    "10. What is difference between the list methods append() and insert()?"
   ]
  },
  {
   "cell_type": "markdown",
   "id": "eb10126f",
   "metadata": {},
   "source": [
    "While append() will add values only to the end of a list, insert() can add them anywhere in the list."
   ]
  },
  {
   "cell_type": "markdown",
   "id": "03fa7a85",
   "metadata": {},
   "source": [
    "11. What are the two methods for removing items from a list?"
   ]
  },
  {
   "cell_type": "markdown",
   "id": "20bf37b3",
   "metadata": {},
   "source": [
    "The methods are remove(), pop() and clear(). It helps to remove the very first given element matching from the list. The pop() method removes an element from the list based on the index given. The clear() method will remove all the elements present in the list."
   ]
  },
  {
   "cell_type": "markdown",
   "id": "9c4c843b",
   "metadata": {},
   "source": [
    "12. Describe how list values and string values are identical."
   ]
  },
  {
   "cell_type": "markdown",
   "id": "d42baad4",
   "metadata": {},
   "source": [
    "Both strings and lists have lengths: a string's length is the number of characters in the string; a list's length is the number of items in the list. Each character in a string as well as each item in a list has a position, also called an index."
   ]
  },
  {
   "cell_type": "markdown",
   "id": "4c3973c0",
   "metadata": {},
   "source": [
    "13. What's the difference between tuples and lists?"
   ]
  },
  {
   "cell_type": "markdown",
   "id": "0c70fb9f",
   "metadata": {},
   "source": [
    "The primary difference between tuples and lists is that tuples are immutable as opposed to lists which are mutable. "
   ]
  },
  {
   "cell_type": "markdown",
   "id": "07c78c48",
   "metadata": {},
   "source": [
    "14. How do you type a tuple value that only contains the integer 42?"
   ]
  },
  {
   "cell_type": "code",
   "execution_count": 10,
   "id": "ebb80be4",
   "metadata": {},
   "outputs": [
    {
     "name": "stdout",
     "output_type": "stream",
     "text": [
      "<class 'tuple'>\n"
     ]
    }
   ],
   "source": [
    "x = tuple(['a'])\n",
    "print(type(x))"
   ]
  },
  {
   "cell_type": "markdown",
   "id": "b0f4a777",
   "metadata": {},
   "source": [
    "15. How do you get a list value's tuple form? How do you get a tuple value's list form?"
   ]
  },
  {
   "cell_type": "code",
   "execution_count": 7,
   "id": "072f4611",
   "metadata": {},
   "outputs": [
    {
     "name": "stdout",
     "output_type": "stream",
     "text": [
      "('Compile', 'With', 'Favtutor')\n",
      "<class 'tuple'>\n"
     ]
    }
   ],
   "source": [
    "sample_list = ['Compile', 'With', 'Favtutor']\n",
    "\n",
    "#convert list into tuple\n",
    "tuple1 = tuple(sample_list)\n",
    "\n",
    "print(tuple1)\n",
    "print(type(tuple1))\n"
   ]
  },
  {
   "cell_type": "markdown",
   "id": "40769d40",
   "metadata": {},
   "source": [
    "16. Variables that \"contain\" list values are not necessarily lists themselves. Instead, what do they contain?"
   ]
  },
  {
   "cell_type": "markdown",
   "id": "c0962cc2",
   "metadata": {},
   "source": [
    "Variables will contain references to list values rather than list values themselves. But for strings and integer values, variables simply contain the string or integer value."
   ]
  },
  {
   "cell_type": "markdown",
   "id": "12116a4b",
   "metadata": {},
   "source": [
    "17. How do you distinguish between copy.copy() and copy.deepcopy()?"
   ]
  },
  {
   "cell_type": "markdown",
   "id": "4f72af1b",
   "metadata": {},
   "source": [
    "copy() create reference to original object. If you change copied object - you change the original object. . deepcopy() creates new object and does real copying of original object to new one."
   ]
  },
  {
   "cell_type": "code",
   "execution_count": null,
   "id": "17c2f279",
   "metadata": {},
   "outputs": [],
   "source": []
  }
 ],
 "metadata": {
  "kernelspec": {
   "display_name": "Python 3 (ipykernel)",
   "language": "python",
   "name": "python3"
  },
  "language_info": {
   "codemirror_mode": {
    "name": "ipython",
    "version": 3
   },
   "file_extension": ".py",
   "mimetype": "text/x-python",
   "name": "python",
   "nbconvert_exporter": "python",
   "pygments_lexer": "ipython3",
   "version": "3.9.7"
  }
 },
 "nbformat": 4,
 "nbformat_minor": 5
}
