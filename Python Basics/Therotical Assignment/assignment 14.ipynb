{
 "cells": [
  {
   "cell_type": "markdown",
   "id": "29c7fb0f",
   "metadata": {},
   "source": [
    "1. What does RGBA stand for?"
   ]
  },
  {
   "cell_type": "markdown",
   "id": "8ffeb462",
   "metadata": {},
   "source": [
    " RGBA is a four-channel format containing data for Red, Green, Blue, and an Alpha value. Where Alpha Represents the Opacity"
   ]
  },
  {
   "cell_type": "markdown",
   "id": "79e2a51f",
   "metadata": {},
   "source": [
    "2. From the Pillow module, how do you get the RGBA value of any images?"
   ]
  },
  {
   "cell_type": "markdown",
   "id": "b50a6c66",
   "metadata": {},
   "source": [
    "ImageColor.getcolor() gives rgba value of any image"
   ]
  },
  {
   "cell_type": "markdown",
   "id": "61b32910",
   "metadata": {},
   "source": [
    "3. What is a box tuple, and how does it work?"
   ]
  },
  {
   "cell_type": "markdown",
   "id": "46650e08",
   "metadata": {},
   "source": [
    "A box tuple is a tuple value of four integers: the left-edge x-coordinate, the top-edge y-coordinate,the width, and the height, respectively."
   ]
  },
  {
   "cell_type": "markdown",
   "id": "e51ca95c",
   "metadata": {},
   "source": [
    "4. Use your image and load in notebook then, How can you find out the width and height of an Image object?"
   ]
  },
  {
   "cell_type": "code",
   "execution_count": 1,
   "id": "4f754e25",
   "metadata": {},
   "outputs": [
    {
     "name": "stdout",
     "output_type": "stream",
     "text": [
      "Width, Height -> (1920, 1200)\n",
      "Width, Height -> 1920,1200\n",
      "Width, Height -> 1920,1200\n"
     ]
    }
   ],
   "source": [
    "#Example Program\n",
    "from PIL import Image\n",
    "pic = Image.open('Pic.jpg')\n",
    "print(f'Width, Height -> {pic.size}') # Approach 1\n",
    "print(f'Width, Height -> {pic.width},{pic.height}') # Approach 2\n",
    "width,height = pic.size\n",
    "print(f'Width, Height -> {width},{height}') # Approach 3"
   ]
  },
  {
   "cell_type": "markdown",
   "id": "c11ea728",
   "metadata": {},
   "source": [
    "5. What method would you call to get Image object for a 100×100 image, excluding the lower-left quarter of it?"
   ]
  },
  {
   "cell_type": "code",
   "execution_count": 2,
   "id": "67013963",
   "metadata": {},
   "outputs": [],
   "source": [
    "from PIL import Image\n",
    "img = Image.open('Pic.jpg')\n",
    "new_img = img.crop((0,50,50,50))"
   ]
  },
  {
   "cell_type": "markdown",
   "id": "7c2830fb",
   "metadata": {},
   "source": [
    "6. After making changes to an Image object, how could you save it as an image file?"
   ]
  },
  {
   "cell_type": "code",
   "execution_count": 3,
   "id": "92d23092",
   "metadata": {},
   "outputs": [],
   "source": [
    "#Example Program\n",
    "from PIL import Image\n",
    "pic = Image.open('pic.jpg')\n",
    "pic.save('pic2.jpg')"
   ]
  },
  {
   "cell_type": "markdown",
   "id": "d5f8bbd6",
   "metadata": {},
   "source": [
    "7. What module contains Pillow’s shape-drawing code?"
   ]
  },
  {
   "cell_type": "markdown",
   "id": "7aea5df7",
   "metadata": {},
   "source": [
    "Pillows ImageDraw module contains Shape drawing methods"
   ]
  },
  {
   "cell_type": "markdown",
   "id": "8c924626",
   "metadata": {},
   "source": [
    "8. Image objects do not have drawing methods. What kind of object does? How do you get this kind of object?"
   ]
  },
  {
   "cell_type": "markdown",
   "id": "cf10d900",
   "metadata": {},
   "source": [
    " ImageDraw objects have shape-drawing methods such as point(), line(), or rectangle().They are returned by passing the Image object to the ImageDraw.Draw() function."
   ]
  },
  {
   "cell_type": "code",
   "execution_count": null,
   "id": "17a684d2",
   "metadata": {},
   "outputs": [],
   "source": []
  }
 ],
 "metadata": {
  "kernelspec": {
   "display_name": "Python 3 (ipykernel)",
   "language": "python",
   "name": "python3"
  },
  "language_info": {
   "codemirror_mode": {
    "name": "ipython",
    "version": 3
   },
   "file_extension": ".py",
   "mimetype": "text/x-python",
   "name": "python",
   "nbconvert_exporter": "python",
   "pygments_lexer": "ipython3",
   "version": "3.9.7"
  }
 },
 "nbformat": 4,
 "nbformat_minor": 5
}
