{
 "cells": [
  {
   "cell_type": "markdown",
   "id": "bab95255",
   "metadata": {},
   "source": [
    "1. Add the current date to the text file today.txt as a string."
   ]
  },
  {
   "cell_type": "code",
   "execution_count": 1,
   "id": "b5c55e9f",
   "metadata": {},
   "outputs": [
    {
     "name": "stdout",
     "output_type": "stream",
     "text": [
      "05-12-2022\n"
     ]
    }
   ],
   "source": [
    "import datetime\n",
    "# Code to Add current date to the today.txt file\n",
    "file = open('today.txt','w')\n",
    "file.write(datetime.datetime.now().strftime(\"%d-%m-%Y\"))\n",
    "file.close()\n",
    "# Code to Read current date from today.txt file\n",
    "file = open('today.txt','r')\n",
    "print(file.read())\n",
    "file.close()"
   ]
  },
  {
   "cell_type": "markdown",
   "id": "daed730c",
   "metadata": {},
   "source": [
    "2. Read the text file today.txt into the string today_string"
   ]
  },
  {
   "cell_type": "code",
   "execution_count": 2,
   "id": "40232713",
   "metadata": {},
   "outputs": [
    {
     "name": "stdout",
     "output_type": "stream",
     "text": [
      "05-12-2022\n"
     ]
    }
   ],
   "source": [
    "file = open('today.txt','r')\n",
    "today_string = file.read()\n",
    "print(today_string)"
   ]
  },
  {
   "cell_type": "markdown",
   "id": "8955a4fb",
   "metadata": {},
   "source": [
    "3. Parse the date from today_string."
   ]
  },
  {
   "cell_type": "code",
   "execution_count": 3,
   "id": "a9dbead1",
   "metadata": {},
   "outputs": [
    {
     "name": "stdout",
     "output_type": "stream",
     "text": [
      "2022-12-05 00:00:00\n"
     ]
    }
   ],
   "source": [
    "from datetime import datetime\n",
    "parsed_data = datetime.strptime(today_string, '%d-%m-%Y')\n",
    "print(parsed_data)"
   ]
  },
  {
   "cell_type": "markdown",
   "id": "dfe4e4a9",
   "metadata": {},
   "source": [
    "4. List the files in your current directory"
   ]
  },
  {
   "cell_type": "code",
   "execution_count": 4,
   "id": "e31fd4bf",
   "metadata": {},
   "outputs": [
    {
     "name": "stdout",
     "output_type": "stream",
     "text": [
      "assignment 1.ipynb\n",
      "assignment 10.ipynb\n",
      "assignment 11.ipynb\n",
      "assignment 12.ipynb\n",
      "assignment 13.ipynb\n",
      "assignment 14.ipynb\n",
      "assignment 15.ipynb\n",
      "assignment 16.ipynb\n",
      "assignment 17.ipynb\n",
      "assignment 18.ipynb\n",
      "assignment 19.ipynb\n",
      "assignment 2.ipynb\n",
      "assignment 20.ipynb\n",
      "assignment 21.ipynb\n",
      "assignment 22.ipynb\n",
      "assignment 23.ipynb\n",
      "assignment 24.ipynb\n",
      "assignment 25.ipynb\n",
      "assignment 3.ipynb\n",
      "assignment 4.ipynb\n",
      "assignment 5.ipynb\n",
      "assignment 6.ipynb\n",
      "assignment 7.ipynb\n",
      "assignment 8.ipynb\n",
      "assignment 9.ipynb\n",
      "today.txt\n",
      "Untitled.ipynb\n",
      "assignment 1-checkpoint.ipynb\n",
      "assignment 10-checkpoint.ipynb\n",
      "assignment 11-checkpoint.ipynb\n",
      "assignment 12-checkpoint.ipynb\n",
      "assignment 13-checkpoint.ipynb\n",
      "assignment 14-checkpoint.ipynb\n",
      "assignment 15-checkpoint.ipynb\n",
      "assignment 16-checkpoint.ipynb\n",
      "assignment 17-checkpoint.ipynb\n",
      "assignment 18-checkpoint.ipynb\n",
      "assignment 19-checkpoint.ipynb\n",
      "assignment 2-checkpoint.ipynb\n",
      "assignment 20-checkpoint.ipynb\n",
      "assignment 21-checkpoint.ipynb\n",
      "assignment 22-checkpoint.ipynb\n",
      "assignment 23-checkpoint.ipynb\n",
      "assignment 24-checkpoint.ipynb\n",
      "assignment 25-checkpoint.ipynb\n",
      "assignment 3-checkpoint.ipynb\n",
      "assignment 4-checkpoint.ipynb\n",
      "assignment 5-checkpoint.ipynb\n",
      "assignment 6-checkpoint.ipynb\n",
      "assignment 7-checkpoint.ipynb\n",
      "assignment 8-checkpoint.ipynb\n",
      "assignment 9-checkpoint.ipynb\n",
      "Untitled-checkpoint.ipynb\n"
     ]
    }
   ],
   "source": [
    "import os\n",
    "for folders, subfolders, files in os.walk(os.getcwd()):\n",
    "    for file in files:\n",
    "        print(file)"
   ]
  },
  {
   "cell_type": "markdown",
   "id": "36320052",
   "metadata": {},
   "source": [
    "5. Create a list of all of the files in your parent directory (minimum five files should be available)."
   ]
  },
  {
   "cell_type": "code",
   "execution_count": 5,
   "id": "85ccf03b",
   "metadata": {},
   "outputs": [
    {
     "data": {
      "text/plain": [
       "['.ipynb_checkpoints',\n",
       " 'assignment 1.ipynb',\n",
       " 'assignment 10.ipynb',\n",
       " 'assignment 11.ipynb',\n",
       " 'assignment 12.ipynb',\n",
       " 'assignment 13.ipynb',\n",
       " 'assignment 14.ipynb',\n",
       " 'assignment 15.ipynb',\n",
       " 'assignment 16.ipynb',\n",
       " 'assignment 17.ipynb',\n",
       " 'assignment 18.ipynb',\n",
       " 'assignment 19.ipynb',\n",
       " 'assignment 2.ipynb',\n",
       " 'assignment 20.ipynb',\n",
       " 'assignment 21.ipynb',\n",
       " 'assignment 22.ipynb',\n",
       " 'assignment 23.ipynb',\n",
       " 'assignment 24.ipynb',\n",
       " 'assignment 25.ipynb',\n",
       " 'assignment 3.ipynb',\n",
       " 'assignment 4.ipynb',\n",
       " 'assignment 5.ipynb',\n",
       " 'assignment 6.ipynb',\n",
       " 'assignment 7.ipynb',\n",
       " 'assignment 8.ipynb',\n",
       " 'assignment 9.ipynb',\n",
       " 'today.txt',\n",
       " 'Untitled.ipynb']"
      ]
     },
     "execution_count": 5,
     "metadata": {},
     "output_type": "execute_result"
    }
   ],
   "source": [
    "import os \n",
    "os.listdir()"
   ]
  },
  {
   "cell_type": "markdown",
   "id": "2e0c4aa1",
   "metadata": {},
   "source": [
    "6. Use multiprocessing to create three separate processes. Make each one wait a random number of seconds between one and five, print the current time, and then exit."
   ]
  },
  {
   "cell_type": "code",
   "execution_count": 11,
   "id": "707aee1c",
   "metadata": {},
   "outputs": [
    {
     "name": "stdout",
     "output_type": "stream",
     "text": [
      "Result(in main program): [0, 0, 0, 0]\n",
      "Sum of squares(in main program): 0\n"
     ]
    }
   ],
   "source": [
    "import multiprocessing\n",
    "\n",
    "def square_list(mylist, result, square_sum):\n",
    "    \"\"\"\n",
    "    function to square a given list\n",
    "    \"\"\"\n",
    "    # append squares of mylist to result array\n",
    "    for idx, num in enumerate(mylist):\n",
    "        result[idx] = num * num\n",
    "\n",
    "    # square_sum value\n",
    "    square_sum.value = sum(result)\n",
    "\n",
    "    # print result Array\n",
    "    print(\"Result(in process p1): {}\".format(result[:]))\n",
    "\n",
    "    # print square_sum Value\n",
    "    print(\"Sum of squares(in process p1): {}\".format(square_sum.value))\n",
    "\n",
    "if __name__ == \"__main__\":\n",
    "    # input list\n",
    "    mylist = [1,2,3,4]\n",
    "\n",
    "    # creating Array of int data type with space for 4 integers\n",
    "    result = multiprocessing.Array('i', 4)\n",
    "\n",
    "    # creating Value of int data type\n",
    "    square_sum = multiprocessing.Value('i')\n",
    "\n",
    "    # creating new process\n",
    "    p1 = multiprocessing.Process(target=square_list, args=(mylist, result, square_sum))\n",
    "\n",
    "    # starting process\n",
    "    p1.start()\n",
    "\n",
    "    # wait until the process is finished\n",
    "    p1.join()\n",
    "\n",
    "    # print result array\n",
    "    print(\"Result(in main program): {}\".format(result[:]))\n",
    "\n",
    "    # print square_sum Value\n",
    "    print(\"Sum of squares(in main program): {}\".format(square_sum.value))\n"
   ]
  },
  {
   "cell_type": "code",
   "execution_count": 7,
   "id": "56fecd46",
   "metadata": {},
   "outputs": [],
   "source": [
    "import multiprocessing\n",
    "import time \n",
    "import random\n",
    "import datetime\n",
    "\n",
    "def procOne():\n",
    "    print(f'Proc_one_Starttime -> {datetime.datetime.now()}')\n",
    "    time.sleep(random.randint(1,5))\n",
    "    print(f'Proc_one_Endtime -> {datetime.datetime.now()}')\n",
    "    \n",
    "def procTwo():\n",
    "    print(f'Proc_two_Starttime -> {datetime.datetime.now()}')\n",
    "    time.sleep(random.randint(1,5))\n",
    "    print(f'Proc_two_Endtime -> {datetime.datetime.now()}')\n",
    "\n",
    "def procThree():\n",
    "    print(f'Proc_two_Starttime -> {datetime.datetime.now()}')\n",
    "    time.sleep(random.randint(1,5))\n",
    "    print(f'Proc_two_Endtime -> {datetime.datetime.now()}')\n",
    "    \n",
    "if __name__ == \"__main__\":    \n",
    "    p1 = multiprocessing.Process(target=procOne)\n",
    "    p2 = multiprocessing.Process(target=procTwo)\n",
    "    p3 = multiprocessing.Process(target=procThree)\n",
    "\n",
    "    p1.start()\n",
    "    p2.start()\n",
    "    p3.start()\n",
    "\n",
    "    p1.join()\n",
    "    p2.join()\n",
    "    p3.join()"
   ]
  },
  {
   "cell_type": "markdown",
   "id": "568c4989",
   "metadata": {},
   "source": [
    "7. Create a date object of your day of birth."
   ]
  },
  {
   "cell_type": "code",
   "execution_count": 8,
   "id": "424f9dce",
   "metadata": {},
   "outputs": [
    {
     "name": "stdout",
     "output_type": "stream",
     "text": [
      "2000-10-01 00:00:00 <class 'datetime.datetime'>\n"
     ]
    }
   ],
   "source": [
    "from datetime import datetime\n",
    "my_dob = datetime.strptime('1/10/2000','%d/%m/%Y')\n",
    "print(my_dob, type(my_dob))"
   ]
  },
  {
   "cell_type": "markdown",
   "id": "72e3a89a",
   "metadata": {},
   "source": [
    "8. What day of the week was your day of birth?"
   ]
  },
  {
   "cell_type": "code",
   "execution_count": 5,
   "id": "e73f2bbb",
   "metadata": {},
   "outputs": [
    {
     "name": "stdout",
     "output_type": "stream",
     "text": [
      "Sunday\n"
     ]
    }
   ],
   "source": [
    "# Python program to Find day of\n",
    "# the week for a given date\n",
    "import calendar\n",
    "\n",
    "def findDay(date):\n",
    "    day, month, year = (int(i) for i in date.split(' '))\n",
    "    dayNumber = calendar.weekday(year, month, day)\n",
    "    days =[\"Monday\", \"Tuesday\", \"Wednesday\", \"Thursday\",\"Friday\", \"Saturday\", \"Sunday\"]\n",
    "    return (days[dayNumber])\n",
    "\n",
    "# Driver program\n",
    "date = '03 02 2019'\n",
    "print(findDay(date))\n"
   ]
  },
  {
   "cell_type": "markdown",
   "id": "5adc3c7e",
   "metadata": {},
   "source": [
    "9. When will you be (or when were you) 10,000 days old?"
   ]
  },
  {
   "cell_type": "code",
   "execution_count": 1,
   "id": "24782596",
   "metadata": {},
   "outputs": [
    {
     "name": "stdout",
     "output_type": "stream",
     "text": [
      "2035-10-05\n"
     ]
    }
   ],
   "source": [
    "import datetime\n",
    "\n",
    "start_date = datetime.datetime(year=2008, month=5, day=19)\n",
    "\n",
    "end_date = start_date + datetime.timedelta(days=10000)\n",
    "\n",
    "print(end_date.date())"
   ]
  },
  {
   "cell_type": "code",
   "execution_count": null,
   "id": "c9d10cdd",
   "metadata": {},
   "outputs": [],
   "source": []
  }
 ],
 "metadata": {
  "kernelspec": {
   "display_name": "Python 3 (ipykernel)",
   "language": "python",
   "name": "python3"
  },
  "language_info": {
   "codemirror_mode": {
    "name": "ipython",
    "version": 3
   },
   "file_extension": ".py",
   "mimetype": "text/x-python",
   "name": "python",
   "nbconvert_exporter": "python",
   "pygments_lexer": "ipython3",
   "version": "3.9.7"
  }
 },
 "nbformat": 4,
 "nbformat_minor": 5
}
