{
 "cells": [
  {
   "cell_type": "markdown",
   "id": "0e216e0c",
   "metadata": {},
   "source": [
    "#### 1. In the below elements which of them are values or an expression? eg:- values can be integer or string and expressions will be mathematical operators.\n",
    "\n",
    " #### * , 'hello', -87.8, - ,/ , +, 6 "
   ]
  },
  {
   "cell_type": "markdown",
   "id": "a4de8390",
   "metadata": {},
   "source": [
    "Values are 'hello' ,-87.8 and 6\n",
    "Wehereas expressions are *, -, /,+"
   ]
  },
  {
   "cell_type": "markdown",
   "id": "3c0873f9",
   "metadata": {},
   "source": [
    "#### 2. What is the difference between string and variable?"
   ]
  },
  {
   "cell_type": "markdown",
   "id": "11410a59",
   "metadata": {},
   "source": [
    "Variable can store values or information in it whereas string is itself an type of information."
   ]
  },
  {
   "cell_type": "markdown",
   "id": "c20c31a1",
   "metadata": {},
   "source": [
    "#### 3. Describe three different data types."
   ]
  },
  {
   "cell_type": "markdown",
   "id": "6b6c2f8e",
   "metadata": {},
   "source": [
    "Three different built in datatypes are: <br>\n",
    "String(Text type) : Is is used to store chracter values <br>\n",
    "Integer(Numeric Type): Store Integer values  <br>\n",
    "List(Sequence Type): Store muliple objects of different datatypes in a single variable <br>"
   ]
  },
  {
   "cell_type": "markdown",
   "id": "8d9d776b",
   "metadata": {},
   "source": [
    "#### 4. What is an expression made up of? What do all expressions do?"
   ]
  },
  {
   "cell_type": "markdown",
   "id": "2a5795bb",
   "metadata": {},
   "source": [
    "Experssions are the combinations of operators and operands which together produce certain result. For example these expressions can be used to perform  arithmetic, relational and logical operations to provide a desired result."
   ]
  },
  {
   "cell_type": "markdown",
   "id": "d2e0c30e",
   "metadata": {},
   "source": [
    "#### 5. This assignment statements, like spam = 10. What is the difference between an expression and a statement?"
   ]
  },
  {
   "cell_type": "markdown",
   "id": "9057bc71",
   "metadata": {},
   "source": [
    "Experssions are the combinations of operators and operands which together produce certain result whereas statement is just a self contained statemt which does not return anything. "
   ]
  },
  {
   "cell_type": "markdown",
   "id": "9c299977",
   "metadata": {},
   "source": [
    "#### 6. After running the following code, what does the variable bacon contain?\n",
    "bacon = 22 <br>\n",
    "bacon + 1\n"
   ]
  },
  {
   "cell_type": "markdown",
   "id": "ea062e73",
   "metadata": {},
   "source": [
    "Value of bacon is 23"
   ]
  },
  {
   "cell_type": "markdown",
   "id": "bc26d2d9",
   "metadata": {},
   "source": [
    "#### 7. What should the values of the following two terms be?\n",
    "'spam' + 'spamspam' <br>\n",
    "'spam' * 3"
   ]
  },
  {
   "cell_type": "markdown",
   "id": "28eec7c2",
   "metadata": {},
   "source": [
    "Values of both expression is 'spamspamspam'"
   ]
  },
  {
   "cell_type": "markdown",
   "id": "91a0275b",
   "metadata": {},
   "source": [
    "#### 8. Why is eggs a valid variable name while 100 is invalid?"
   ]
  },
  {
   "cell_type": "markdown",
   "id": "18c252d4",
   "metadata": {},
   "source": [
    "It is becuase variable name cannot start with an number or is a keyword."
   ]
  },
  {
   "cell_type": "markdown",
   "id": "568d3883",
   "metadata": {},
   "source": [
    "#### 9. What three functions can be used to get the integer, floating-point number, or string version of a value?"
   ]
  },
  {
   "cell_type": "markdown",
   "id": "946559da",
   "metadata": {},
   "source": [
    "for integer = int() <br>\n",
    "for float = float() <br>\n",
    "for string = str()"
   ]
  },
  {
   "cell_type": "markdown",
   "id": "c9e13286",
   "metadata": {},
   "source": [
    "#### 10. Why does this expression cause an error? How can you fix it?\n",
    "'I have eaten ' + 99 + ' burritos.'"
   ]
  },
  {
   "cell_type": "markdown",
   "id": "18b8ae83",
   "metadata": {},
   "source": [
    "It is because we are trying to combine 99 which is a string value and 'I have eaten ', ' burritos.' which are string values. Combining two different values of datatypes is not possible without implicit and explicit datatype conversion. <br>\n",
    "The correct statement should be: <br>\n",
    "'I have eaten ' + '99' + ' burritos.' <br>\n",
    "Here, all the datatypes are converted to string and hence, the error will be reolved."
   ]
  },
  {
   "cell_type": "code",
   "execution_count": null,
   "id": "a282b51a",
   "metadata": {},
   "outputs": [],
   "source": []
  }
 ],
 "metadata": {
  "kernelspec": {
   "display_name": "Python 3 (ipykernel)",
   "language": "python",
   "name": "python3"
  },
  "language_info": {
   "codemirror_mode": {
    "name": "ipython",
    "version": 3
   },
   "file_extension": ".py",
   "mimetype": "text/x-python",
   "name": "python",
   "nbconvert_exporter": "python",
   "pygments_lexer": "ipython3",
   "version": "3.9.7"
  }
 },
 "nbformat": 4,
 "nbformat_minor": 5
}
