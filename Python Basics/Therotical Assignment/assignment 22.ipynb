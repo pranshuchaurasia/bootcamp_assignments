{
 "cells": [
  {
   "cell_type": "markdown",
   "id": "37886b35",
   "metadata": {},
   "source": [
    "1. What is the result of the code, and explain? </br>\n",
    "\n",
    "X = 'iNeuron' </br>\n",
    "def func(): </br>\n",
    "print(X) </br>\n",
    "\n",
    "func() </br>\n"
   ]
  },
  {
   "cell_type": "code",
   "execution_count": null,
   "id": "eeeba8a9",
   "metadata": {},
   "outputs": [],
   "source": []
  },
  {
   "cell_type": "markdown",
   "id": "e9675ccc",
   "metadata": {},
   "source": [
    "2. What is the result of the code, and explain? </br>\n",
    "\n",
    "X = 'iNeuron' </br>\n",
    "def func(): </br>\n",
    "X = 'NI!' </br>\n",
    "\n",
    "func() </br>\n",
    "print(X)"
   ]
  },
  {
   "cell_type": "code",
   "execution_count": null,
   "id": "a32cd8a1",
   "metadata": {},
   "outputs": [],
   "source": []
  },
  {
   "cell_type": "markdown",
   "id": "63fb16ed",
   "metadata": {},
   "source": [
    "3. What is the result of the code, and explain? </br>\n",
    "\n",
    "X = 'iNeuron' </br>\n",
    "def func(): </br>\n",
    "X = 'NI' </br>\n",
    "\n",
    "func() </br>\n",
    "print(X)"
   ]
  },
  {
   "cell_type": "code",
   "execution_count": null,
   "id": "e6f6f98c",
   "metadata": {},
   "outputs": [],
   "source": []
  },
  {
   "cell_type": "markdown",
   "id": "a290eed4",
   "metadata": {},
   "source": [
    "4. What is the result of the code, and explain? </br>\n",
    "\n",
    "X = 'iNeuron' </br>\n",
    "def func(): </br>\n",
    "global X </br>\n",
    "X = 'NI!' </br>\n",
    "\n",
    "func() </br>\n",
    "print(X)"
   ]
  },
  {
   "cell_type": "code",
   "execution_count": null,
   "id": "8c1e3b9c",
   "metadata": {},
   "outputs": [],
   "source": []
  },
  {
   "cell_type": "markdown",
   "id": "e76cafdb",
   "metadata": {},
   "source": [
    "5. What about this code—what’s the output, and why? <br>\n",
    "\n",
    "X = 'iNeuron' <br>\n",
    "def func():   <br>\n",
    "X = 'NI'  <br>\n",
    "def nested(): <br>\n",
    "print(X) <br>\n",
    "nested() <br>\n",
    "\n",
    "func() <br>\n",
    "X"
   ]
  },
  {
   "cell_type": "code",
   "execution_count": null,
   "id": "978fd6e0",
   "metadata": {},
   "outputs": [],
   "source": []
  },
  {
   "cell_type": "markdown",
   "id": "7f5cb166",
   "metadata": {},
   "source": [
    "6. How about this code: what is its output in Python 3, and explain? <br>\n",
    " \n",
    "def func(): <br>\n",
    "X = 'NI' <br> \n",
    "def nested(): <br>\n",
    "nonlocal X <br>\n",
    "X = 'Spam' <br>\n",
    "nested() <br>\n",
    "print(X) <br>\n",
    "\n",
    "func()\n"
   ]
  },
  {
   "cell_type": "code",
   "execution_count": null,
   "id": "353484aa",
   "metadata": {},
   "outputs": [],
   "source": []
  }
 ],
 "metadata": {
  "kernelspec": {
   "display_name": "Python 3 (ipykernel)",
   "language": "python",
   "name": "python3"
  },
  "language_info": {
   "codemirror_mode": {
    "name": "ipython",
    "version": 3
   },
   "file_extension": ".py",
   "mimetype": "text/x-python",
   "name": "python",
   "nbconvert_exporter": "python",
   "pygments_lexer": "ipython3",
   "version": "3.9.7"
  }
 },
 "nbformat": 4,
 "nbformat_minor": 5
}
