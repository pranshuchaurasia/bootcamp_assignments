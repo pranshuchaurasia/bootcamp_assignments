{
 "cells": [
  {
   "cell_type": "markdown",
   "id": "37886b35",
   "metadata": {},
   "source": [
    "1. What is the result of the code, and explain? </br>\n",
    "\n",
    "X = 'iNeuron' </br>\n",
    "def func(): </br>\n",
    "print(X) </br>\n",
    "\n",
    "func() </br>\n"
   ]
  },
  {
   "cell_type": "code",
   "execution_count": 1,
   "id": "eeeba8a9",
   "metadata": {},
   "outputs": [
    {
     "name": "stdout",
     "output_type": "stream",
     "text": [
      "iNeuron\n"
     ]
    }
   ],
   "source": [
    "X = 'iNeuron'\n",
    "def func():\n",
    "    print(X)\n",
    "\n",
    "func() "
   ]
  },
  {
   "cell_type": "markdown",
   "id": "e9675ccc",
   "metadata": {},
   "source": [
    "2. What is the result of the code, and explain? </br>\n",
    "\n",
    "X = 'iNeuron' </br>\n",
    "def func(): </br>\n",
    "X = 'NI!' </br>\n",
    "\n",
    "func() </br>\n",
    "print(X)"
   ]
  },
  {
   "cell_type": "code",
   "execution_count": 2,
   "id": "a32cd8a1",
   "metadata": {},
   "outputs": [
    {
     "name": "stdout",
     "output_type": "stream",
     "text": [
      "iNeuron\n"
     ]
    }
   ],
   "source": [
    "X = 'iNeuron'\n",
    "def func():\n",
    "    X = 'NI!'\n",
    "\n",
    "func()\n",
    "print(X)"
   ]
  },
  {
   "cell_type": "markdown",
   "id": "63fb16ed",
   "metadata": {},
   "source": [
    "3. What is the result of the code, and explain? </br>\n",
    "\n",
    "X = 'iNeuron' </br>\n",
    "def func(): </br>\n",
    "X = 'NI' </br>\n",
    "\n",
    "func() </br>\n",
    "print(X)"
   ]
  },
  {
   "cell_type": "code",
   "execution_count": 3,
   "id": "e6f6f98c",
   "metadata": {},
   "outputs": [
    {
     "name": "stdout",
     "output_type": "stream",
     "text": [
      "iNeuron\n"
     ]
    }
   ],
   "source": [
    "X = 'iNeuron'\n",
    "def func():\n",
    "    X = 'NI'\n",
    "\n",
    "func()\n",
    "print(X)"
   ]
  },
  {
   "cell_type": "markdown",
   "id": "a290eed4",
   "metadata": {},
   "source": [
    "4. What is the result of the code, and explain? </br>\n",
    "\n",
    "X = 'iNeuron' </br>\n",
    "def func(): </br>\n",
    "global X </br>\n",
    "X = 'NI!' </br>\n",
    "\n",
    "func() </br>\n",
    "print(X)"
   ]
  },
  {
   "cell_type": "code",
   "execution_count": 4,
   "id": "8c1e3b9c",
   "metadata": {},
   "outputs": [
    {
     "name": "stdout",
     "output_type": "stream",
     "text": [
      "NI!\n"
     ]
    }
   ],
   "source": [
    "X = 'iNeuron'\n",
    "def func():\n",
    "    global X\n",
    "    X = 'NI!'\n",
    "\n",
    "func()\n",
    "print(X)"
   ]
  },
  {
   "cell_type": "markdown",
   "id": "e76cafdb",
   "metadata": {},
   "source": [
    "5. What about this code—what’s the output, and why? <br>\n",
    "\n",
    "X = 'iNeuron' <br>\n",
    "def func():   <br>\n",
    "X = 'NI'  <br>\n",
    "def nested(): <br>\n",
    "print(X) <br>\n",
    "nested() <br>\n",
    "\n",
    "func() <br>\n",
    "X"
   ]
  },
  {
   "cell_type": "code",
   "execution_count": 5,
   "id": "978fd6e0",
   "metadata": {},
   "outputs": [
    {
     "data": {
      "text/plain": [
       "'iNeuron'"
      ]
     },
     "execution_count": 5,
     "metadata": {},
     "output_type": "execute_result"
    }
   ],
   "source": [
    "X = 'iNeuron'\n",
    "def func():\n",
    "    X = 'NI'\n",
    "def nested():\n",
    "    print(X)\n",
    "    nested()\n",
    "\n",
    "func()\n",
    "X"
   ]
  },
  {
   "cell_type": "markdown",
   "id": "7f5cb166",
   "metadata": {},
   "source": [
    "6. How about this code: what is its output in Python 3, and explain? <br>\n",
    " \n",
    "def func(): <br>\n",
    "X = 'NI' <br> \n",
    "def nested(): <br>\n",
    "nonlocal X <br>\n",
    "X = 'Spam' <br>\n",
    "nested() <br>\n",
    "print(X) <br>\n",
    "\n",
    "func()\n"
   ]
  },
  {
   "cell_type": "code",
   "execution_count": 11,
   "id": "353484aa",
   "metadata": {},
   "outputs": [
    {
     "ename": "SyntaxError",
     "evalue": "no binding for nonlocal 'X' found (Temp/ipykernel_14988/503018265.py, line 4)",
     "output_type": "error",
     "traceback": [
      "\u001b[1;36m  File \u001b[1;32m\"C:\\Users\\PRANSH~1\\AppData\\Local\\Temp/ipykernel_14988/503018265.py\"\u001b[1;36m, line \u001b[1;32m4\u001b[0m\n\u001b[1;33m    nonlocal X\u001b[0m\n\u001b[1;37m    ^\u001b[0m\n\u001b[1;31mSyntaxError\u001b[0m\u001b[1;31m:\u001b[0m no binding for nonlocal 'X' found\n"
     ]
    }
   ],
   "source": [
    "def func():\n",
    "    X = 'NI'\n",
    "def nested():\n",
    "    nonlocal X\n",
    "    X = 'Spam'\n",
    "    nested()\n",
    "    print(X)\n",
    "\n",
    "func()"
   ]
  },
  {
   "cell_type": "code",
   "execution_count": null,
   "id": "3fdd07dc",
   "metadata": {},
   "outputs": [],
   "source": []
  }
 ],
 "metadata": {
  "kernelspec": {
   "display_name": "Python 3 (ipykernel)",
   "language": "python",
   "name": "python3"
  },
  "language_info": {
   "codemirror_mode": {
    "name": "ipython",
    "version": 3
   },
   "file_extension": ".py",
   "mimetype": "text/x-python",
   "name": "python",
   "nbconvert_exporter": "python",
   "pygments_lexer": "ipython3",
   "version": "3.9.7"
  }
 },
 "nbformat": 4,
 "nbformat_minor": 5
}
