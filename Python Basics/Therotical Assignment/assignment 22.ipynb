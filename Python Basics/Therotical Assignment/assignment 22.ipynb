{
 "cells": [
  {
   "cell_type": "markdown",
   "id": "37886b35",
   "metadata": {},
   "source": [
    "1. What is the result of the code, and explain? </br>\n",
    "\n",
    "X = 'iNeuron' </br>\n",
    "def func(): </br>\n",
    "print(X) </br>\n",
    "\n",
    "func() </br>\n"
   ]
  },
  {
   "cell_type": "code",
   "execution_count": 1,
   "id": "eeeba8a9",
   "metadata": {},
   "outputs": [
    {
     "name": "stdout",
     "output_type": "stream",
     "text": [
      "iNeuron\n"
     ]
    }
   ],
   "source": [
    "X = 'iNeuron'\n",
    "def func():\n",
    "    print(X)\n",
    "\n",
    "func() "
   ]
  },
  {
   "cell_type": "markdown",
   "id": "e9675ccc",
   "metadata": {},
   "source": [
    "2. What is the result of the code, and explain? </br>\n",
    "\n",
    "X = 'iNeuron' </br>\n",
    "def func(): </br>\n",
    "X = 'NI!' </br>\n",
    "\n",
    "func() </br>\n",
    "print(X)"
   ]
  },
  {
   "cell_type": "code",
   "execution_count": 2,
   "id": "a32cd8a1",
   "metadata": {},
   "outputs": [
    {
     "name": "stdout",
     "output_type": "stream",
     "text": [
      "iNeuron\n"
     ]
    }
   ],
   "source": [
    "X = 'iNeuron'\n",
    "def func():\n",
    "    X = 'NI!'\n",
    "\n",
    "func()\n",
    "print(X)"
   ]
  },
  {
   "cell_type": "markdown",
   "id": "63fb16ed",
   "metadata": {},
   "source": [
    "3. What is the result of the code, and explain? </br>\n",
    "\n",
    "X = 'iNeuron' </br>\n",
    "def func(): </br>\n",
    "X = 'NI' </br>\n",
    "\n",
    "func() </br>\n",
    "print(X)"
   ]
  },
  {
   "cell_type": "code",
   "execution_count": 5,
   "id": "e6f6f98c",
   "metadata": {},
   "outputs": [
    {
     "name": "stdout",
     "output_type": "stream",
     "text": [
      "iNeuron\n"
     ]
    }
   ],
   "source": [
    "X = 'iNeuron'\n",
    "def func():\n",
    "    X = 'NI'\n",
    "\n",
    "func()\n",
    "print(X)\n",
    "# The output of the code is NI and iNeuron. X=NI is in the local scope of the function func() hence the function prints the x value as NI. X = 'iNeuron' is in the global scope. hence print(X) prints output as iNeuron"
   ]
  },
  {
   "cell_type": "markdown",
   "id": "a290eed4",
   "metadata": {},
   "source": [
    "4. What is the result of the code, and explain? </br>\n",
    "\n",
    "X = 'iNeuron' </br>\n",
    "def func(): </br>\n",
    "global X </br>\n",
    "X = 'NI!' </br>\n",
    "\n",
    "func() </br>\n",
    "print(X)"
   ]
  },
  {
   "cell_type": "code",
   "execution_count": 3,
   "id": "8c1e3b9c",
   "metadata": {},
   "outputs": [
    {
     "name": "stdout",
     "output_type": "stream",
     "text": [
      "NI!\n"
     ]
    }
   ],
   "source": [
    "X = 'iNeuron'\n",
    "def func():\n",
    "    global X\n",
    "    X = 'NI!'\n",
    "\n",
    "func()\n",
    "print(X)\n",
    "#The output of the code is NI. the global keyword allows a variable to be accessible in the current scope. since we are using global keyword inside the function func it directly access the variable in X in global scope. and changes its value to NI. hence the output of the code is NI"
   ]
  },
  {
   "cell_type": "markdown",
   "id": "e76cafdb",
   "metadata": {},
   "source": [
    "5. What about this code—what’s the output, and why? <br>\n",
    "\n",
    "X = 'iNeuron' <br>\n",
    "def func():   <br>\n",
    "X = 'NI'  <br>\n",
    "def nested(): <br>\n",
    "print(X) <br>\n",
    "nested() <br>\n",
    "\n",
    "func() <br>\n",
    "X"
   ]
  },
  {
   "cell_type": "code",
   "execution_count": 2,
   "id": "978fd6e0",
   "metadata": {},
   "outputs": [
    {
     "data": {
      "text/plain": [
       "'iNeuron'"
      ]
     },
     "execution_count": 2,
     "metadata": {},
     "output_type": "execute_result"
    }
   ],
   "source": [
    "X = 'iNeuron'\n",
    "def func():\n",
    "    X = 'NI'\n",
    "def nested():\n",
    "    print(X)\n",
    "    nested()\n",
    "\n",
    "func()\n",
    "X\n",
    "# The output of the code is NI. the reason for this output is if a function wants to access a variable, if its not available in its localscope. it looks for the variable in its global scope. similarly here also function nested looks for variable X in its global scope. hence the output of the code is NI"
   ]
  },
  {
   "cell_type": "markdown",
   "id": "7f5cb166",
   "metadata": {},
   "source": [
    "6. How about this code: what is its output in Python 3, and explain? <br>\n",
    " \n",
    "def func(): <br>\n",
    "X = 'NI' <br> \n",
    "def nested(): <br>\n",
    "nonlocal X <br>\n",
    "X = 'Spam' <br>\n",
    "nested() <br>\n",
    "print(X) <br>\n",
    "\n",
    "func()\n"
   ]
  },
  {
   "cell_type": "code",
   "execution_count": 1,
   "id": "353484aa",
   "metadata": {},
   "outputs": [
    {
     "name": "stdout",
     "output_type": "stream",
     "text": [
      "Spam\n"
     ]
    }
   ],
   "source": [
    "def func():\n",
    "    X = 'NI'\n",
    "    def nested():\n",
    "        nonlocal X\n",
    "        X = 'Spam'\n",
    "    nested()\n",
    "    print(X)\n",
    "func()"
   ]
  },
  {
   "cell_type": "markdown",
   "id": "75b0ad7b",
   "metadata": {},
   "source": [
    "The output of the code is Spam. nonlocal keyword in python is used to declare a variable as not local.Hence the statement X = \"Spam\" is modified in the global scope. hence the output of print(X) statement is Spam"
   ]
  },
  {
   "cell_type": "code",
   "execution_count": null,
   "id": "f95bf872",
   "metadata": {},
   "outputs": [],
   "source": []
  }
 ],
 "metadata": {
  "kernelspec": {
   "display_name": "Python 3 (ipykernel)",
   "language": "python",
   "name": "python3"
  },
  "language_info": {
   "codemirror_mode": {
    "name": "ipython",
    "version": 3
   },
   "file_extension": ".py",
   "mimetype": "text/x-python",
   "name": "python",
   "nbconvert_exporter": "python",
   "pygments_lexer": "ipython3",
   "version": "3.9.7"
  }
 },
 "nbformat": 4,
 "nbformat_minor": 5
}
