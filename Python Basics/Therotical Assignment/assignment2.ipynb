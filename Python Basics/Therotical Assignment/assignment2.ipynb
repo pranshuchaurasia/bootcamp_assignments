{
 "cells": [
  {
   "cell_type": "markdown",
   "id": "4605f18c",
   "metadata": {},
   "source": [
    "#### 1.What are the two values of the Boolean data type? How do you write them?"
   ]
  },
  {
   "cell_type": "markdown",
   "id": "91bf2e0a",
   "metadata": {},
   "source": [
    "Two values of Boolean data type are True and False. We write them as: </br>\n",
    "X= True </br>\n",
    "Y= False"
   ]
  },
  {
   "cell_type": "markdown",
   "id": "f9e937bc",
   "metadata": {},
   "source": [
    "#### 2. What are the three different types of Boolean operators?"
   ]
  },
  {
   "cell_type": "markdown",
   "id": "8059802e",
   "metadata": {},
   "source": [
    "The three different types of Boolean operators are: and, or and not."
   ]
  },
  {
   "cell_type": "markdown",
   "id": "8b8f64ea",
   "metadata": {},
   "source": [
    "#### 3. Make a list of each Boolean operator's truth tables (i.e. every possible combination of Boolean values for the operator and what it evaluate )."
   ]
  },
  {
   "cell_type": "markdown",
   "id": "8e1b7370",
   "metadata": {},
   "source": [
    "OR truth table: <br>\n",
    "A | B   | A OR B  <br>\n",
    "0 | 0   |  0 <br>\n",
    "0 | 1   |  1 <br>\n",
    "1 | 0   |  1 <br>\n",
    "1 | 1   |  1 <br>"
   ]
  },
  {
   "cell_type": "markdown",
   "id": "86d54478",
   "metadata": {},
   "source": [
    "AND truth table: <br>\n",
    "A | B   | A AND B  <br>\n",
    "0 | 0   |  0 <br>\n",
    "0 | 1   |  0 <br>\n",
    "1 | 0   |  0 <br>\n",
    "1 | 1   |  1 <br>"
   ]
  },
  {
   "cell_type": "markdown",
   "id": "9baf90f9",
   "metadata": {},
   "source": [
    "NOT truth table: <br>\n",
    "A | NOT A (!A) <br>\n",
    "0 |  1 <br>\n",
    "1 |  0"
   ]
  },
  {
   "cell_type": "markdown",
   "id": "68d7b613",
   "metadata": {},
   "source": [
    "#### 4. What are the values of the following expressions?"
   ]
  },
  {
   "cell_type": "markdown",
   "id": "945d7eb5",
   "metadata": {},
   "source": [
    "(5 > 4) and (3 == 5) -> False"
   ]
  },
  {
   "cell_type": "markdown",
   "id": "bd2d2df5",
   "metadata": {},
   "source": [
    "not (5 > 4) -> False"
   ]
  },
  {
   "cell_type": "markdown",
   "id": "c5f545ec",
   "metadata": {},
   "source": [
    "(5 > 4) or (3 == 5) -> True"
   ]
  },
  {
   "cell_type": "markdown",
   "id": "1c7d2ff5",
   "metadata": {},
   "source": [
    "not ((5 > 4) or (3 == 5)) -> False"
   ]
  },
  {
   "cell_type": "markdown",
   "id": "3fb9837f",
   "metadata": {},
   "source": [
    "(True and True) and (True == False) -> False"
   ]
  },
  {
   "cell_type": "markdown",
   "id": "45d3e190",
   "metadata": {},
   "source": [
    "(not False) or (not True) -> True"
   ]
  },
  {
   "cell_type": "markdown",
   "id": "058db5fc",
   "metadata": {},
   "source": [
    "####  5. What are the six comparison operators?"
   ]
  },
  {
   "cell_type": "markdown",
   "id": "aa38cf50",
   "metadata": {},
   "source": [
    "Python has six comparison operators which are:   <br>\n",
    "Less than ( < ) <br>\n",
    "Less than or equal to (<=) <br>\n",
    "Greater than (>) <br>\n",
    "Greater than or equal to (>=) <br>\n",
    "Equal to ( == ) <br>\n",
    "Not equal to ( != ) <br>"
   ]
  },
  {
   "cell_type": "markdown",
   "id": "6db188d4",
   "metadata": {},
   "source": [
    "#### 6. How do you tell the difference between the equal to and assignment operators?Describe a condition and when you would use one."
   ]
  },
  {
   "cell_type": "markdown",
   "id": "cb6e07e2",
   "metadata": {},
   "source": [
    "The '=' is an assignment operator is used to assign the value to the variable whereas the '==' operator checks whether the two given operands are equal or not. If equal it return true else return false."
   ]
  },
  {
   "cell_type": "markdown",
   "id": "cc57f002",
   "metadata": {},
   "source": [
    "#### 7. Identify the three blocks in this code:  <br>\n",
    "`spam = 0\n",
    "if spam == 10:\n",
    "    print('eggs')\n",
    "    if spam > 5:\n",
    "        print('bacon')\n",
    "    else:\n",
    "        print('ham')\n",
    "    print('spam')\n",
    "print('spam')`\n"
   ]
  },
  {
   "cell_type": "markdown",
   "id": "8f869581",
   "metadata": {},
   "source": [
    "`spam = 0  \n",
    "if spam == 10: \n",
    "    print('eggs')        # indent increased, block A  \n",
    "    if spam > 5:         # still block A  \n",
    "        print('bacon')   # still block A, indent increased, block B inside block A \n",
    "    else:                # still block A, indent decreased, block B ended in line above \n",
    "        print('ham')     # still block A, indent increased, block C inside block A\n",
    "    print('spam')        # still block A, indent decreased, block C ended in line above \n",
    "print('spam')            # indent decreased, block A ended in line above `"
   ]
  },
  {
   "cell_type": "code",
   "execution_count": null,
   "id": "fc02d3c5",
   "metadata": {},
   "outputs": [],
   "source": []
  }
 ],
 "metadata": {
  "kernelspec": {
   "display_name": "Python 3 (ipykernel)",
   "language": "python",
   "name": "python3"
  },
  "language_info": {
   "codemirror_mode": {
    "name": "ipython",
    "version": 3
   },
   "file_extension": ".py",
   "mimetype": "text/x-python",
   "name": "python",
   "nbconvert_exporter": "python",
   "pygments_lexer": "ipython3",
   "version": "3.9.7"
  }
 },
 "nbformat": 4,
 "nbformat_minor": 5
}
