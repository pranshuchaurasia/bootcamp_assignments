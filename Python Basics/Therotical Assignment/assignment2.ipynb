{
 "cells": [
  {
   "cell_type": "markdown",
   "id": "92304453",
   "metadata": {},
   "source": [
    "#### 1.What are the two values of the Boolean data type? How do you write them?"
   ]
  },
  {
   "cell_type": "markdown",
   "id": "8b0c2e1c",
   "metadata": {},
   "source": [
    "Two values of Boolean data type are True and False. We write them as: </br>\n",
    "X= True </br>\n",
    "Y= False"
   ]
  },
  {
   "cell_type": "markdown",
   "id": "20fec51e",
   "metadata": {},
   "source": [
    "#### 2. What are the three different types of Boolean operators?"
   ]
  },
  {
   "cell_type": "markdown",
   "id": "8fd4ac84",
   "metadata": {},
   "source": [
    "The three different types of Boolean operators are: and, or and not."
   ]
  },
  {
   "cell_type": "markdown",
   "id": "197e31ff",
   "metadata": {},
   "source": [
    "#### 3. Make a list of each Boolean operator's truth tables (i.e. every possible combination of Boolean values for the operator and what it evaluate )."
   ]
  },
  {
   "cell_type": "markdown",
   "id": "46952a1e",
   "metadata": {},
   "source": [
    "OR truth table: <br>\n",
    "A | B   | A OR B  <br>\n",
    "0 | 0   |  0 <br>\n",
    "0 | 1   |  1 <br>\n",
    "1 | 0   |  1 <br>\n",
    "1 | 1   |  1 <br>"
   ]
  },
  {
   "cell_type": "markdown",
   "id": "95d56f98",
   "metadata": {},
   "source": [
    "AND truth table: <br>\n",
    "A | B   | A AND B  <br>\n",
    "0 | 0   |  0 <br>\n",
    "0 | 1   |  0 <br>\n",
    "1 | 0   |  0 <br>\n",
    "1 | 1   |  1 <br>"
   ]
  },
  {
   "cell_type": "markdown",
   "id": "a367a731",
   "metadata": {},
   "source": [
    "NOT truth table: <br>\n",
    "A | NOT A (!A) <br>\n",
    "0 |  1 <br>\n",
    "1 |  0"
   ]
  },
  {
   "cell_type": "markdown",
   "id": "49e0cee9",
   "metadata": {},
   "source": [
    "#### 4. What are the values of the following expressions?"
   ]
  },
  {
   "cell_type": "markdown",
   "id": "4ce8974d",
   "metadata": {},
   "source": [
    "(5 > 4) and (3 == 5) -> False"
   ]
  },
  {
   "cell_type": "markdown",
   "id": "536dd113",
   "metadata": {},
   "source": [
    "not (5 > 4) -> False"
   ]
  },
  {
   "cell_type": "markdown",
   "id": "b1d38961",
   "metadata": {},
   "source": [
    "(5 > 4) or (3 == 5) -> True"
   ]
  },
  {
   "cell_type": "markdown",
   "id": "26952fc1",
   "metadata": {},
   "source": [
    "not ((5 > 4) or (3 == 5)) -> False"
   ]
  },
  {
   "cell_type": "markdown",
   "id": "15d0d521",
   "metadata": {},
   "source": [
    "(True and True) and (True == False) -> False"
   ]
  },
  {
   "cell_type": "markdown",
   "id": "4bdf6644",
   "metadata": {},
   "source": [
    "(not False) or (not True) -> True"
   ]
  },
  {
   "cell_type": "markdown",
   "id": "ea1a2caf",
   "metadata": {},
   "source": [
    "####  5. What are the six comparison operators?"
   ]
  },
  {
   "cell_type": "markdown",
   "id": "2739c66a",
   "metadata": {},
   "source": []
  },
  {
   "cell_type": "code",
   "execution_count": null,
   "id": "6254880e",
   "metadata": {},
   "outputs": [],
   "source": []
  }
 ],
 "metadata": {
  "kernelspec": {
   "display_name": "Python 3 (ipykernel)",
   "language": "python",
   "name": "python3"
  },
  "language_info": {
   "codemirror_mode": {
    "name": "ipython",
    "version": 3
   },
   "file_extension": ".py",
   "mimetype": "text/x-python",
   "name": "python",
   "nbconvert_exporter": "python",
   "pygments_lexer": "ipython3",
   "version": "3.9.7"
  }
 },
 "nbformat": 4,
 "nbformat_minor": 5
}
