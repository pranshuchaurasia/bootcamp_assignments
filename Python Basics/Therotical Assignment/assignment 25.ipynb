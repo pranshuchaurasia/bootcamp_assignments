{
 "cells": [
  {
   "cell_type": "markdown",
   "id": "855429ea",
   "metadata": {},
   "source": [
    "#### 1) . What is the difference between enclosing a list comprehension in square brackets and parentheses?"
   ]
  },
  {
   "cell_type": "markdown",
   "id": "2231705f",
   "metadata": {},
   "source": [
    "Square brackets are lists while parentheses are tuples."
   ]
  },
  {
   "cell_type": "markdown",
   "id": "b9fcdddc",
   "metadata": {},
   "source": [
    "#### 2) What is the relationship between generators and iterators?"
   ]
  },
  {
   "cell_type": "markdown",
   "id": "bd2dc050",
   "metadata": {},
   "source": [
    "In creating a python generator, we use a function. But in creating an iterator in python, we use the iter() and next() functions. <br>\n",
    "A generator in python makes use of the ‘yield’ keyword. A python iterator doesn’t. <br>\n",
    "Python generator saves the states of the local variables every time ‘yield’ pauses the loop in python. An iterator does not make use of local variables, all it needs is iterable to iterate on. <br>\n",
    "A generator may have any number of ‘yield’ statements. <br>\n",
    "You can implement your own iterator using a python class; a generator does not need a class in python. <br>\n",
    "To write a python generator, you can either use a Python function or a comprehension. But for an iterator, you must use the iter() and next() functions. <br>\n",
    "Generator in python let us write fast and compact code. This is an advantage over Python iterators. They are also simpler to code than do custom iterator. <br>\n",
    "Python iterator is more memory-efficient.<br>"
   ]
  },
  {
   "cell_type": "markdown",
   "id": "afd9c047",
   "metadata": {},
   "source": [
    "#### 3) What are the signs that a function is a generator function?"
   ]
  },
  {
   "cell_type": "markdown",
   "id": "f9c1947c",
   "metadata": {},
   "source": [
    "If a function contains at least one yield statement (it may contain other yield or return statements), it becomes a generator function."
   ]
  },
  {
   "cell_type": "markdown",
   "id": "a2022ec5",
   "metadata": {},
   "source": [
    "#### 4) What is the purpose of a yield statement?"
   ]
  },
  {
   "cell_type": "markdown",
   "id": "12a73c08",
   "metadata": {},
   "source": [
    "The yield statement returns a generator object to the one who calls the function which contains yield, instead of simply returning a value"
   ]
  },
  {
   "cell_type": "markdown",
   "id": "020d3a2b",
   "metadata": {},
   "source": [
    "#### 5) What is the relationship between map calls and list comprehensions? Make a comparison and contrast between the two."
   ]
  },
  {
   "cell_type": "markdown",
   "id": "2c374fca",
   "metadata": {},
   "source": [
    "List comprehension is more concise and easier to read as compared to map. List comprehension are used when a list of results is required as map only returns a map object and does not return any list. Map is faster in case of calling an already defined function (as no lambda is required)."
   ]
  },
  {
   "cell_type": "code",
   "execution_count": null,
   "id": "ac1ad73e",
   "metadata": {},
   "outputs": [],
   "source": []
  }
 ],
 "metadata": {
  "kernelspec": {
   "display_name": "Python 3 (ipykernel)",
   "language": "python",
   "name": "python3"
  },
  "language_info": {
   "codemirror_mode": {
    "name": "ipython",
    "version": 3
   },
   "file_extension": ".py",
   "mimetype": "text/x-python",
   "name": "python",
   "nbconvert_exporter": "python",
   "pygments_lexer": "ipython3",
   "version": "3.9.7"
  }
 },
 "nbformat": 4,
 "nbformat_minor": 5
}
