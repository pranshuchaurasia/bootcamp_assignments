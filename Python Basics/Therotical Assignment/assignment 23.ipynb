{
 "cells": [
  {
   "cell_type": "markdown",
   "id": "2eaa6df8",
   "metadata": {},
   "source": [
    "1. What is the result of the code, and why? </br>\n",
    "def func(a, b=6, c=8): </br>\n",
    "print(a, b, c) </br>\n",
    "func(1, 2)"
   ]
  },
  {
   "cell_type": "code",
   "execution_count": null,
   "id": "5ed2dc68",
   "metadata": {},
   "outputs": [],
   "source": []
  },
  {
   "cell_type": "markdown",
   "id": "7c7c4242",
   "metadata": {},
   "source": [
    "2. What is the result of this code, and why? </br>\n",
    " def func(a, b, c=5): </br>\n",
    "print(a, b, c) c\n",
    " func(1, c=3, b=2)"
   ]
  },
  {
   "cell_type": "code",
   "execution_count": null,
   "id": "2be93a32",
   "metadata": {},
   "outputs": [],
   "source": []
  },
  {
   "cell_type": "markdown",
   "id": "24768f8e",
   "metadata": {},
   "source": [
    "3. How about this code: what is its result, and why? </br>\n",
    "def func(a, *pargs): </br>\n",
    "print(a, pargs) </br>\n",
    "func(1, 2, 3)"
   ]
  },
  {
   "cell_type": "code",
   "execution_count": null,
   "id": "2669cccd",
   "metadata": {},
   "outputs": [],
   "source": []
  },
  {
   "cell_type": "markdown",
   "id": "ebc8a8c7",
   "metadata": {},
   "source": [
    "4. What does this code print, and why? </br>\n",
    "def func(a, **kargs): </br>\n",
    "print(a, kargs)</br>\n",
    "func(a=1, c=3, b=2)"
   ]
  },
  {
   "cell_type": "code",
   "execution_count": null,
   "id": "593934ad",
   "metadata": {},
   "outputs": [],
   "source": []
  },
  {
   "cell_type": "markdown",
   "id": "832766a8",
   "metadata": {},
   "source": [
    "5. What gets printed by this, and explain?</br>\n",
    " def func(a, b, c=8, d=5): print(a, b, c, d) </br>\n",
    " func(1, *(5, 6)) </br>"
   ]
  },
  {
   "cell_type": "code",
   "execution_count": null,
   "id": "458500d1",
   "metadata": {},
   "outputs": [],
   "source": []
  },
  {
   "cell_type": "markdown",
   "id": "efad7738",
   "metadata": {},
   "source": [
    " 6. what is the result of this, and explain? </br>\n",
    " def func(a, b, c): a = 2; b[0] = 'x'; c['a'] = 'y' </br>\n",
    " l=1; m=[1]; n={'a':0} </br>\n",
    " func(l, m, n) </br>\n",
    " l, m, n"
   ]
  },
  {
   "cell_type": "code",
   "execution_count": null,
   "id": "5acfc97e",
   "metadata": {},
   "outputs": [],
   "source": []
  },
  {
   "cell_type": "code",
   "execution_count": null,
   "id": "605988d8",
   "metadata": {},
   "outputs": [],
   "source": []
  }
 ],
 "metadata": {
  "kernelspec": {
   "display_name": "Python 3 (ipykernel)",
   "language": "python",
   "name": "python3"
  },
  "language_info": {
   "codemirror_mode": {
    "name": "ipython",
    "version": 3
   },
   "file_extension": ".py",
   "mimetype": "text/x-python",
   "name": "python",
   "nbconvert_exporter": "python",
   "pygments_lexer": "ipython3",
   "version": "3.9.7"
  }
 },
 "nbformat": 4,
 "nbformat_minor": 5
}
