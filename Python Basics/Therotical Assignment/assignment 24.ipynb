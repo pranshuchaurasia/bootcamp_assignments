{
 "cells": [
  {
   "cell_type": "markdown",
   "id": "56e14242",
   "metadata": {},
   "source": [
    "1. What is the relationship between def statements and lambda expressions ?"
   ]
  },
  {
   "cell_type": "markdown",
   "id": "834b5554",
   "metadata": {},
   "source": [
    "Both lambda and def create the same kind of function – they have the same kind of metadata and capabilities. Their technical difference is syntactical: A lambda is an expression producing a function. A def is a statement producing a function."
   ]
  },
  {
   "cell_type": "markdown",
   "id": "9fec91a5",
   "metadata": {},
   "source": [
    "2. What is the benefit of lambda?"
   ]
  },
  {
   "cell_type": "markdown",
   "id": "ad30ffb0",
   "metadata": {},
   "source": [
    "The lambda keyword in Python provides a shortcut for declaring small anonymous functions. Lambda functions behave just like regular functions declared with the def keyword. They can be used whenever function objects are required."
   ]
  },
  {
   "cell_type": "markdown",
   "id": "38692400",
   "metadata": {},
   "source": [
    "3. Compare and contrast map, filter, and reduce."
   ]
  },
  {
   "cell_type": "markdown",
   "id": "86b46449",
   "metadata": {},
   "source": [
    "The map() function iterates through all items in the given iterable and executes the function we passed as an argument on each of them. </br>\n",
    "\n",
    "As the name suggests, filter() forms a new list that contains only elements that satisfy a certain condition, i.e. the function we passed returns True. </br>\n",
    "\n",
    "reduce() works differently than map() and filter(). It does not return a new list based on the function and iterable we've passed. Instead, it returns a single value. "
   ]
  },
  {
   "cell_type": "markdown",
   "id": "6abc4b8a",
   "metadata": {},
   "source": [
    "4. What are function annotations, and how are they used?"
   ]
  },
  {
   "cell_type": "markdown",
   "id": "b027f6c0",
   "metadata": {},
   "source": [
    "Function annotations are arbitrary python expressions that are associated with various part of functions. These expressions are evaluated at compile time and have no life in python's runtime environment. Python does not attach any meaning to these annotations."
   ]
  },
  {
   "cell_type": "markdown",
   "id": "aaa84b4f",
   "metadata": {},
   "source": [
    "5. What are recursive functions, and how are they used?"
   ]
  },
  {
   "cell_type": "markdown",
   "id": "1092ac2c",
   "metadata": {},
   "source": [
    "A recursive function is a function in code that refers to itself for execution. Recursive functions can be simple or elaborate. They allow for more efficient code writing, for instance, in the listing or compiling of sets of numbers, strings or other variables through a single reiterated process."
   ]
  },
  {
   "cell_type": "markdown",
   "id": "9cfad083",
   "metadata": {},
   "source": [
    "6. What are some general design guidelines for coding functions?"
   ]
  },
  {
   "cell_type": "markdown",
   "id": "f54a0149",
   "metadata": {},
   "source": [
    "    Limited use of globals:\n",
    "    These rules tell about which types of data that can be declared global and the data that can’t be.\n",
    "\n",
    "\n",
    "    Standard headers for different modules:\n",
    "    For better understanding and maintenance of the code, the header of different modules should follow some standard format and information. The header format must contain below things that is being used in various companies:\n",
    "        Name of the module\n",
    "        Date of module creation\n",
    "        Author of the module\n",
    "        Modification history\n",
    "        Synopsis of the module about what the module does\n",
    "        Different functions supported in the module along with their input output parameters\n",
    "        Global variables accessed or modified by the module\n",
    "\n",
    "\n",
    "    Naming conventions for local variables, global variables, constants and functions:\n",
    "    Some of the naming conventions are given below:\n",
    "        Meaningful and understandable variables name helps anyone to understand the reason of using it.\n",
    "        Local variables should be named using camel case lettering starting with small letter (e.g. localData) whereas Global variables names should start with a capital letter (e.g. GlobalData). Constant names should be formed using capital letters only (e.g. CONSDATA).\n",
    "        It is better to avoid the use of digits in variable names.\n",
    "        The names of the function should be written in camel case starting with small letters.\n",
    "        The name of the function must describe the reason of using the function clearly and briefly.\n",
    "\n",
    "\n",
    "    Indentation:\n",
    "    Proper indentation is very important to increase the readability of the code. For making the code readable, programmers should use White spaces properly. Some of the spacing conventions are given below:\n",
    "        There must be a space after giving a comma between two function arguments.\n",
    "        Each nested block should be properly indented and spaced.\n",
    "        Proper Indentation should be there at the beginning and at the end of each block in the program.\n",
    "        All braces should start from a new line and the code following the end of braces also start from a new line.\n",
    "\n",
    "\n",
    "    Error return values and exception handling conventions:\n",
    "    All functions that encountering an error condition should either return a 0 or 1 for simplifying the debugging.\n",
    "\n",
    "    On the other hand, Coding guidelines give some general suggestions regarding the coding style that to be followed for the betterment of understandability and readability of the code. Some of the coding guidelines are given below :\n",
    "\n",
    "\n",
    "    Avoid using a coding style that is too difficult to understand:\n",
    "    Code should be easily understandable. The complex code makes maintenance and debugging difficult and expensive.\n",
    "\n",
    "\n",
    "    Avoid using an identifier for multiple purposes:\n",
    "    Each variable should be given a descriptive and meaningful name indicating the reason behind using it. This is not possible if an identifier is used for multiple purposes and thus it can lead to confusion to the reader. Moreover, it leads to more difficulty during future enhancements.\n",
    "\n",
    "\n",
    "    Code should be well documented:\n",
    "    The code should be properly commented for understanding easily. Comments regarding the statements increase the understandability of the code.\n",
    "\n",
    "\n",
    "    Length of functions should not be very large:\n",
    "    Lengthy functions are very difficult to understand. That’s why functions should be small enough to carry out small work and lengthy functions should be broken into small ones for completing small tasks.\n",
    "\n",
    "\n",
    "    Try not to use GOTO statement:\n",
    "    GOTO statement makes the program unstructured, thus it reduces the understandability of the program and also debugging becomes difficult.\n",
    "\n",
    "\n"
   ]
  },
  {
   "cell_type": "markdown",
   "id": "98ef2a57",
   "metadata": {},
   "source": [
    "7. Name three or more ways that functions can communicate results to a caller."
   ]
  },
  {
   "cell_type": "markdown",
   "id": "7caa14a9",
   "metadata": {},
   "source": [
    "The return statement does two things: it gives a value back to whoever called it (which is why we could store it in the sum variable), and it immediately exits the function. </br>\n",
    "You can even call functions inside function calls. </br>\n",
    "Using main() as a Function"
   ]
  },
  {
   "cell_type": "code",
   "execution_count": null,
   "id": "d974cb62",
   "metadata": {},
   "outputs": [],
   "source": []
  }
 ],
 "metadata": {
  "kernelspec": {
   "display_name": "Python 3 (ipykernel)",
   "language": "python",
   "name": "python3"
  },
  "language_info": {
   "codemirror_mode": {
    "name": "ipython",
    "version": 3
   },
   "file_extension": ".py",
   "mimetype": "text/x-python",
   "name": "python",
   "nbconvert_exporter": "python",
   "pygments_lexer": "ipython3",
   "version": "3.9.7"
  }
 },
 "nbformat": 4,
 "nbformat_minor": 5
}
