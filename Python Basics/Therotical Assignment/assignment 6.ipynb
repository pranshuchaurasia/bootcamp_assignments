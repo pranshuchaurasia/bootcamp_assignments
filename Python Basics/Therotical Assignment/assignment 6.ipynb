{
 "cells": [
  {
   "cell_type": "markdown",
   "id": "4a7837a6",
   "metadata": {},
   "source": [
    "1. What are escape characters, and how do you use them?"
   ]
  },
  {
   "cell_type": "markdown",
   "id": "0261b39d",
   "metadata": {},
   "source": [
    "To insert characters that are illegal in a string, use an escape character. An escape character is a backslash \\ followed by the character you want to insert."
   ]
  },
  {
   "cell_type": "markdown",
   "id": "b78f47b5",
   "metadata": {},
   "source": [
    "2. What do the escape characters n and t stand for?"
   ]
  },
  {
   "cell_type": "markdown",
   "id": "54bdf1b5",
   "metadata": {},
   "source": [
    "n for line change and t for tab space."
   ]
  },
  {
   "cell_type": "markdown",
   "id": "f6133947",
   "metadata": {},
   "source": [
    "3. What is the way to include backslash characters in a string?"
   ]
  },
  {
   "cell_type": "code",
   "execution_count": 14,
   "id": "c0ffaaea",
   "metadata": {},
   "outputs": [
    {
     "name": "stdout",
     "output_type": "stream",
     "text": [
      "This will insert one \\ (backslash).\n"
     ]
    }
   ],
   "source": [
    "#The \\\\ escape character will represent a backslash character.\n",
    "txt = \"This will insert one \\\\ (backslash).\"\n",
    "print(txt) "
   ]
  },
  {
   "cell_type": "markdown",
   "id": "d106e761",
   "metadata": {},
   "source": [
    "4. The string \"Howl's Moving Castle\" is a correct value. Why isn't the single quote character in the word Howl's not escaped a problem?"
   ]
  },
  {
   "cell_type": "markdown",
   "id": "cbdcfddb",
   "metadata": {},
   "source": [
    "The single quote in Howl's is fine because you've used double quotes to mark the beginning and end of the string."
   ]
  },
  {
   "cell_type": "markdown",
   "id": "2ec99c53",
   "metadata": {},
   "source": [
    "5. How do you write a string of newlines if you don't want to use the n character?"
   ]
  },
  {
   "cell_type": "markdown",
   "id": "fd54d5af",
   "metadata": {},
   "source": [
    "Multiline strings allow you to use newlines in strings without the \\n escape character."
   ]
  },
  {
   "cell_type": "markdown",
   "id": "b2bbbe12",
   "metadata": {},
   "source": [
    "6. What are the values of the given expressions? </br>\n",
    "'Hello, world!'[1] </br> \n",
    "'Hello, world!'[0:5] </br>\n",
    "'Hello, world!'[:5] </br>\n",
    "'Hello, world!'[3:]"
   ]
  },
  {
   "cell_type": "markdown",
   "id": "a129a043",
   "metadata": {},
   "source": [
    "The expressions evaluate to the following:\n",
    "\n",
    "'e'\n",
    "\n",
    "'Hello'\n",
    "\n",
    "'Hello'\n",
    "\n",
    "'lo world!"
   ]
  },
  {
   "cell_type": "markdown",
   "id": "d85b8553",
   "metadata": {},
   "source": [
    "7. What are the values of the following expressions? </br>\n",
    "'Hello'.upper() </br>\n",
    "'Hello'.upper().isupper() </br>\n",
    "'Hello'.upper().lower()"
   ]
  },
  {
   "cell_type": "markdown",
   "id": "153d9c75",
   "metadata": {},
   "source": [
    "The expressions evaluate to the following:\n",
    "\n",
    "'HELLO'\n",
    "\n",
    "True\n",
    "\n",
    "'hello'"
   ]
  },
  {
   "cell_type": "markdown",
   "id": "79283252",
   "metadata": {},
   "source": [
    "8. What are the values of the following expressions? </br>\n",
    "'Remember, remember, the fifth of July.'.split()</br>\n",
    "'-'.join('There can only one.'.split())"
   ]
  },
  {
   "cell_type": "markdown",
   "id": "4e1c3ee6",
   "metadata": {},
   "source": [
    "The expressions evaluate to the following:\n",
    "\n",
    "['Remember,', 'remember,', 'the', 'fifth', 'of', 'November.']\n",
    "\n",
    "'There-can-be-only-one."
   ]
  },
  {
   "cell_type": "markdown",
   "id": "d1b8cc67",
   "metadata": {},
   "source": [
    "9. What are the methods for right-justifying, left-justifying, and centering a string?"
   ]
  },
  {
   "cell_type": "markdown",
   "id": "58aa1a42",
   "metadata": {},
   "source": [
    "String alignment is frequently used in many day-day applications. Python in its language offers several functions that helps to align string. Also, offers a way to add user specified padding instead of blank space. </br>\n",
    "The rjust(), ljust(), and center() string methods, respectively\n",
    "These functions are :\n",
    "\n",
    "str.ljust(s, width[, fillchar]) </br>\n",
    "str.rjust(s, width[, fillchar]) </br>\n",
    "str.center(s, width[, fillchar]) </br>\n",
    "\n",
    "These functions respectively left-justify, right-justify and center a string in a field of given width. They return a string that is at least width characters wide, created by padding the string s with the character fillchar (default is a space) until the given width on the right, left or both sides. The string is never truncated."
   ]
  },
  {
   "cell_type": "markdown",
   "id": "10355a1f",
   "metadata": {},
   "source": [
    "10. What is the best way to remove whitespace characters from the start or end?"
   ]
  },
  {
   "cell_type": "markdown",
   "id": "14c1e946",
   "metadata": {},
   "source": [
    "Use the . strip() method to remove whitespace and characters from the beginning and the end of a string. Use the . lstrip() method to remove whitespace and characters only from the beginning of a string"
   ]
  },
  {
   "cell_type": "code",
   "execution_count": null,
   "id": "2dffd97c",
   "metadata": {},
   "outputs": [],
   "source": []
  }
 ],
 "metadata": {
  "kernelspec": {
   "display_name": "Python 3 (ipykernel)",
   "language": "python",
   "name": "python3"
  },
  "language_info": {
   "codemirror_mode": {
    "name": "ipython",
    "version": 3
   },
   "file_extension": ".py",
   "mimetype": "text/x-python",
   "name": "python",
   "nbconvert_exporter": "python",
   "pygments_lexer": "ipython3",
   "version": "3.9.7"
  }
 },
 "nbformat": 4,
 "nbformat_minor": 5
}
