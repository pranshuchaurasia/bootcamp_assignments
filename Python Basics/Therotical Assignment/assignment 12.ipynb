{
 "cells": [
  {
   "cell_type": "markdown",
   "id": "0f70628a",
   "metadata": {},
   "source": [
    "1. In what modes should the PdfFileReader() and PdfFileWriter() File objects will be opened?"
   ]
  },
  {
   "cell_type": "markdown",
   "id": "044702ff",
   "metadata": {},
   "source": [
    " For PdfFileReader() file objects should be opened in rb -> read binary mode, Whereas for PdfFileWriter() file objects should be opened in wb -> write binary mode."
   ]
  },
  {
   "cell_type": "markdown",
   "id": "dbf4b2ef",
   "metadata": {},
   "source": [
    "2. From a PdfFileReader object, how do you get a Page object for page 5?"
   ]
  },
  {
   "cell_type": "markdown",
   "id": "a5a6ce64",
   "metadata": {},
   "source": [
    "!pip install PyPDF2 </br>\n",
    "PdfFileReader class provides a method called getPage(page_no) to get a page object. </br>\n",
    "Example : </br>\n",
    "from PyPDF2 import PdfFileReader </br>\n",
    "pdf_reader = PdfFileReader(file_path) </br>\n",
    "for page in pdf_reader.getNumPages(): </br>\n",
    "     pdf_reader.getPage(page)"
   ]
  },
  {
   "cell_type": "markdown",
   "id": "c304a5a8",
   "metadata": {},
   "source": [
    "3. What PdfFileReader variable stores the number of pages in the PDF document?"
   ]
  },
  {
   "cell_type": "markdown",
   "id": "0593732e",
   "metadata": {},
   "source": [
    "#getNumPages() method of PdfFileReader class stores the no pages in a PDF document  </br>\n",
    "#Example Code: </br>\n",
    "from PyPDF2 import PdfFileReader  </br>\n",
    "pdf_reader = PdfFileReader(file_path)  </br>\n",
    "print(pdf_reader.getNumPages()) # Prints the no of pages in a input document"
   ]
  },
  {
   "cell_type": "markdown",
   "id": "2dd67a6b",
   "metadata": {},
   "source": [
    "4. If a PdfFileReader object’s PDF is encrypted with the password swordfish, what must you do before you can obtain Page objects from it?"
   ]
  },
  {
   "cell_type": "markdown",
   "id": "58a8fc35",
   "metadata": {},
   "source": [
    "If a PdfFileReader object’s PDF is encrypted with the password swordfish and you're not aware of it. first read the Pdf using the PdfFileReader Class. PdfFileReader class provides a attribute called isEncrypted to check whether a pdf is encrypted or not. the method returns true if a pdf is encrypted and vice versa.\n",
    "if pdf is encrypted use the decrypt() method provided by PdfFileReader class first then try to read the contents/pages of the pdf, else PyPDF2 will raise the following error PyPDF2.utils.PdfReadError: file has not been decrypted"
   ]
  },
  {
   "cell_type": "markdown",
   "id": "917ed93a",
   "metadata": {},
   "source": [
    "#Example: </br>\n",
    "from PyPDF2 import PdfFileReader </br>\n",
    "pdf_reader = PdfFileReader(file_path) </br>\n",
    "if pdf_reader.isEncrypted: # to check whether the pdf is encrypted or not </br>\n",
    "    pdf_reader.decrypt(\"swordfish\") </br>\n",
    "for page in pdf_reader.pages: </br>\n",
    "    print(page.extractText()) # to print the text data of a page from pdf "
   ]
  },
  {
   "cell_type": "markdown",
   "id": "9852d125",
   "metadata": {},
   "source": [
    "5. What methods do you use to rotate a page?"
   ]
  },
  {
   "cell_type": "markdown",
   "id": "db253fee",
   "metadata": {},
   "source": [
    "PyPDF2 Package provides 2 methods to rotate a page:\n",
    "\n",
    "    rotateClockWise() -> For Clockwise rotation\n",
    "    rotateCounterClockWise() -> For Counter Clockwise rotation\n",
    "\n",
    "The PyPDF2 package only allows you to rotate a page in increments of 90 degrees. You will receive an AssertionError otherwise."
   ]
  },
  {
   "cell_type": "markdown",
   "id": "b3c5c5e8",
   "metadata": {},
   "source": [
    "6. What is the difference between a Run object and a Paragraph object?"
   ]
  },
  {
   "cell_type": "markdown",
   "id": "8e0aebe0",
   "metadata": {},
   "source": [
    "The structure of a document is represented by three different data types in python-Docx. At the highest level, a Document object represents the entire document. The Document object contains a list of Paragraph objects for the paragraphs in the document. (A new paragraph begins whenever the user presses ENTER or RETURN while typing in a Word document.) Each of these Paragraph objects contains a list of one or more Run objects.\n",
    "\n",
    "The text in a Word document is more than just a string. It has font, size, color, and other styling information associated with it. A style in Word is a collection of these attributes. A Run object is a contiguous run of text with the same style. A new Run object is needed whenever the text style changes."
   ]
  },
  {
   "cell_type": "markdown",
   "id": "85dfc555",
   "metadata": {},
   "source": [
    "7. How do you obtain a list of Paragraph objects for a Document object that’s stored in a variable named doc?"
   ]
  },
  {
   "cell_type": "markdown",
   "id": "44434066",
   "metadata": {},
   "source": [
    "Example Program </br>\n",
    "from docx import Document </br>\n",
    "doc = Document(\"sample_file.docx\") # Path of the Docx file </br>\n",
    "print(doc.paragraphs) # Prints the list of Paragraph objects for a Document </br>\n",
    "for paragraph in doc.paragraphs: </br>\n",
    "    print(paragraph.text) # Prints the text in the paragraph </br>\n"
   ]
  },
  {
   "cell_type": "markdown",
   "id": "b397a1d8",
   "metadata": {},
   "source": [
    "8. What type of object has bold, underline, italic, strike, and outline variables?"
   ]
  },
  {
   "cell_type": "markdown",
   "id": "cdbfffcf",
   "metadata": {},
   "source": [
    "Run object has bold, underline, italic, strike, and outline variables. The text in a Word document is more than just a string. It has font, size, color, and other styling information associated with it.\n",
    "\n",
    "A style in Word is a collection of these attributes. A Run object is a contiguous run of text with the same style. A new Run object is needed whenever the text style changes."
   ]
  },
  {
   "cell_type": "markdown",
   "id": "8241eb74",
   "metadata": {},
   "source": [
    "9. What is the difference between False, True, and None for the bold variable?"
   ]
  },
  {
   "cell_type": "code",
   "execution_count": 4,
   "id": "b471909b",
   "metadata": {},
   "outputs": [],
   "source": [
    "bold = True  # Style Set to Bold\n",
    "bold = False # Style Not Set to Bold\n",
    "bold = None # Style is Not Applicable"
   ]
  },
  {
   "cell_type": "markdown",
   "id": "21fcbd2f",
   "metadata": {},
   "source": [
    "10. How do you create a Document object for a new Word document?"
   ]
  },
  {
   "cell_type": "markdown",
   "id": "e9b49362",
   "metadata": {},
   "source": [
    "Example Program :</br>\n",
    "from docx import Document </br>\n",
    "document = Document() </br>\n",
    "document.add_paragraph(\"iNeuron Full Stack DataScience Course\") </br>\n",
    "document.save('mydocument.docx') </br>"
   ]
  },
  {
   "cell_type": "markdown",
   "id": "d40dd92d",
   "metadata": {},
   "source": [
    "11. How do you add a paragraph with the text 'Hello, there!' to a Document object stored in a variable named doc?"
   ]
  },
  {
   "cell_type": "markdown",
   "id": "216ccb62",
   "metadata": {},
   "source": [
    "Example Program:  </br>\n",
    "from docx import Document  </br>\n",
    "doc = Document() </br>\n",
    "doc.add_paragraph('Hello, there!') </br>\n",
    "doc.save('hello.docx')"
   ]
  },
  {
   "cell_type": "markdown",
   "id": "c31a6c52",
   "metadata": {},
   "source": [
    "12. What integers represent the levels of headings available in Word documents?"
   ]
  },
  {
   "cell_type": "markdown",
   "id": "7177fae7",
   "metadata": {},
   "source": [
    "The levels for a heading in a word document can be specified by using the level attribute inside the add_heading method. There are a total of 5 levels statring for 0 t0 4. where level 0 makes a headline with the horizontal line below the text, whereas the heading level 1 is the main heading. Similarly, the other headings are sub-heading with their's font-sizes in decreasing order."
   ]
  },
  {
   "cell_type": "code",
   "execution_count": null,
   "id": "0da9e6ac",
   "metadata": {},
   "outputs": [],
   "source": []
  },
  {
   "cell_type": "code",
   "execution_count": null,
   "id": "ed9168e6",
   "metadata": {},
   "outputs": [],
   "source": []
  },
  {
   "cell_type": "code",
   "execution_count": null,
   "id": "026856f9",
   "metadata": {},
   "outputs": [],
   "source": []
  }
 ],
 "metadata": {
  "kernelspec": {
   "display_name": "Python 3 (ipykernel)",
   "language": "python",
   "name": "python3"
  },
  "language_info": {
   "codemirror_mode": {
    "name": "ipython",
    "version": 3
   },
   "file_extension": ".py",
   "mimetype": "text/x-python",
   "name": "python",
   "nbconvert_exporter": "python",
   "pygments_lexer": "ipython3",
   "version": "3.9.7"
  }
 },
 "nbformat": 4,
 "nbformat_minor": 5
}
