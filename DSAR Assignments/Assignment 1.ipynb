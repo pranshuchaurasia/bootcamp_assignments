{
 "cells": [
  {
   "cell_type": "markdown",
   "id": "012c41f1",
   "metadata": {},
   "source": [
    "#### 1. What are the applications of AI in Transportation? Briefly explain any of the two?"
   ]
  },
  {
   "cell_type": "code",
   "execution_count": null,
   "id": "5e60e618",
   "metadata": {},
   "outputs": [],
   "source": []
  },
  {
   "cell_type": "markdown",
   "id": "af45b6ed",
   "metadata": {},
   "source": [
    "#### 2. What is an example of how AI is changing transportation?"
   ]
  },
  {
   "cell_type": "code",
   "execution_count": null,
   "id": "1c734b46",
   "metadata": {},
   "outputs": [],
   "source": []
  },
  {
   "cell_type": "markdown",
   "id": "ccae4089",
   "metadata": {},
   "source": [
    "#### 3. How is AI helping transportation and logistics corporations?"
   ]
  },
  {
   "cell_type": "code",
   "execution_count": null,
   "id": "b7c533f1",
   "metadata": {},
   "outputs": [],
   "source": []
  },
  {
   "cell_type": "markdown",
   "id": "acc8bedc",
   "metadata": {},
   "source": [
    "#### 4. How AI-Powered robots help in detecting oil sleep?"
   ]
  },
  {
   "cell_type": "code",
   "execution_count": null,
   "id": "bf75a9fd",
   "metadata": {},
   "outputs": [],
   "source": []
  },
  {
   "cell_type": "markdown",
   "id": "4d73d279",
   "metadata": {},
   "source": [
    "#### 5. List out the five basic applications of AI in the OIL industry?"
   ]
  },
  {
   "cell_type": "code",
   "execution_count": null,
   "id": "ed63ee71",
   "metadata": {},
   "outputs": [],
   "source": []
  }
 ],
 "metadata": {
  "kernelspec": {
   "display_name": "Python 3 (ipykernel)",
   "language": "python",
   "name": "python3"
  },
  "language_info": {
   "codemirror_mode": {
    "name": "ipython",
    "version": 3
   },
   "file_extension": ".py",
   "mimetype": "text/x-python",
   "name": "python",
   "nbconvert_exporter": "python",
   "pygments_lexer": "ipython3",
   "version": "3.9.7"
  }
 },
 "nbformat": 4,
 "nbformat_minor": 5
}
