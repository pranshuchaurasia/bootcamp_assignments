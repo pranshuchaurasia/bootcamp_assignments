{
 "cells": [
  {
   "cell_type": "markdown",
   "id": "0ec45e07",
   "metadata": {},
   "source": [
    "#### 1. What are the 5 major common challenges of the telecom industry, and how to overcome them using AI?"
   ]
  },
  {
   "cell_type": "code",
   "execution_count": null,
   "id": "6e5e2057",
   "metadata": {},
   "outputs": [],
   "source": []
  },
  {
   "cell_type": "markdown",
   "id": "838656fe",
   "metadata": {},
   "source": [
    "#### 2. What problems is the banking industry facing now?"
   ]
  },
  {
   "cell_type": "code",
   "execution_count": null,
   "id": "35352057",
   "metadata": {},
   "outputs": [],
   "source": []
  },
  {
   "cell_type": "markdown",
   "id": "6b77be39",
   "metadata": {},
   "source": [
    "#### 3. How is artificial intelligence used in banking?"
   ]
  },
  {
   "cell_type": "code",
   "execution_count": null,
   "id": "25248c00",
   "metadata": {},
   "outputs": [],
   "source": []
  },
  {
   "cell_type": "markdown",
   "id": "d349ab33",
   "metadata": {},
   "source": [
    "#### 4. What are the examples of artificial intelligence in banking?"
   ]
  },
  {
   "cell_type": "code",
   "execution_count": null,
   "id": "8c5da0bb",
   "metadata": {},
   "outputs": [],
   "source": []
  },
  {
   "cell_type": "markdown",
   "id": "8198c54d",
   "metadata": {},
   "source": [
    "#### 5. How do insurance companies use AI to mitigate risk?"
   ]
  },
  {
   "cell_type": "code",
   "execution_count": null,
   "id": "19a8b5af",
   "metadata": {},
   "outputs": [],
   "source": []
  }
 ],
 "metadata": {
  "kernelspec": {
   "display_name": "Python 3 (ipykernel)",
   "language": "python",
   "name": "python3"
  },
  "language_info": {
   "codemirror_mode": {
    "name": "ipython",
    "version": 3
   },
   "file_extension": ".py",
   "mimetype": "text/x-python",
   "name": "python",
   "nbconvert_exporter": "python",
   "pygments_lexer": "ipython3",
   "version": "3.9.7"
  }
 },
 "nbformat": 4,
 "nbformat_minor": 5
}
