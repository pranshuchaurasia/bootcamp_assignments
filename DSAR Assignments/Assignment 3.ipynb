{
 "cells": [
  {
   "cell_type": "markdown",
   "id": "0153804f",
   "metadata": {},
   "source": [
    "#### 1. What types of AI-based business intelligence applications are currently used in insurance?"
   ]
  },
  {
   "cell_type": "markdown",
   "id": "84a8f546",
   "metadata": {},
   "source": [
    "Fraud Detection & Credit Analysis. </br>\n",
    "Customer Profiling & Segmentation. </br>\n",
    "Product & Policy Design.  </br>\n",
    "Underwriting & Claims Assessment </br>"
   ]
  },
  {
   "cell_type": "markdown",
   "id": "d97c885c",
   "metadata": {},
   "source": [
    "#### 2. What are the applications and techniques of artificial intelligence?"
   ]
  },
  {
   "cell_type": "markdown",
   "id": "3fa49179",
   "metadata": {},
   "source": [
    "Applications of Artificial Intelligence: </br>\n",
    "\n",
    "   Personalized Shopping.  </br>\n",
    "   AI-powered Assistants.  </br>\n",
    "    Fraud Prevention. </br>\n",
    "    Administrative Tasks Automated to Aid Educators.  </br>\n",
    "    Creating Smart Content.  </br>\n",
    "    Voice Assistants.  </br>\n",
    "    Personalized Learning.  </br>\n",
    "    Autonomous Vehicles. </br>"
   ]
  },
  {
   "cell_type": "markdown",
   "id": "69d8d3b4",
   "metadata": {},
   "source": [
    "#### 3. What is the difference between security and surveillance?"
   ]
  },
  {
   "cell_type": "markdown",
   "id": "337cd6a4",
   "metadata": {},
   "source": [
    "Security systems are designed to deter crime, and surveillance systems are primarily used for monitoring purposes"
   ]
  },
  {
   "cell_type": "markdown",
   "id": "9faa0207",
   "metadata": {},
   "source": [
    "#### 4. Can AI be used for security?"
   ]
  },
  {
   "cell_type": "markdown",
   "id": "69a5f976",
   "metadata": {},
   "source": [
    "\n",
    "AI helps reinforce gaps in the cybersecurity workforce </br>\n",
    "\n",
    "The pace of digital transformation is accelerating world wide. Unfortunately, the availability of trained, experienced cybersecurity professionals is not keeping pace. Artificial intelligence can fill a talent gap that sees millions of unfilled cybersecurity jobs. It is also a scalable solution to use AI for security tools, as they augment the workflows of employees. At the same time, AI frees up valuable resources by reducing time to identify and triage threats. This allows workers to focus on more complex tasks, leaving simpler, more repetitive chores to automation. </br>\n",
    "\n",
    "AI promotes faster threat identification  </br>\n",
    "\n",
    "Hunting down threats takes a great deal of time—single alert investigations can take days to complete. AI powered security tools are capable of triaging events, cutting down on time that is needed for incident response. </br>\n",
    "\n",
    "AI allows businesses to counter threat escalation </br>\n",
    "\n",
    "While some organizations have been slow to adopt the newest advancements in digital security, it’s clear that threat actors are showing no such hesitancy. Microsoft reports that “threat actors have rapidly increased in sophistication over the past year, using techniques that make them harder to spot and that threaten even the savviest targets” (source: Microsoft). AI for security empowers organizations with the technology they need to outpace this trend. </br>\n"
   ]
  },
  {
   "cell_type": "markdown",
   "id": "09d2b6c0",
   "metadata": {},
   "source": [
    "#### 5. How does AI improve security?"
   ]
  },
  {
   "cell_type": "markdown",
   "id": "f3ef3be4",
   "metadata": {},
   "source": [
    "\n",
    "   IT Asset Inventory – gaining a complete, accurate inventory of all devices, users, and applications with any access to information systems. Categorization and measurement of business criticality also play big roles in inventory. </br>\n",
    "    Threat Exposure – hackers follow trends just like everyone else, so what’s fashionable with hackers changes regularly.  AI-based cybersecurity systems can provide up to date knowledge of global and industry specific threats to help make critical prioritization decisions based not only on what could be used to attack your enterprise, but based on what is likely to be used to attack your enterprise. </br>\n",
    "    Controls Effectiveness – it is important to understand the impact of the various security tools and security processes that you have employed to maintain a strong security posture. AI can help understand where your infosec program has strengths, and where it has gaps. </br>\n",
    "    Breach Risk Prediction – Accounting for IT asset inventory, threat exposure, and controls effectiveness, AI-based systems can predict how and where you are most likely to be breached, so that you can plan for resource and tool allocation towards areas of weakness. Prescriptive insights derived from AI analysis can help you configure and enhance controls and processes to most effectively improve your organization’s cyber resilience. </br>\n",
    "    Incident response – AI powered systems can provide improved context for prioritization and response to security alerts, for fast response to incidents, and to surface root causes in order to mitigate vulnerabilities and avoid future issues. </br>\n",
    "    Explainability – Key to harnessing AI to augment human infosec teams is explainability of recommendations and analysis. This is important in getting buy-in from stakeholders across the organization, for understanding the impact of various infosec programs, and for reporting relevant information to all involved stakeholders, including end users, security operations, CISO, auditors, CIO, CEO and board of directors. </br>\n"
   ]
  },
  {
   "cell_type": "code",
   "execution_count": null,
   "id": "0b963db6",
   "metadata": {},
   "outputs": [],
   "source": []
  }
 ],
 "metadata": {
  "kernelspec": {
   "display_name": "Python 3 (ipykernel)",
   "language": "python",
   "name": "python3"
  },
  "language_info": {
   "codemirror_mode": {
    "name": "ipython",
    "version": 3
   },
   "file_extension": ".py",
   "mimetype": "text/x-python",
   "name": "python",
   "nbconvert_exporter": "python",
   "pygments_lexer": "ipython3",
   "version": "3.9.7"
  }
 },
 "nbformat": 4,
 "nbformat_minor": 5
}
