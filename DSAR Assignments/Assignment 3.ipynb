{
 "cells": [
  {
   "cell_type": "markdown",
   "id": "11c3d32d",
   "metadata": {},
   "source": [
    "#### 1. What types of AI-based business intelligence applications are currently used in insurance?"
   ]
  },
  {
   "cell_type": "code",
   "execution_count": null,
   "id": "62a23788",
   "metadata": {},
   "outputs": [],
   "source": []
  },
  {
   "cell_type": "markdown",
   "id": "848c8fbb",
   "metadata": {},
   "source": [
    "#### 2. What are the applications and techniques of artificial intelligence?"
   ]
  },
  {
   "cell_type": "code",
   "execution_count": null,
   "id": "90cc40b1",
   "metadata": {},
   "outputs": [],
   "source": []
  },
  {
   "cell_type": "markdown",
   "id": "0f1a77c8",
   "metadata": {},
   "source": [
    "#### 3. What is the difference between security and surveillance?"
   ]
  },
  {
   "cell_type": "code",
   "execution_count": null,
   "id": "f78ad792",
   "metadata": {},
   "outputs": [],
   "source": []
  },
  {
   "cell_type": "markdown",
   "id": "adaf2dbc",
   "metadata": {},
   "source": [
    "#### 4. Can AI be used for security?"
   ]
  },
  {
   "cell_type": "code",
   "execution_count": null,
   "id": "fd2052a6",
   "metadata": {},
   "outputs": [],
   "source": []
  },
  {
   "cell_type": "markdown",
   "id": "535d54ca",
   "metadata": {},
   "source": [
    "#### 5. How does AI improve security?"
   ]
  },
  {
   "cell_type": "code",
   "execution_count": null,
   "id": "b87bedc3",
   "metadata": {},
   "outputs": [],
   "source": []
  }
 ],
 "metadata": {
  "kernelspec": {
   "display_name": "Python 3 (ipykernel)",
   "language": "python",
   "name": "python3"
  },
  "language_info": {
   "codemirror_mode": {
    "name": "ipython",
    "version": 3
   },
   "file_extension": ".py",
   "mimetype": "text/x-python",
   "name": "python",
   "nbconvert_exporter": "python",
   "pygments_lexer": "ipython3",
   "version": "3.9.7"
  }
 },
 "nbformat": 4,
 "nbformat_minor": 5
}
